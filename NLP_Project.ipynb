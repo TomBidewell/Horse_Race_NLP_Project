{
  "cells": [
    {
      "cell_type": "markdown",
      "metadata": {
        "id": "view-in-github",
        "colab_type": "text"
      },
      "source": [
        "<a href=\"https://colab.research.google.com/github/TomBidewell/NLP_Project/blob/main/NLP_Project.ipynb\" target=\"_parent\"><img src=\"https://colab.research.google.com/assets/colab-badge.svg\" alt=\"Open In Colab\"/></a>"
      ]
    },
    {
      "cell_type": "markdown",
      "metadata": {
        "id": "evQtKko217uG"
      },
      "source": [
        "#TF_IDF Embeddings\n"
      ]
    },
    {
      "cell_type": "markdown",
      "metadata": {
        "id": "T7r6ScsCwY6d"
      },
      "source": [
        "##Imports"
      ]
    },
    {
      "cell_type": "code",
      "execution_count": null,
      "metadata": {
        "colab": {
          "base_uri": "https://localhost:8080/"
        },
        "id": "dihU050n6o8A",
        "outputId": "63b01e22-e73e-439c-d645-c0d23b1b5827"
      },
      "outputs": [
        {
          "output_type": "stream",
          "name": "stdout",
          "text": [
            "Collecting transformers\n",
            "  Downloading transformers-4.30.2-py3-none-any.whl (7.2 MB)\n",
            "\u001b[2K     \u001b[90m━━━━━━━━━━━━━━━━━━━━━━━━━━━━━━━━━━━━━━━━\u001b[0m \u001b[32m7.2/7.2 MB\u001b[0m \u001b[31m104.9 MB/s\u001b[0m eta \u001b[36m0:00:00\u001b[0m\n",
            "\u001b[?25hRequirement already satisfied: filelock in /usr/local/lib/python3.10/dist-packages (from transformers) (3.12.2)\n",
            "Collecting huggingface-hub<1.0,>=0.14.1 (from transformers)\n",
            "  Downloading huggingface_hub-0.16.4-py3-none-any.whl (268 kB)\n",
            "\u001b[2K     \u001b[90m━━━━━━━━━━━━━━━━━━━━━━━━━━━━━━━━━━━━━━\u001b[0m \u001b[32m268.8/268.8 kB\u001b[0m \u001b[31m23.3 MB/s\u001b[0m eta \u001b[36m0:00:00\u001b[0m\n",
            "\u001b[?25hRequirement already satisfied: numpy>=1.17 in /usr/local/lib/python3.10/dist-packages (from transformers) (1.22.4)\n",
            "Requirement already satisfied: packaging>=20.0 in /usr/local/lib/python3.10/dist-packages (from transformers) (23.1)\n",
            "Requirement already satisfied: pyyaml>=5.1 in /usr/local/lib/python3.10/dist-packages (from transformers) (6.0)\n",
            "Requirement already satisfied: regex!=2019.12.17 in /usr/local/lib/python3.10/dist-packages (from transformers) (2022.10.31)\n",
            "Requirement already satisfied: requests in /usr/local/lib/python3.10/dist-packages (from transformers) (2.27.1)\n",
            "Collecting tokenizers!=0.11.3,<0.14,>=0.11.1 (from transformers)\n",
            "  Downloading tokenizers-0.13.3-cp310-cp310-manylinux_2_17_x86_64.manylinux2014_x86_64.whl (7.8 MB)\n",
            "\u001b[2K     \u001b[90m━━━━━━━━━━━━━━━━━━━━━━━━━━━━━━━━━━━━━━━━\u001b[0m \u001b[32m7.8/7.8 MB\u001b[0m \u001b[31m92.9 MB/s\u001b[0m eta \u001b[36m0:00:00\u001b[0m\n",
            "\u001b[?25hCollecting safetensors>=0.3.1 (from transformers)\n",
            "  Downloading safetensors-0.3.1-cp310-cp310-manylinux_2_17_x86_64.manylinux2014_x86_64.whl (1.3 MB)\n",
            "\u001b[2K     \u001b[90m━━━━━━━━━━━━━━━━━━━━━━━━━━━━━━━━━━━━━━━━\u001b[0m \u001b[32m1.3/1.3 MB\u001b[0m \u001b[31m86.7 MB/s\u001b[0m eta \u001b[36m0:00:00\u001b[0m\n",
            "\u001b[?25hRequirement already satisfied: tqdm>=4.27 in /usr/local/lib/python3.10/dist-packages (from transformers) (4.65.0)\n",
            "Requirement already satisfied: fsspec in /usr/local/lib/python3.10/dist-packages (from huggingface-hub<1.0,>=0.14.1->transformers) (2023.6.0)\n",
            "Requirement already satisfied: typing-extensions>=3.7.4.3 in /usr/local/lib/python3.10/dist-packages (from huggingface-hub<1.0,>=0.14.1->transformers) (4.7.1)\n",
            "Requirement already satisfied: urllib3<1.27,>=1.21.1 in /usr/local/lib/python3.10/dist-packages (from requests->transformers) (1.26.16)\n",
            "Requirement already satisfied: certifi>=2017.4.17 in /usr/local/lib/python3.10/dist-packages (from requests->transformers) (2023.5.7)\n",
            "Requirement already satisfied: charset-normalizer~=2.0.0 in /usr/local/lib/python3.10/dist-packages (from requests->transformers) (2.0.12)\n",
            "Requirement already satisfied: idna<4,>=2.5 in /usr/local/lib/python3.10/dist-packages (from requests->transformers) (3.4)\n",
            "Installing collected packages: tokenizers, safetensors, huggingface-hub, transformers\n",
            "Successfully installed huggingface-hub-0.16.4 safetensors-0.3.1 tokenizers-0.13.3 transformers-4.30.2\n"
          ]
        }
      ],
      "source": [
        "!pip install transformers"
      ]
    },
    {
      "cell_type": "code",
      "execution_count": null,
      "metadata": {
        "id": "cTOHMEAA2krV"
      },
      "outputs": [],
      "source": [
        "import pandas as pd\n",
        "import numpy as np\n",
        "from sklearn.feature_extraction.text import TfidfVectorizer\n",
        "from sklearn.feature_extraction.text import CountVectorizer\n",
        "import torch\n",
        "from torch import nn, optim\n",
        "from torch.utils.data import Dataset, DataLoader\n",
        "from torch.nn.utils.rnn import pad_sequence\n",
        "from sklearn.model_selection import train_test_split\n",
        "import torch.nn.functional as F\n",
        "from itertools import combinations\n",
        "from collections import defaultdict\n",
        "from sklearn.metrics import ndcg_score\n",
        "from transformers import BertPreTrainedModel, BertModel\n",
        "from transformers import AutoConfig, AutoTokenizer\n",
        "import matplotlib.pyplot as plt\n",
        "import seaborn as sns\n",
        "from sklearn.preprocessing import MinMaxScaler\n",
        "from tqdm import tqdm"
      ]
    },
    {
      "cell_type": "code",
      "execution_count": null,
      "metadata": {
        "colab": {
          "base_uri": "https://localhost:8080/",
          "height": 73
        },
        "id": "XoSJ7jps2sLS",
        "outputId": "52bb118a-c3c6-43c5-874a-99892a0ab2e7"
      },
      "outputs": [
        {
          "output_type": "display_data",
          "data": {
            "text/plain": [
              "<IPython.core.display.HTML object>"
            ],
            "text/html": [
              "\n",
              "     <input type=\"file\" id=\"files-6b1fb49c-51b3-4336-b561-d2f46cb317f9\" name=\"files[]\" multiple disabled\n",
              "        style=\"border:none\" />\n",
              "     <output id=\"result-6b1fb49c-51b3-4336-b561-d2f46cb317f9\">\n",
              "      Upload widget is only available when the cell has been executed in the\n",
              "      current browser session. Please rerun this cell to enable.\n",
              "      </output>\n",
              "      <script>// Copyright 2017 Google LLC\n",
              "//\n",
              "// Licensed under the Apache License, Version 2.0 (the \"License\");\n",
              "// you may not use this file except in compliance with the License.\n",
              "// You may obtain a copy of the License at\n",
              "//\n",
              "//      http://www.apache.org/licenses/LICENSE-2.0\n",
              "//\n",
              "// Unless required by applicable law or agreed to in writing, software\n",
              "// distributed under the License is distributed on an \"AS IS\" BASIS,\n",
              "// WITHOUT WARRANTIES OR CONDITIONS OF ANY KIND, either express or implied.\n",
              "// See the License for the specific language governing permissions and\n",
              "// limitations under the License.\n",
              "\n",
              "/**\n",
              " * @fileoverview Helpers for google.colab Python module.\n",
              " */\n",
              "(function(scope) {\n",
              "function span(text, styleAttributes = {}) {\n",
              "  const element = document.createElement('span');\n",
              "  element.textContent = text;\n",
              "  for (const key of Object.keys(styleAttributes)) {\n",
              "    element.style[key] = styleAttributes[key];\n",
              "  }\n",
              "  return element;\n",
              "}\n",
              "\n",
              "// Max number of bytes which will be uploaded at a time.\n",
              "const MAX_PAYLOAD_SIZE = 100 * 1024;\n",
              "\n",
              "function _uploadFiles(inputId, outputId) {\n",
              "  const steps = uploadFilesStep(inputId, outputId);\n",
              "  const outputElement = document.getElementById(outputId);\n",
              "  // Cache steps on the outputElement to make it available for the next call\n",
              "  // to uploadFilesContinue from Python.\n",
              "  outputElement.steps = steps;\n",
              "\n",
              "  return _uploadFilesContinue(outputId);\n",
              "}\n",
              "\n",
              "// This is roughly an async generator (not supported in the browser yet),\n",
              "// where there are multiple asynchronous steps and the Python side is going\n",
              "// to poll for completion of each step.\n",
              "// This uses a Promise to block the python side on completion of each step,\n",
              "// then passes the result of the previous step as the input to the next step.\n",
              "function _uploadFilesContinue(outputId) {\n",
              "  const outputElement = document.getElementById(outputId);\n",
              "  const steps = outputElement.steps;\n",
              "\n",
              "  const next = steps.next(outputElement.lastPromiseValue);\n",
              "  return Promise.resolve(next.value.promise).then((value) => {\n",
              "    // Cache the last promise value to make it available to the next\n",
              "    // step of the generator.\n",
              "    outputElement.lastPromiseValue = value;\n",
              "    return next.value.response;\n",
              "  });\n",
              "}\n",
              "\n",
              "/**\n",
              " * Generator function which is called between each async step of the upload\n",
              " * process.\n",
              " * @param {string} inputId Element ID of the input file picker element.\n",
              " * @param {string} outputId Element ID of the output display.\n",
              " * @return {!Iterable<!Object>} Iterable of next steps.\n",
              " */\n",
              "function* uploadFilesStep(inputId, outputId) {\n",
              "  const inputElement = document.getElementById(inputId);\n",
              "  inputElement.disabled = false;\n",
              "\n",
              "  const outputElement = document.getElementById(outputId);\n",
              "  outputElement.innerHTML = '';\n",
              "\n",
              "  const pickedPromise = new Promise((resolve) => {\n",
              "    inputElement.addEventListener('change', (e) => {\n",
              "      resolve(e.target.files);\n",
              "    });\n",
              "  });\n",
              "\n",
              "  const cancel = document.createElement('button');\n",
              "  inputElement.parentElement.appendChild(cancel);\n",
              "  cancel.textContent = 'Cancel upload';\n",
              "  const cancelPromise = new Promise((resolve) => {\n",
              "    cancel.onclick = () => {\n",
              "      resolve(null);\n",
              "    };\n",
              "  });\n",
              "\n",
              "  // Wait for the user to pick the files.\n",
              "  const files = yield {\n",
              "    promise: Promise.race([pickedPromise, cancelPromise]),\n",
              "    response: {\n",
              "      action: 'starting',\n",
              "    }\n",
              "  };\n",
              "\n",
              "  cancel.remove();\n",
              "\n",
              "  // Disable the input element since further picks are not allowed.\n",
              "  inputElement.disabled = true;\n",
              "\n",
              "  if (!files) {\n",
              "    return {\n",
              "      response: {\n",
              "        action: 'complete',\n",
              "      }\n",
              "    };\n",
              "  }\n",
              "\n",
              "  for (const file of files) {\n",
              "    const li = document.createElement('li');\n",
              "    li.append(span(file.name, {fontWeight: 'bold'}));\n",
              "    li.append(span(\n",
              "        `(${file.type || 'n/a'}) - ${file.size} bytes, ` +\n",
              "        `last modified: ${\n",
              "            file.lastModifiedDate ? file.lastModifiedDate.toLocaleDateString() :\n",
              "                                    'n/a'} - `));\n",
              "    const percent = span('0% done');\n",
              "    li.appendChild(percent);\n",
              "\n",
              "    outputElement.appendChild(li);\n",
              "\n",
              "    const fileDataPromise = new Promise((resolve) => {\n",
              "      const reader = new FileReader();\n",
              "      reader.onload = (e) => {\n",
              "        resolve(e.target.result);\n",
              "      };\n",
              "      reader.readAsArrayBuffer(file);\n",
              "    });\n",
              "    // Wait for the data to be ready.\n",
              "    let fileData = yield {\n",
              "      promise: fileDataPromise,\n",
              "      response: {\n",
              "        action: 'continue',\n",
              "      }\n",
              "    };\n",
              "\n",
              "    // Use a chunked sending to avoid message size limits. See b/62115660.\n",
              "    let position = 0;\n",
              "    do {\n",
              "      const length = Math.min(fileData.byteLength - position, MAX_PAYLOAD_SIZE);\n",
              "      const chunk = new Uint8Array(fileData, position, length);\n",
              "      position += length;\n",
              "\n",
              "      const base64 = btoa(String.fromCharCode.apply(null, chunk));\n",
              "      yield {\n",
              "        response: {\n",
              "          action: 'append',\n",
              "          file: file.name,\n",
              "          data: base64,\n",
              "        },\n",
              "      };\n",
              "\n",
              "      let percentDone = fileData.byteLength === 0 ?\n",
              "          100 :\n",
              "          Math.round((position / fileData.byteLength) * 100);\n",
              "      percent.textContent = `${percentDone}% done`;\n",
              "\n",
              "    } while (position < fileData.byteLength);\n",
              "  }\n",
              "\n",
              "  // All done.\n",
              "  yield {\n",
              "    response: {\n",
              "      action: 'complete',\n",
              "    }\n",
              "  };\n",
              "}\n",
              "\n",
              "scope.google = scope.google || {};\n",
              "scope.google.colab = scope.google.colab || {};\n",
              "scope.google.colab._files = {\n",
              "  _uploadFiles,\n",
              "  _uploadFilesContinue,\n",
              "};\n",
              "})(self);\n",
              "</script> "
            ]
          },
          "metadata": {}
        },
        {
          "output_type": "stream",
          "name": "stdout",
          "text": [
            "Saving results_training.csv to results_training.csv\n"
          ]
        }
      ],
      "source": [
        "#downloading the predictions and results csv files\n",
        "from google.colab import files\n",
        "\n",
        "\n",
        "uploaded = files.upload()"
      ]
    },
    {
      "cell_type": "markdown",
      "metadata": {
        "id": "EhxYK5Y_2Cb9"
      },
      "source": [
        "##Data Processing\n",
        "\n",
        "Here we take our scraped data: the predictions (textual) and the numerical data and convert the predictions to a BoW representation for the 100 words in the vocabulary with the highest tf_idf scores"
      ]
    },
    {
      "cell_type": "code",
      "source": [
        "from google.colab import drive\n",
        "drive.mount('/content/drive')"
      ],
      "metadata": {
        "id": "XrpNLsOxbzXu"
      },
      "execution_count": null,
      "outputs": []
    },
    {
      "cell_type": "code",
      "execution_count": null,
      "metadata": {
        "id": "dzVYyKSp5DmL"
      },
      "outputs": [],
      "source": [
        "#preparing predictions csv\n",
        "df_preds = pd.read_csv(\"predictions_training.csv\")\n",
        "\n",
        "\n",
        "# clean the data\n",
        "df_preds['Race Location'] = df_preds['Race Location'].str.replace(r'\\(.*?\\)', '', regex=True)\n",
        "\n",
        "df_preds = df_preds[df_preds['Date'] != 'Date']  #deleting rows with the column titles\n",
        "df_preds = df_preds.reset_index()\n",
        "df_preds = df_preds.drop(\"index\", axis = 1)  #dropping index columns\n",
        "df_preds = df_preds.replace('[\\'NaN\\']', np.nan)\n",
        "\n",
        "#just want horse-race id and the predictions\n",
        "df_preds['horse_race_id'] = df_preds['Date']+ \"_\" + df_preds['Time'] + \"_\" + df_preds[\"Race Location\"]+ \"_\" + df_preds[\"Horse Name\"] #create horse id\n",
        "df_preds = df_preds.drop([\"Date\", \"Time\", \"Race Location\", \"Going\", \"Horse Name\"], axis = 1) #drop all data now stored in horse id\n",
        "df_preds = df_preds.drop_duplicates()\n",
        "df_preds.Prediction = df_preds.Prediction.astype(str)\n",
        "df_preds.horse_race_id = df_preds.horse_race_id.astype(str)\n",
        "df_preds = df_preds.replace('-', np.nan)\n",
        "\n",
        "for i in df_preds.columns[df_preds.isnull().any(axis=0)]:     # replace nan with the mean of a column\n",
        "    df_preds[i].fillna(pd.to_numeric(df_preds[i]).mean(),inplace=True)\n",
        "\n",
        "\n",
        "cols_to_norm = ['Horse Age', 'Horse Top Speed', 'Horse RPRS Ranking', 'Horse ORS Ranking', 'Horse Weight', 'Jockey Last 14', 'Trainer Last 14']\n",
        "\n",
        "normalized_df_preds = df_preds[cols_to_norm].astype(float)  #standardize the data\n",
        "normalized_df_preds = (normalized_df_preds-normalized_df_preds.mean())/normalized_df_preds.std()\n",
        "\n",
        "df_preds[cols_to_norm] = normalized_df_preds\n",
        "\n",
        "df_preds['horse_race_id'] = df_preds['horse_race_id'].apply(lambda x: x.strip())\n",
        "\n"
      ]
    },
    {
      "cell_type": "code",
      "execution_count": null,
      "metadata": {
        "id": "-98mgt1P5tcd"
      },
      "outputs": [],
      "source": [
        "#prepare the results csv\n",
        "df_res = pd.read_csv(\"results_training.csv\")\n",
        "\n",
        "df_res['Race Location'] = df_res['Race Location'].str.replace(r'\\(.*?\\)', '', regex=True)\n",
        "\n",
        "\n",
        "#as above\n",
        "df_res = df_res[df_res['Date'] != 'Date']\n",
        "df_res = df_res.drop_duplicates()\n",
        "df_res = df_res.reset_index()\n",
        "df_res = df_res.drop(\"index\", axis = 1)\n",
        "df_res['horse_race_id'] = df_res['Date']+ \"_\" + df_res['Time'] + \"_\" + df_res[\"Race Location\"]+ \"_\" + df_res[\"Horse Name\"]\n",
        "df_res = df_res[[\"horse_race_id\", \"Position\"]]\n",
        "\n",
        "def get_type(x):  #sometimes position is text ie NR for the horse being a Non_Runne, want to penalise this so give a high score\n",
        "    try:\n",
        "        return float(x)\n",
        "    except:\n",
        "        return 100\n",
        "\n",
        "\n",
        "df_res['Position'] = df_res['Position'].apply(get_type) #apply the above function to Position values\n",
        "df_res.reset_index(inplace = True)\n",
        "df_res = df_res.drop([\"index\"], axis = 1)\n",
        "df_res.horse_race_id = df_res.horse_race_id.astype(str)\n",
        "df_res['horse_race_id'] = df_res['horse_race_id'].apply(lambda x: x.strip())"
      ]
    },
    {
      "cell_type": "code",
      "execution_count": null,
      "metadata": {
        "id": "y1hV_zvH6JMy"
      },
      "outputs": [],
      "source": [
        "#merge the two to get our data\n",
        "df = pd.merge(df_preds, df_res, on='horse_race_id')\n",
        "\n",
        "df['Race_Id'] = df['horse_race_id'].apply(lambda x: \"_\".join(x.split(\"_\")[:3]))\n",
        "df = df.drop_duplicates(subset='horse_race_id')\n",
        "df = df.reset_index()\n",
        "df = df.drop(\"index\", axis = 1)  #dropping index columns\n",
        "df = df.drop(\"Unnamed: 0\", axis = 1)\n",
        "df = df.head(100)"
      ]
    },
    {
      "cell_type": "code",
      "execution_count": null,
      "metadata": {
        "colab": {
          "base_uri": "https://localhost:8080/"
        },
        "id": "c_9yEhq6Fh_l",
        "outputId": "b24a7906-4663-4f3b-b8ba-79f6e5420ce1"
      },
      "outputs": [
        {
          "output_type": "stream",
          "name": "stderr",
          "text": [
            "<ipython-input-8-584b2841ef84>:4: FutureWarning: The default value of regex will change from True to False in a future version.\n",
            "  df[\"Prediction\"] = df['Prediction'].str.replace('[^\\w\\s]','')   #remove punctuation\n"
          ]
        }
      ],
      "source": [
        "#clean text data:\n",
        "\n",
        "df['Prediction'] = df['Prediction'].apply(lambda x: x.lower())  #make all lowercase\n",
        "df[\"Prediction\"] = df['Prediction'].str.replace('[^\\w\\s]','')   #remove punctuation"
      ]
    },
    {
      "cell_type": "code",
      "execution_count": null,
      "metadata": {
        "colab": {
          "base_uri": "https://localhost:8080/",
          "height": 355
        },
        "id": "Zcf8C4Oq6tSx",
        "outputId": "4c110388-db1b-438f-8ca3-d540bdb157aa"
      },
      "outputs": [
        {
          "output_type": "execute_result",
          "data": {
            "text/plain": [
              "   Horse Age  Horse Top Speed  Horse RPRS Ranking  Horse ORS Ranking  \\\n",
              "0  -0.991158        -2.903467           -0.033883       2.115579e-01   \n",
              "1  -0.991158         0.101572           -0.331542       1.651578e-01   \n",
              "2  -0.991158         0.487934            0.008640      -6.593846e-16   \n",
              "3  -0.991158         0.230359           -0.118928      -6.593846e-16   \n",
              "4  -0.991158         0.573792            0.178731       4.435582e-01   \n",
              "\n",
              "   Horse Weight                                         Prediction  \\\n",
              "0     -0.191188  22 over 7f both wins on aw remains open to fur...   \n",
              "1     -0.390760  ran well in france on final 2yo start more is ...   \n",
              "2     -0.390760  one of two runners for charlie appleby made al...   \n",
              "3     -0.390760  solid third in the convivial maiden then won w...   \n",
              "4     -0.390760  major player on rprs and looks likely to give ...   \n",
              "\n",
              "   Jockey Last 14  Trainer Last 14                            horse_race_id  \\\n",
              "0        0.878183         0.702050  18-04-2023_1:50_Newmarket_Think Climate   \n",
              "1       -1.087826        -0.896703  18-04-2023_1:50_Newmarket_Awtaad Prince   \n",
              "2       -0.301422         2.140927  18-04-2023_1:50_Newmarket_City Of Kings   \n",
              "3        0.976483        -0.097326       18-04-2023_1:50_Newmarket_Hi Royal   \n",
              "4       -0.498023         0.622112        18-04-2023_1:50_Newmarket_Holguin   \n",
              "\n",
              "   Position                    Race_Id  \n",
              "0       9.0  18-04-2023_1:50_Newmarket  \n",
              "1       7.0  18-04-2023_1:50_Newmarket  \n",
              "2       6.0  18-04-2023_1:50_Newmarket  \n",
              "3       4.0  18-04-2023_1:50_Newmarket  \n",
              "4       2.0  18-04-2023_1:50_Newmarket  "
            ],
            "text/html": [
              "\n",
              "\n",
              "  <div id=\"df-1b0687de-df48-4cf0-af97-c7ab9c488e31\">\n",
              "    <div class=\"colab-df-container\">\n",
              "      <div>\n",
              "<style scoped>\n",
              "    .dataframe tbody tr th:only-of-type {\n",
              "        vertical-align: middle;\n",
              "    }\n",
              "\n",
              "    .dataframe tbody tr th {\n",
              "        vertical-align: top;\n",
              "    }\n",
              "\n",
              "    .dataframe thead th {\n",
              "        text-align: right;\n",
              "    }\n",
              "</style>\n",
              "<table border=\"1\" class=\"dataframe\">\n",
              "  <thead>\n",
              "    <tr style=\"text-align: right;\">\n",
              "      <th></th>\n",
              "      <th>Horse Age</th>\n",
              "      <th>Horse Top Speed</th>\n",
              "      <th>Horse RPRS Ranking</th>\n",
              "      <th>Horse ORS Ranking</th>\n",
              "      <th>Horse Weight</th>\n",
              "      <th>Prediction</th>\n",
              "      <th>Jockey Last 14</th>\n",
              "      <th>Trainer Last 14</th>\n",
              "      <th>horse_race_id</th>\n",
              "      <th>Position</th>\n",
              "      <th>Race_Id</th>\n",
              "    </tr>\n",
              "  </thead>\n",
              "  <tbody>\n",
              "    <tr>\n",
              "      <th>0</th>\n",
              "      <td>-0.991158</td>\n",
              "      <td>-2.903467</td>\n",
              "      <td>-0.033883</td>\n",
              "      <td>2.115579e-01</td>\n",
              "      <td>-0.191188</td>\n",
              "      <td>22 over 7f both wins on aw remains open to fur...</td>\n",
              "      <td>0.878183</td>\n",
              "      <td>0.702050</td>\n",
              "      <td>18-04-2023_1:50_Newmarket_Think Climate</td>\n",
              "      <td>9.0</td>\n",
              "      <td>18-04-2023_1:50_Newmarket</td>\n",
              "    </tr>\n",
              "    <tr>\n",
              "      <th>1</th>\n",
              "      <td>-0.991158</td>\n",
              "      <td>0.101572</td>\n",
              "      <td>-0.331542</td>\n",
              "      <td>1.651578e-01</td>\n",
              "      <td>-0.390760</td>\n",
              "      <td>ran well in france on final 2yo start more is ...</td>\n",
              "      <td>-1.087826</td>\n",
              "      <td>-0.896703</td>\n",
              "      <td>18-04-2023_1:50_Newmarket_Awtaad Prince</td>\n",
              "      <td>7.0</td>\n",
              "      <td>18-04-2023_1:50_Newmarket</td>\n",
              "    </tr>\n",
              "    <tr>\n",
              "      <th>2</th>\n",
              "      <td>-0.991158</td>\n",
              "      <td>0.487934</td>\n",
              "      <td>0.008640</td>\n",
              "      <td>-6.593846e-16</td>\n",
              "      <td>-0.390760</td>\n",
              "      <td>one of two runners for charlie appleby made al...</td>\n",
              "      <td>-0.301422</td>\n",
              "      <td>2.140927</td>\n",
              "      <td>18-04-2023_1:50_Newmarket_City Of Kings</td>\n",
              "      <td>6.0</td>\n",
              "      <td>18-04-2023_1:50_Newmarket</td>\n",
              "    </tr>\n",
              "    <tr>\n",
              "      <th>3</th>\n",
              "      <td>-0.991158</td>\n",
              "      <td>0.230359</td>\n",
              "      <td>-0.118928</td>\n",
              "      <td>-6.593846e-16</td>\n",
              "      <td>-0.390760</td>\n",
              "      <td>solid third in the convivial maiden then won w...</td>\n",
              "      <td>0.976483</td>\n",
              "      <td>-0.097326</td>\n",
              "      <td>18-04-2023_1:50_Newmarket_Hi Royal</td>\n",
              "      <td>4.0</td>\n",
              "      <td>18-04-2023_1:50_Newmarket</td>\n",
              "    </tr>\n",
              "    <tr>\n",
              "      <th>4</th>\n",
              "      <td>-0.991158</td>\n",
              "      <td>0.573792</td>\n",
              "      <td>0.178731</td>\n",
              "      <td>4.435582e-01</td>\n",
              "      <td>-0.390760</td>\n",
              "      <td>major player on rprs and looks likely to give ...</td>\n",
              "      <td>-0.498023</td>\n",
              "      <td>0.622112</td>\n",
              "      <td>18-04-2023_1:50_Newmarket_Holguin</td>\n",
              "      <td>2.0</td>\n",
              "      <td>18-04-2023_1:50_Newmarket</td>\n",
              "    </tr>\n",
              "  </tbody>\n",
              "</table>\n",
              "</div>\n",
              "      <button class=\"colab-df-convert\" onclick=\"convertToInteractive('df-1b0687de-df48-4cf0-af97-c7ab9c488e31')\"\n",
              "              title=\"Convert this dataframe to an interactive table.\"\n",
              "              style=\"display:none;\">\n",
              "\n",
              "  <svg xmlns=\"http://www.w3.org/2000/svg\" height=\"24px\"viewBox=\"0 0 24 24\"\n",
              "       width=\"24px\">\n",
              "    <path d=\"M0 0h24v24H0V0z\" fill=\"none\"/>\n",
              "    <path d=\"M18.56 5.44l.94 2.06.94-2.06 2.06-.94-2.06-.94-.94-2.06-.94 2.06-2.06.94zm-11 1L8.5 8.5l.94-2.06 2.06-.94-2.06-.94L8.5 2.5l-.94 2.06-2.06.94zm10 10l.94 2.06.94-2.06 2.06-.94-2.06-.94-.94-2.06-.94 2.06-2.06.94z\"/><path d=\"M17.41 7.96l-1.37-1.37c-.4-.4-.92-.59-1.43-.59-.52 0-1.04.2-1.43.59L10.3 9.45l-7.72 7.72c-.78.78-.78 2.05 0 2.83L4 21.41c.39.39.9.59 1.41.59.51 0 1.02-.2 1.41-.59l7.78-7.78 2.81-2.81c.8-.78.8-2.07 0-2.86zM5.41 20L4 18.59l7.72-7.72 1.47 1.35L5.41 20z\"/>\n",
              "  </svg>\n",
              "      </button>\n",
              "\n",
              "\n",
              "\n",
              "    <div id=\"df-486bf1b2-900e-4aef-a5e0-87bd208dde6a\">\n",
              "      <button class=\"colab-df-quickchart\" onclick=\"quickchart('df-486bf1b2-900e-4aef-a5e0-87bd208dde6a')\"\n",
              "              title=\"Suggest charts.\"\n",
              "              style=\"display:none;\">\n",
              "\n",
              "<svg xmlns=\"http://www.w3.org/2000/svg\" height=\"24px\"viewBox=\"0 0 24 24\"\n",
              "     width=\"24px\">\n",
              "    <g>\n",
              "        <path d=\"M19 3H5c-1.1 0-2 .9-2 2v14c0 1.1.9 2 2 2h14c1.1 0 2-.9 2-2V5c0-1.1-.9-2-2-2zM9 17H7v-7h2v7zm4 0h-2V7h2v10zm4 0h-2v-4h2v4z\"/>\n",
              "    </g>\n",
              "</svg>\n",
              "      </button>\n",
              "    </div>\n",
              "\n",
              "<style>\n",
              "  .colab-df-quickchart {\n",
              "    background-color: #E8F0FE;\n",
              "    border: none;\n",
              "    border-radius: 50%;\n",
              "    cursor: pointer;\n",
              "    display: none;\n",
              "    fill: #1967D2;\n",
              "    height: 32px;\n",
              "    padding: 0 0 0 0;\n",
              "    width: 32px;\n",
              "  }\n",
              "\n",
              "  .colab-df-quickchart:hover {\n",
              "    background-color: #E2EBFA;\n",
              "    box-shadow: 0px 1px 2px rgba(60, 64, 67, 0.3), 0px 1px 3px 1px rgba(60, 64, 67, 0.15);\n",
              "    fill: #174EA6;\n",
              "  }\n",
              "\n",
              "  [theme=dark] .colab-df-quickchart {\n",
              "    background-color: #3B4455;\n",
              "    fill: #D2E3FC;\n",
              "  }\n",
              "\n",
              "  [theme=dark] .colab-df-quickchart:hover {\n",
              "    background-color: #434B5C;\n",
              "    box-shadow: 0px 1px 3px 1px rgba(0, 0, 0, 0.15);\n",
              "    filter: drop-shadow(0px 1px 2px rgba(0, 0, 0, 0.3));\n",
              "    fill: #FFFFFF;\n",
              "  }\n",
              "</style>\n",
              "\n",
              "    <script>\n",
              "      async function quickchart(key) {\n",
              "        const containerElement = document.querySelector('#' + key);\n",
              "        const charts = await google.colab.kernel.invokeFunction(\n",
              "            'suggestCharts', [key], {});\n",
              "      }\n",
              "    </script>\n",
              "\n",
              "      <script>\n",
              "\n",
              "function displayQuickchartButton(domScope) {\n",
              "  let quickchartButtonEl =\n",
              "    domScope.querySelector('#df-486bf1b2-900e-4aef-a5e0-87bd208dde6a button.colab-df-quickchart');\n",
              "  quickchartButtonEl.style.display =\n",
              "    google.colab.kernel.accessAllowed ? 'block' : 'none';\n",
              "}\n",
              "\n",
              "        displayQuickchartButton(document);\n",
              "      </script>\n",
              "      <style>\n",
              "    .colab-df-container {\n",
              "      display:flex;\n",
              "      flex-wrap:wrap;\n",
              "      gap: 12px;\n",
              "    }\n",
              "\n",
              "    .colab-df-convert {\n",
              "      background-color: #E8F0FE;\n",
              "      border: none;\n",
              "      border-radius: 50%;\n",
              "      cursor: pointer;\n",
              "      display: none;\n",
              "      fill: #1967D2;\n",
              "      height: 32px;\n",
              "      padding: 0 0 0 0;\n",
              "      width: 32px;\n",
              "    }\n",
              "\n",
              "    .colab-df-convert:hover {\n",
              "      background-color: #E2EBFA;\n",
              "      box-shadow: 0px 1px 2px rgba(60, 64, 67, 0.3), 0px 1px 3px 1px rgba(60, 64, 67, 0.15);\n",
              "      fill: #174EA6;\n",
              "    }\n",
              "\n",
              "    [theme=dark] .colab-df-convert {\n",
              "      background-color: #3B4455;\n",
              "      fill: #D2E3FC;\n",
              "    }\n",
              "\n",
              "    [theme=dark] .colab-df-convert:hover {\n",
              "      background-color: #434B5C;\n",
              "      box-shadow: 0px 1px 3px 1px rgba(0, 0, 0, 0.15);\n",
              "      filter: drop-shadow(0px 1px 2px rgba(0, 0, 0, 0.3));\n",
              "      fill: #FFFFFF;\n",
              "    }\n",
              "  </style>\n",
              "\n",
              "      <script>\n",
              "        const buttonEl =\n",
              "          document.querySelector('#df-1b0687de-df48-4cf0-af97-c7ab9c488e31 button.colab-df-convert');\n",
              "        buttonEl.style.display =\n",
              "          google.colab.kernel.accessAllowed ? 'block' : 'none';\n",
              "\n",
              "        async function convertToInteractive(key) {\n",
              "          const element = document.querySelector('#df-1b0687de-df48-4cf0-af97-c7ab9c488e31');\n",
              "          const dataTable =\n",
              "            await google.colab.kernel.invokeFunction('convertToInteractive',\n",
              "                                                     [key], {});\n",
              "          if (!dataTable) return;\n",
              "\n",
              "          const docLinkHtml = 'Like what you see? Visit the ' +\n",
              "            '<a target=\"_blank\" href=https://colab.research.google.com/notebooks/data_table.ipynb>data table notebook</a>'\n",
              "            + ' to learn more about interactive tables.';\n",
              "          element.innerHTML = '';\n",
              "          dataTable['output_type'] = 'display_data';\n",
              "          await google.colab.output.renderOutput(dataTable, element);\n",
              "          const docLink = document.createElement('div');\n",
              "          docLink.innerHTML = docLinkHtml;\n",
              "          element.appendChild(docLink);\n",
              "        }\n",
              "      </script>\n",
              "    </div>\n",
              "  </div>\n"
            ]
          },
          "metadata": {},
          "execution_count": 9
        }
      ],
      "source": [
        "df.to_csv(\"data.csv\")\n",
        "df.head()"
      ]
    },
    {
      "cell_type": "code",
      "execution_count": null,
      "metadata": {
        "id": "t1N25Bih6WGi"
      },
      "outputs": [],
      "source": [
        "#embed the predicitons with the tf_idf BoW representation\n",
        "\n",
        "def add_tf_idf(df, n):\n",
        "    tfidf_vectorizer = TfidfVectorizer()\n",
        "\n",
        "    # Fit and transform the \"Prediction\" column\n",
        "    tfidf_separate = tfidf_vectorizer.fit_transform(df[\"Prediction\"])\n",
        "\n",
        "    # Get the vocabulary and its corresponding indices\n",
        "    vocab = tfidf_vectorizer.vocabulary_\n",
        "    vocab_indices = tfidf_vectorizer.get_feature_names_out()\n",
        "\n",
        "    # Sum the tf-idf values for each word for each document (i.e., summing the columns of the tfidf_separate matrix above)\n",
        "    combined_tfidf = tfidf_separate.toarray().sum(axis=0)\n",
        "\n",
        "    # Sort the combined_tfidf values in descending order and take the first n indices\n",
        "    indices_n_highest = combined_tfidf.argsort()[::-1][:n]\n",
        "\n",
        "    # Get the words corresponding to the highest tf-idf values\n",
        "    words_n_highest = [vocab_indices[i] for i in indices_n_highest]\n",
        "\n",
        "    #perform BOW using the highest tfidf words as our set of words\n",
        "    bow_counter = CountVectorizer()\n",
        "    bow_counter.fit(words_n_highest)\n",
        "    bow_applied = bow_counter.transform(df['Prediction'])\n",
        "\n",
        "    #add these new values to the dataframe\n",
        "    df = pd.concat([df.reset_index(drop=True), pd.DataFrame(bow_applied.toarray()).reset_index(drop=True)], axis=1)\n",
        "    return(df)\n",
        "\n",
        "#add this new data, can go higher than 100\n",
        "df = add_tf_idf(df, 100)\n",
        "\n",
        "#drop the prediction sentences\n",
        "df = df.drop('Prediction', axis = 1)\n",
        "\n",
        "df.to_csv(\"tf_idf_data.csv\")"
      ]
    },
    {
      "cell_type": "code",
      "execution_count": null,
      "metadata": {
        "colab": {
          "base_uri": "https://localhost:8080/",
          "height": 349
        },
        "id": "x6deLPFr7MUQ",
        "outputId": "f811823d-fd9c-4269-9c29-6cd37fce40fb"
      },
      "outputs": [
        {
          "output_type": "execute_result",
          "data": {
            "text/plain": [
              "   Horse Age  Horse Top Speed  Horse RPRS Ranking  Horse ORS Ranking  \\\n",
              "0  -0.991158        -2.903467           -0.033883       2.115579e-01   \n",
              "1  -0.991158         0.101572           -0.331542       1.651578e-01   \n",
              "2  -0.991158         0.487934            0.008640      -6.593846e-16   \n",
              "3  -0.991158         0.230359           -0.118928      -6.593846e-16   \n",
              "4  -0.991158         0.573792            0.178731       4.435582e-01   \n",
              "\n",
              "   Horse Weight  Jockey Last 14  Trainer Last 14  \\\n",
              "0     -0.191188        0.878183         0.702050   \n",
              "1     -0.390760       -1.087826        -0.896703   \n",
              "2     -0.390760       -0.301422         2.140927   \n",
              "3     -0.390760        0.976483        -0.097326   \n",
              "4     -0.390760       -0.498023         0.622112   \n",
              "\n",
              "                             horse_race_id  Position  \\\n",
              "0  18-04-2023_1:50_Newmarket_Think Climate       9.0   \n",
              "1  18-04-2023_1:50_Newmarket_Awtaad Prince       7.0   \n",
              "2  18-04-2023_1:50_Newmarket_City Of Kings       6.0   \n",
              "3       18-04-2023_1:50_Newmarket_Hi Royal       4.0   \n",
              "4        18-04-2023_1:50_Newmarket_Holguin       2.0   \n",
              "\n",
              "                     Race_Id  ...  90  91  92  93  94  95  96  97  98  99  \n",
              "0  18-04-2023_1:50_Newmarket  ...   0   0   0   0   1   0   0   0   0   0  \n",
              "1  18-04-2023_1:50_Newmarket  ...   0   0   0   0   0   0   0   0   0   0  \n",
              "2  18-04-2023_1:50_Newmarket  ...   0   0   0   0   0   0   0   0   0   0  \n",
              "3  18-04-2023_1:50_Newmarket  ...   0   0   0   0   0   0   1   0   1   0  \n",
              "4  18-04-2023_1:50_Newmarket  ...   0   0   0   0   0   0   0   0   0   0  \n",
              "\n",
              "[5 rows x 110 columns]"
            ],
            "text/html": [
              "\n",
              "\n",
              "  <div id=\"df-32eb1ad7-7f20-4db5-9856-644be36a748e\">\n",
              "    <div class=\"colab-df-container\">\n",
              "      <div>\n",
              "<style scoped>\n",
              "    .dataframe tbody tr th:only-of-type {\n",
              "        vertical-align: middle;\n",
              "    }\n",
              "\n",
              "    .dataframe tbody tr th {\n",
              "        vertical-align: top;\n",
              "    }\n",
              "\n",
              "    .dataframe thead th {\n",
              "        text-align: right;\n",
              "    }\n",
              "</style>\n",
              "<table border=\"1\" class=\"dataframe\">\n",
              "  <thead>\n",
              "    <tr style=\"text-align: right;\">\n",
              "      <th></th>\n",
              "      <th>Horse Age</th>\n",
              "      <th>Horse Top Speed</th>\n",
              "      <th>Horse RPRS Ranking</th>\n",
              "      <th>Horse ORS Ranking</th>\n",
              "      <th>Horse Weight</th>\n",
              "      <th>Jockey Last 14</th>\n",
              "      <th>Trainer Last 14</th>\n",
              "      <th>horse_race_id</th>\n",
              "      <th>Position</th>\n",
              "      <th>Race_Id</th>\n",
              "      <th>...</th>\n",
              "      <th>90</th>\n",
              "      <th>91</th>\n",
              "      <th>92</th>\n",
              "      <th>93</th>\n",
              "      <th>94</th>\n",
              "      <th>95</th>\n",
              "      <th>96</th>\n",
              "      <th>97</th>\n",
              "      <th>98</th>\n",
              "      <th>99</th>\n",
              "    </tr>\n",
              "  </thead>\n",
              "  <tbody>\n",
              "    <tr>\n",
              "      <th>0</th>\n",
              "      <td>-0.991158</td>\n",
              "      <td>-2.903467</td>\n",
              "      <td>-0.033883</td>\n",
              "      <td>2.115579e-01</td>\n",
              "      <td>-0.191188</td>\n",
              "      <td>0.878183</td>\n",
              "      <td>0.702050</td>\n",
              "      <td>18-04-2023_1:50_Newmarket_Think Climate</td>\n",
              "      <td>9.0</td>\n",
              "      <td>18-04-2023_1:50_Newmarket</td>\n",
              "      <td>...</td>\n",
              "      <td>0</td>\n",
              "      <td>0</td>\n",
              "      <td>0</td>\n",
              "      <td>0</td>\n",
              "      <td>1</td>\n",
              "      <td>0</td>\n",
              "      <td>0</td>\n",
              "      <td>0</td>\n",
              "      <td>0</td>\n",
              "      <td>0</td>\n",
              "    </tr>\n",
              "    <tr>\n",
              "      <th>1</th>\n",
              "      <td>-0.991158</td>\n",
              "      <td>0.101572</td>\n",
              "      <td>-0.331542</td>\n",
              "      <td>1.651578e-01</td>\n",
              "      <td>-0.390760</td>\n",
              "      <td>-1.087826</td>\n",
              "      <td>-0.896703</td>\n",
              "      <td>18-04-2023_1:50_Newmarket_Awtaad Prince</td>\n",
              "      <td>7.0</td>\n",
              "      <td>18-04-2023_1:50_Newmarket</td>\n",
              "      <td>...</td>\n",
              "      <td>0</td>\n",
              "      <td>0</td>\n",
              "      <td>0</td>\n",
              "      <td>0</td>\n",
              "      <td>0</td>\n",
              "      <td>0</td>\n",
              "      <td>0</td>\n",
              "      <td>0</td>\n",
              "      <td>0</td>\n",
              "      <td>0</td>\n",
              "    </tr>\n",
              "    <tr>\n",
              "      <th>2</th>\n",
              "      <td>-0.991158</td>\n",
              "      <td>0.487934</td>\n",
              "      <td>0.008640</td>\n",
              "      <td>-6.593846e-16</td>\n",
              "      <td>-0.390760</td>\n",
              "      <td>-0.301422</td>\n",
              "      <td>2.140927</td>\n",
              "      <td>18-04-2023_1:50_Newmarket_City Of Kings</td>\n",
              "      <td>6.0</td>\n",
              "      <td>18-04-2023_1:50_Newmarket</td>\n",
              "      <td>...</td>\n",
              "      <td>0</td>\n",
              "      <td>0</td>\n",
              "      <td>0</td>\n",
              "      <td>0</td>\n",
              "      <td>0</td>\n",
              "      <td>0</td>\n",
              "      <td>0</td>\n",
              "      <td>0</td>\n",
              "      <td>0</td>\n",
              "      <td>0</td>\n",
              "    </tr>\n",
              "    <tr>\n",
              "      <th>3</th>\n",
              "      <td>-0.991158</td>\n",
              "      <td>0.230359</td>\n",
              "      <td>-0.118928</td>\n",
              "      <td>-6.593846e-16</td>\n",
              "      <td>-0.390760</td>\n",
              "      <td>0.976483</td>\n",
              "      <td>-0.097326</td>\n",
              "      <td>18-04-2023_1:50_Newmarket_Hi Royal</td>\n",
              "      <td>4.0</td>\n",
              "      <td>18-04-2023_1:50_Newmarket</td>\n",
              "      <td>...</td>\n",
              "      <td>0</td>\n",
              "      <td>0</td>\n",
              "      <td>0</td>\n",
              "      <td>0</td>\n",
              "      <td>0</td>\n",
              "      <td>0</td>\n",
              "      <td>1</td>\n",
              "      <td>0</td>\n",
              "      <td>1</td>\n",
              "      <td>0</td>\n",
              "    </tr>\n",
              "    <tr>\n",
              "      <th>4</th>\n",
              "      <td>-0.991158</td>\n",
              "      <td>0.573792</td>\n",
              "      <td>0.178731</td>\n",
              "      <td>4.435582e-01</td>\n",
              "      <td>-0.390760</td>\n",
              "      <td>-0.498023</td>\n",
              "      <td>0.622112</td>\n",
              "      <td>18-04-2023_1:50_Newmarket_Holguin</td>\n",
              "      <td>2.0</td>\n",
              "      <td>18-04-2023_1:50_Newmarket</td>\n",
              "      <td>...</td>\n",
              "      <td>0</td>\n",
              "      <td>0</td>\n",
              "      <td>0</td>\n",
              "      <td>0</td>\n",
              "      <td>0</td>\n",
              "      <td>0</td>\n",
              "      <td>0</td>\n",
              "      <td>0</td>\n",
              "      <td>0</td>\n",
              "      <td>0</td>\n",
              "    </tr>\n",
              "  </tbody>\n",
              "</table>\n",
              "<p>5 rows × 110 columns</p>\n",
              "</div>\n",
              "      <button class=\"colab-df-convert\" onclick=\"convertToInteractive('df-32eb1ad7-7f20-4db5-9856-644be36a748e')\"\n",
              "              title=\"Convert this dataframe to an interactive table.\"\n",
              "              style=\"display:none;\">\n",
              "\n",
              "  <svg xmlns=\"http://www.w3.org/2000/svg\" height=\"24px\"viewBox=\"0 0 24 24\"\n",
              "       width=\"24px\">\n",
              "    <path d=\"M0 0h24v24H0V0z\" fill=\"none\"/>\n",
              "    <path d=\"M18.56 5.44l.94 2.06.94-2.06 2.06-.94-2.06-.94-.94-2.06-.94 2.06-2.06.94zm-11 1L8.5 8.5l.94-2.06 2.06-.94-2.06-.94L8.5 2.5l-.94 2.06-2.06.94zm10 10l.94 2.06.94-2.06 2.06-.94-2.06-.94-.94-2.06-.94 2.06-2.06.94z\"/><path d=\"M17.41 7.96l-1.37-1.37c-.4-.4-.92-.59-1.43-.59-.52 0-1.04.2-1.43.59L10.3 9.45l-7.72 7.72c-.78.78-.78 2.05 0 2.83L4 21.41c.39.39.9.59 1.41.59.51 0 1.02-.2 1.41-.59l7.78-7.78 2.81-2.81c.8-.78.8-2.07 0-2.86zM5.41 20L4 18.59l7.72-7.72 1.47 1.35L5.41 20z\"/>\n",
              "  </svg>\n",
              "      </button>\n",
              "\n",
              "\n",
              "\n",
              "    <div id=\"df-d4c836a4-cd61-47f4-a283-1a361290a9c8\">\n",
              "      <button class=\"colab-df-quickchart\" onclick=\"quickchart('df-d4c836a4-cd61-47f4-a283-1a361290a9c8')\"\n",
              "              title=\"Suggest charts.\"\n",
              "              style=\"display:none;\">\n",
              "\n",
              "<svg xmlns=\"http://www.w3.org/2000/svg\" height=\"24px\"viewBox=\"0 0 24 24\"\n",
              "     width=\"24px\">\n",
              "    <g>\n",
              "        <path d=\"M19 3H5c-1.1 0-2 .9-2 2v14c0 1.1.9 2 2 2h14c1.1 0 2-.9 2-2V5c0-1.1-.9-2-2-2zM9 17H7v-7h2v7zm4 0h-2V7h2v10zm4 0h-2v-4h2v4z\"/>\n",
              "    </g>\n",
              "</svg>\n",
              "      </button>\n",
              "    </div>\n",
              "\n",
              "<style>\n",
              "  .colab-df-quickchart {\n",
              "    background-color: #E8F0FE;\n",
              "    border: none;\n",
              "    border-radius: 50%;\n",
              "    cursor: pointer;\n",
              "    display: none;\n",
              "    fill: #1967D2;\n",
              "    height: 32px;\n",
              "    padding: 0 0 0 0;\n",
              "    width: 32px;\n",
              "  }\n",
              "\n",
              "  .colab-df-quickchart:hover {\n",
              "    background-color: #E2EBFA;\n",
              "    box-shadow: 0px 1px 2px rgba(60, 64, 67, 0.3), 0px 1px 3px 1px rgba(60, 64, 67, 0.15);\n",
              "    fill: #174EA6;\n",
              "  }\n",
              "\n",
              "  [theme=dark] .colab-df-quickchart {\n",
              "    background-color: #3B4455;\n",
              "    fill: #D2E3FC;\n",
              "  }\n",
              "\n",
              "  [theme=dark] .colab-df-quickchart:hover {\n",
              "    background-color: #434B5C;\n",
              "    box-shadow: 0px 1px 3px 1px rgba(0, 0, 0, 0.15);\n",
              "    filter: drop-shadow(0px 1px 2px rgba(0, 0, 0, 0.3));\n",
              "    fill: #FFFFFF;\n",
              "  }\n",
              "</style>\n",
              "\n",
              "    <script>\n",
              "      async function quickchart(key) {\n",
              "        const containerElement = document.querySelector('#' + key);\n",
              "        const charts = await google.colab.kernel.invokeFunction(\n",
              "            'suggestCharts', [key], {});\n",
              "      }\n",
              "    </script>\n",
              "\n",
              "      <script>\n",
              "\n",
              "function displayQuickchartButton(domScope) {\n",
              "  let quickchartButtonEl =\n",
              "    domScope.querySelector('#df-d4c836a4-cd61-47f4-a283-1a361290a9c8 button.colab-df-quickchart');\n",
              "  quickchartButtonEl.style.display =\n",
              "    google.colab.kernel.accessAllowed ? 'block' : 'none';\n",
              "}\n",
              "\n",
              "        displayQuickchartButton(document);\n",
              "      </script>\n",
              "      <style>\n",
              "    .colab-df-container {\n",
              "      display:flex;\n",
              "      flex-wrap:wrap;\n",
              "      gap: 12px;\n",
              "    }\n",
              "\n",
              "    .colab-df-convert {\n",
              "      background-color: #E8F0FE;\n",
              "      border: none;\n",
              "      border-radius: 50%;\n",
              "      cursor: pointer;\n",
              "      display: none;\n",
              "      fill: #1967D2;\n",
              "      height: 32px;\n",
              "      padding: 0 0 0 0;\n",
              "      width: 32px;\n",
              "    }\n",
              "\n",
              "    .colab-df-convert:hover {\n",
              "      background-color: #E2EBFA;\n",
              "      box-shadow: 0px 1px 2px rgba(60, 64, 67, 0.3), 0px 1px 3px 1px rgba(60, 64, 67, 0.15);\n",
              "      fill: #174EA6;\n",
              "    }\n",
              "\n",
              "    [theme=dark] .colab-df-convert {\n",
              "      background-color: #3B4455;\n",
              "      fill: #D2E3FC;\n",
              "    }\n",
              "\n",
              "    [theme=dark] .colab-df-convert:hover {\n",
              "      background-color: #434B5C;\n",
              "      box-shadow: 0px 1px 3px 1px rgba(0, 0, 0, 0.15);\n",
              "      filter: drop-shadow(0px 1px 2px rgba(0, 0, 0, 0.3));\n",
              "      fill: #FFFFFF;\n",
              "    }\n",
              "  </style>\n",
              "\n",
              "      <script>\n",
              "        const buttonEl =\n",
              "          document.querySelector('#df-32eb1ad7-7f20-4db5-9856-644be36a748e button.colab-df-convert');\n",
              "        buttonEl.style.display =\n",
              "          google.colab.kernel.accessAllowed ? 'block' : 'none';\n",
              "\n",
              "        async function convertToInteractive(key) {\n",
              "          const element = document.querySelector('#df-32eb1ad7-7f20-4db5-9856-644be36a748e');\n",
              "          const dataTable =\n",
              "            await google.colab.kernel.invokeFunction('convertToInteractive',\n",
              "                                                     [key], {});\n",
              "          if (!dataTable) return;\n",
              "\n",
              "          const docLinkHtml = 'Like what you see? Visit the ' +\n",
              "            '<a target=\"_blank\" href=https://colab.research.google.com/notebooks/data_table.ipynb>data table notebook</a>'\n",
              "            + ' to learn more about interactive tables.';\n",
              "          element.innerHTML = '';\n",
              "          dataTable['output_type'] = 'display_data';\n",
              "          await google.colab.output.renderOutput(dataTable, element);\n",
              "          const docLink = document.createElement('div');\n",
              "          docLink.innerHTML = docLinkHtml;\n",
              "          element.appendChild(docLink);\n",
              "        }\n",
              "      </script>\n",
              "    </div>\n",
              "  </div>\n"
            ]
          },
          "metadata": {},
          "execution_count": 11
        }
      ],
      "source": [
        "df.head()"
      ]
    },
    {
      "cell_type": "markdown",
      "metadata": {
        "id": "z6MWsIz67SNP"
      },
      "source": [
        "##Pointwise (Regression)\n",
        "A regression model taking in a horse's embeddings and trying to predict its position."
      ]
    },
    {
      "cell_type": "code",
      "execution_count": null,
      "metadata": {
        "id": "yf5GSQRp7Uyw"
      },
      "outputs": [],
      "source": [
        "ptwise_df = pd.read_csv(\"tf_idf_data.csv\")\n",
        "#clean data\n",
        "ptwise_df = ptwise_df.drop(ptwise_df.columns[0], axis = 1)\n",
        "ptwise_df = ptwise_df.drop(['horse_race_id', 'Race_Id'], axis = 1)\n",
        "\n",
        "#create datasets for train test and val data\n",
        "class PointwiseDataset(Dataset):\n",
        "    def __init__(self, dataframe):\n",
        "        self.data = dataframe\n",
        "\n",
        "    def __len__(self):\n",
        "        return len(self.data)\n",
        "\n",
        "    def __getitem__(self, idx):\n",
        "        sample = self.data.iloc[idx]\n",
        "\n",
        "        # Extract the input features and target\n",
        "        features = torch.tensor(sample.drop('Position').values, dtype=torch.float32)\n",
        "        target = torch.tensor(sample['Position'], dtype=torch.float32)\n",
        "\n",
        "        return features, target\n",
        "\n",
        "# Split the dataframe into train, validation, and test sets\n",
        "pt_train_df, pt_test_df = train_test_split(ptwise_df, test_size=0.2, random_state=42)\n",
        "pt_train_df, pt_val_df = train_test_split(pt_train_df, test_size=0.2, random_state=42)\n",
        "\n",
        "# Create the train, validation, and test datasets\n",
        "pt_train_dataset = PointwiseDataset(pt_train_df)\n",
        "pt_val_dataset = PointwiseDataset(pt_val_df)\n",
        "pt_test_dataset = PointwiseDataset(pt_test_df)\n",
        "\n",
        "batch_size = 32\n",
        "pt_train_dataloader = DataLoader(pt_train_dataset, batch_size=batch_size, shuffle=True)\n",
        "pt_val_dataloader = DataLoader(pt_val_dataset, batch_size=batch_size)\n",
        "pt_test_dataloader = DataLoader(pt_test_dataset, batch_size=batch_size)"
      ]
    },
    {
      "cell_type": "code",
      "execution_count": null,
      "metadata": {
        "id": "JwnEJQveD3YF"
      },
      "outputs": [],
      "source": [
        "#define our model\n",
        "\n",
        "class Pointwise(nn.Module):  # inheriting from nn.Module\n",
        "\n",
        "    def __init__(self, emb_size, hidden_layer_size, dropout):\n",
        "        \"\"\" - d is the size of the vectors representing the objects to classify\n",
        "            - hidden_layer_size is ... the size of the hidden layer\n",
        "        \"\"\"\n",
        "        super(Pointwise, self).__init__()\n",
        "        self.linear_1 = nn.Linear(emb_size, hidden_layer_size)\n",
        "        self.linear_2 = nn.Linear(hidden_layer_size, 1)\n",
        "        self.dropout = nn.Dropout(dropout)\n",
        "        self.relu = nn.ReLU()\n",
        "\n",
        "    def forward(self, X):\n",
        "        out = self.linear_1(X)  # out shape (batch_size, hidden_layer_size)\n",
        "        out = self.relu(out)  # same shape\n",
        "        out = self.dropout(out)\n",
        "        out = self.linear_2(out)  # out shape (batch_size, nb_classes)\n",
        "        return out  # no need to reshape the output\n",
        "\n",
        "emb_size = 107\n",
        "hidden_layer_size = 200\n",
        "dropout = 0.2\n",
        "\n",
        "pointwise = Pointwise(emb_size, hidden_layer_size, dropout)"
      ]
    },
    {
      "cell_type": "code",
      "execution_count": null,
      "metadata": {
        "colab": {
          "base_uri": "https://localhost:8080/"
        },
        "id": "Go6dDZ-_Eg98",
        "outputId": "e64d6ac2-72ea-45ad-eb1a-20cf63107f8b"
      },
      "outputs": [
        {
          "name": "stderr",
          "output_type": "stream",
          "text": [
            "100%|██████████| 146/146 [00:03<00:00, 42.86batch/s]\n"
          ]
        },
        {
          "name": "stdout",
          "output_type": "stream",
          "text": [
            "Epoch 1/1000, Loss: 508.7369662441619\n",
            "Validation Loss: 494.18363633026945 \n",
            "\n"
          ]
        },
        {
          "name": "stderr",
          "output_type": "stream",
          "text": [
            "100%|██████████| 146/146 [00:03<00:00, 48.33batch/s]\n"
          ]
        },
        {
          "name": "stdout",
          "output_type": "stream",
          "text": [
            "Epoch 2/1000, Loss: 446.784600035785\n",
            "Validation Loss: 486.54910288630305 \n",
            "\n"
          ]
        },
        {
          "name": "stderr",
          "output_type": "stream",
          "text": [
            "100%|██████████| 146/146 [00:03<00:00, 48.05batch/s]\n"
          ]
        },
        {
          "name": "stdout",
          "output_type": "stream",
          "text": [
            "Epoch 3/1000, Loss: 438.34720068108544\n",
            "Validation Loss: 483.7591822856181 \n",
            "\n"
          ]
        },
        {
          "name": "stderr",
          "output_type": "stream",
          "text": [
            "100%|██████████| 146/146 [00:03<00:00, 38.24batch/s]\n"
          ]
        },
        {
          "name": "stdout",
          "output_type": "stream",
          "text": [
            "Epoch 4/1000, Loss: 432.2318009154437\n",
            "Validation Loss: 480.6885499696474 \n",
            "\n"
          ]
        },
        {
          "name": "stderr",
          "output_type": "stream",
          "text": [
            "100%|██████████| 146/146 [00:02<00:00, 49.15batch/s]\n"
          ]
        },
        {
          "name": "stdout",
          "output_type": "stream",
          "text": [
            "Epoch 5/1000, Loss: 428.2526635470456\n",
            "Validation Loss: 480.1289576968631 \n",
            "\n"
          ]
        },
        {
          "name": "stderr",
          "output_type": "stream",
          "text": [
            "100%|██████████| 146/146 [00:02<00:00, 49.71batch/s]\n"
          ]
        },
        {
          "name": "stdout",
          "output_type": "stream",
          "text": [
            "Epoch 6/1000, Loss: 424.147105230044\n",
            "Validation Loss: 480.5925911568307 \n",
            "\n"
          ]
        },
        {
          "name": "stderr",
          "output_type": "stream",
          "text": [
            "100%|██████████| 146/146 [00:03<00:00, 39.99batch/s]\n"
          ]
        },
        {
          "name": "stdout",
          "output_type": "stream",
          "text": [
            "Epoch 7/1000, Loss: 420.4597669105007\n",
            "Validation Loss: 480.5207772126069 \n",
            "\n"
          ]
        },
        {
          "name": "stderr",
          "output_type": "stream",
          "text": [
            "100%|██████████| 146/146 [00:02<00:00, 49.05batch/s]\n"
          ]
        },
        {
          "name": "stdout",
          "output_type": "stream",
          "text": [
            "Epoch 8/1000, Loss: 416.01900986449357\n",
            "Validation Loss: 481.5027891623007 \n",
            "\n"
          ]
        },
        {
          "name": "stderr",
          "output_type": "stream",
          "text": [
            "100%|██████████| 146/146 [00:02<00:00, 49.54batch/s]\n"
          ]
        },
        {
          "name": "stdout",
          "output_type": "stream",
          "text": [
            "Epoch 9/1000, Loss: 413.388486208981\n",
            "Validation Loss: 481.6837014894228 \n",
            "\n"
          ]
        },
        {
          "name": "stderr",
          "output_type": "stream",
          "text": [
            "100%|██████████| 146/146 [00:03<00:00, 47.73batch/s]\n"
          ]
        },
        {
          "name": "stdout",
          "output_type": "stream",
          "text": [
            "Epoch 10/1000, Loss: 410.75761136616745\n",
            "Validation Loss: 482.4965492454735 \n",
            "\n"
          ]
        },
        {
          "name": "stderr",
          "output_type": "stream",
          "text": [
            "100%|██████████| 146/146 [00:03<00:00, 38.94batch/s]\n"
          ]
        },
        {
          "name": "stdout",
          "output_type": "stream",
          "text": [
            "Epoch 11/1000, Loss: 407.7273079989708\n",
            "Validation Loss: 483.37525022352065 \n",
            "\n",
            "Early Stopping\n",
            "Average Test Loss: 477.8223374408224\n"
          ]
        }
      ],
      "source": [
        "#training\n",
        "\n",
        "num_epochs = 1000\n",
        "learning_rate = 0.001\n",
        "\n",
        "# Define the loss function and optimizer\n",
        "loss_function = nn.MSELoss()\n",
        "optimizer = optim.Adam(pointwise.parameters(), lr=learning_rate)\n",
        "\n",
        "\n",
        "pt_training_loss = []\n",
        "pt_validation_loss = []\n",
        "# Training loop\n",
        "for epoch in range(num_epochs):\n",
        "    pointwise.train()  # Set the model to training mode\n",
        "\n",
        "    running_loss = 0.0\n",
        "\n",
        "    # Training the model\n",
        "\n",
        "    with tqdm(pt_train_dataloader, unit=\"batch\") as tepoch:\n",
        "\n",
        "        for features, y_true in tepoch:\n",
        "\n",
        "            optimizer.zero_grad()\n",
        "\n",
        "            y_pred = pointwise(features)\n",
        "\n",
        "            loss = loss_function(y_pred, y_true.unsqueeze(1))\n",
        "\n",
        "            loss.backward()\n",
        "            optimizer.step()\n",
        "\n",
        "            running_loss += loss.item()\n",
        "\n",
        "    # Print the average loss for the epoch\n",
        "    average_loss = running_loss / len(pt_train_dataloader)\n",
        "    print(f\"Epoch {epoch + 1}/{num_epochs}, Loss: {average_loss}\")\n",
        "    pt_training_loss.append(average_loss)\n",
        "\n",
        "    # Validation loop\n",
        "    pointwise.eval()  # Set the model to evaluation mode\n",
        "    val_loss = 0.0\n",
        "    with torch.no_grad():\n",
        "        for features, y_true in pt_val_dataloader:\n",
        "            y_pred = pointwise(features)\n",
        "            loss = loss_function(y_pred, y_true.unsqueeze(1))\n",
        "            val_loss += loss.item()\n",
        "\n",
        "    # Print the validation loss for the epoch.\n",
        "    average_val_loss = val_loss / len(pt_val_dataloader)\n",
        "    print(f\"Validation Loss: {average_val_loss} \\n\")\n",
        "    pt_validation_loss.append(average_val_loss)\n",
        "\n",
        "    if epoch == 0:\n",
        "        previous_dev_loss = average_val_loss\n",
        "        dev_loss_counter = 0\n",
        "    else:\n",
        "      if average_val_loss >= previous_dev_loss:\n",
        "          dev_loss_counter += 1\n",
        "          previous_dev_loss = average_val_loss\n",
        "          if dev_loss_counter > 3:\n",
        "              print(\"Early Stopping\")\n",
        "              break\n",
        "      else:\n",
        "          previous_dev_loss = average_val_loss\n",
        "          dev_loss_counter = 0\n",
        "\n",
        "# Testing loop\n",
        "pointwise.eval()  # Set the model to evaluation mode\n",
        "test_loss = 0.0\n",
        "with torch.no_grad():\n",
        "    for features, y_true in pt_test_dataloader:\n",
        "        y_pred = pointwise(features)\n",
        "        loss = loss_function(y_pred, y_true.unsqueeze(1))\n",
        "        test_loss += loss.item()\n",
        "\n",
        "# Print the average test loss\n",
        "average_test_loss = test_loss / len(pt_test_dataloader)\n",
        "print(f\"Average Test Loss: {average_test_loss}\")"
      ]
    },
    {
      "cell_type": "code",
      "execution_count": null,
      "metadata": {
        "colab": {
          "base_uri": "https://localhost:8080/",
          "height": 472
        },
        "id": "egVIAadzevkG",
        "outputId": "f7153b22-a394-4cce-85c1-e8a808e73789"
      },
      "outputs": [
        {
          "data": {
            "image/png": "[encoded data removed]",
            "text/plain": [
              "<Figure size 640x480 with 1 Axes>"
            ]
          },
          "metadata": {},
          "output_type": "display_data"
        }
      ],
      "source": [
        "plt.plot(pt_training_loss, label = 'Training')\n",
        "plt.plot(pt_validation_loss, label = 'Validation')\n",
        "\n",
        "plt.title(\"TF_IDF Pointwise\")\n",
        "plt.xlabel(\"Epochs\")\n",
        "plt.ylabel(\"Loss\")\n",
        "plt.legend()\n",
        "plt.show()"
      ]
    },
    {
      "cell_type": "markdown",
      "metadata": {
        "id": "gwMDjkFeHxSh"
      },
      "source": [
        "##Pairwise (Classification)\n",
        "For every race, we take every combination of pairs of horses and predict which of the two will win. Although this is binary classification and logistic regression could be used, given the above model is regression, we wanted to try classification. Note for every pair of horses, we subtract their embeddings to keep the number of parameters low (rather than concatenating the embeddings)."
      ]
    },
    {
      "cell_type": "markdown",
      "metadata": {
        "id": "iybErZu0IS3a"
      },
      "source": [
        "###Data Preparation for Binary\n"
      ]
    },
    {
      "cell_type": "code",
      "execution_count": null,
      "metadata": {
        "id": "vR2QOm23IYA-"
      },
      "outputs": [],
      "source": [
        "df = pd.read_csv(\"tf_idf_data.csv\")\n",
        "df = df.drop(df.columns[0], axis = 1)\n",
        "\n",
        "# Initialize a defaultdict to store the results\n",
        "results_dict = defaultdict(list)\n",
        "\n",
        "# Get unique race IDs\n",
        "race_ids = df['Race_Id'].unique()\n",
        "\n",
        "# Iterate over race IDs\n",
        "for race_id in race_ids:\n",
        "    # Get the rows for the current race ID\n",
        "    rows = df[df['Race_Id'] == race_id]\n",
        "\n",
        "    # Iterate over all combinations of horse IDs in the current race\n",
        "    for i, j in combinations(rows.index, 2):\n",
        "        # Store the common information\n",
        "        results_dict['Race_Id'].append(race_id)\n",
        "        results_dict['Position_x'].append(rows.loc[i, 'Position'])\n",
        "        results_dict['Position_y'].append(rows.loc[j, 'Position'])\n",
        "\n",
        "        # Calculate the differences between the values for each column\n",
        "        # Calculate the differences between the values for each column\n",
        "        for col_name in [col for col in rows.columns if col not in ['horse_race_id', 'Position', 'Race_Id']]:\n",
        "            col_diff = float(rows.loc[i, col_name]) - float(rows.loc[j, col_name])\n",
        "            results_dict[col_name].append(col_diff)\n",
        "\n",
        "# Create a DataFrame from the dictionary\n",
        "results_df = pd.DataFrame(results_dict)\n",
        "\n",
        "def positions(x):\n",
        "    if x['Position_x'] > x['Position_y']: #if horse 1 finishes later than horse 2\n",
        "        return 0\n",
        "    else:\n",
        "        return 1\n",
        "\n",
        "results_df['comparison'] = results_df[['Position_x', 'Position_y']].apply(positions, axis = 1)\n",
        "\n",
        "df = results_df.drop(['Race_Id', 'Position_x', 'Position_y'], axis = 1)"
      ]
    },
    {
      "cell_type": "code",
      "execution_count": null,
      "metadata": {
        "colab": {
          "base_uri": "https://localhost:8080/",
          "height": 236
        },
        "id": "1YkY4Ot4IxUp",
        "outputId": "d0b168be-199e-47c3-f85c-0a7dd9be907d"
      },
      "outputs": [
        {
          "data": {
            "text/html": [
              "\n",
              "  <div id=\"df-2735976f-1b00-449e-8329-f64457837e2e\">\n",
              "    <div class=\"colab-df-container\">\n",
              "      <div>\n",
              "<style scoped>\n",
              "    .dataframe tbody tr th:only-of-type {\n",
              "        vertical-align: middle;\n",
              "    }\n",
              "\n",
              "    .dataframe tbody tr th {\n",
              "        vertical-align: top;\n",
              "    }\n",
              "\n",
              "    .dataframe thead th {\n",
              "        text-align: right;\n",
              "    }\n",
              "</style>\n",
              "<table border=\"1\" class=\"dataframe\">\n",
              "  <thead>\n",
              "    <tr style=\"text-align: right;\">\n",
              "      <th></th>\n",
              "      <th>Horse Age</th>\n",
              "      <th>Horse Top Speed</th>\n",
              "      <th>Horse RPRS Ranking</th>\n",
              "      <th>Horse ORS Ranking</th>\n",
              "      <th>Horse Weight</th>\n",
              "      <th>Jockey Last 14</th>\n",
              "      <th>Trainer Last 14</th>\n",
              "      <th>0</th>\n",
              "      <th>1</th>\n",
              "      <th>2</th>\n",
              "      <th>...</th>\n",
              "      <th>91</th>\n",
              "      <th>92</th>\n",
              "      <th>93</th>\n",
              "      <th>94</th>\n",
              "      <th>95</th>\n",
              "      <th>96</th>\n",
              "      <th>97</th>\n",
              "      <th>98</th>\n",
              "      <th>99</th>\n",
              "      <th>comparison</th>\n",
              "    </tr>\n",
              "  </thead>\n",
              "  <tbody>\n",
              "    <tr>\n",
              "      <th>0</th>\n",
              "      <td>0.0</td>\n",
              "      <td>-3.005039</td>\n",
              "      <td>0.297660</td>\n",
              "      <td>0.046400</td>\n",
              "      <td>0.199572</td>\n",
              "      <td>1.966009</td>\n",
              "      <td>1.598753</td>\n",
              "      <td>0.0</td>\n",
              "      <td>-1.0</td>\n",
              "      <td>0.0</td>\n",
              "      <td>...</td>\n",
              "      <td>0.0</td>\n",
              "      <td>0.0</td>\n",
              "      <td>0.0</td>\n",
              "      <td>0.0</td>\n",
              "      <td>1.0</td>\n",
              "      <td>0.0</td>\n",
              "      <td>0.0</td>\n",
              "      <td>0.0</td>\n",
              "      <td>0.0</td>\n",
              "      <td>0</td>\n",
              "    </tr>\n",
              "    <tr>\n",
              "      <th>1</th>\n",
              "      <td>0.0</td>\n",
              "      <td>-3.391401</td>\n",
              "      <td>-0.042523</td>\n",
              "      <td>0.211558</td>\n",
              "      <td>0.199572</td>\n",
              "      <td>1.179605</td>\n",
              "      <td>-1.438877</td>\n",
              "      <td>0.0</td>\n",
              "      <td>0.0</td>\n",
              "      <td>0.0</td>\n",
              "      <td>...</td>\n",
              "      <td>0.0</td>\n",
              "      <td>0.0</td>\n",
              "      <td>0.0</td>\n",
              "      <td>0.0</td>\n",
              "      <td>1.0</td>\n",
              "      <td>0.0</td>\n",
              "      <td>0.0</td>\n",
              "      <td>0.0</td>\n",
              "      <td>0.0</td>\n",
              "      <td>0</td>\n",
              "    </tr>\n",
              "    <tr>\n",
              "      <th>2</th>\n",
              "      <td>0.0</td>\n",
              "      <td>-3.133826</td>\n",
              "      <td>0.085046</td>\n",
              "      <td>0.211558</td>\n",
              "      <td>0.199572</td>\n",
              "      <td>-0.098300</td>\n",
              "      <td>0.799376</td>\n",
              "      <td>0.0</td>\n",
              "      <td>0.0</td>\n",
              "      <td>0.0</td>\n",
              "      <td>...</td>\n",
              "      <td>0.0</td>\n",
              "      <td>0.0</td>\n",
              "      <td>0.0</td>\n",
              "      <td>0.0</td>\n",
              "      <td>1.0</td>\n",
              "      <td>0.0</td>\n",
              "      <td>-1.0</td>\n",
              "      <td>0.0</td>\n",
              "      <td>-1.0</td>\n",
              "      <td>0</td>\n",
              "    </tr>\n",
              "    <tr>\n",
              "      <th>3</th>\n",
              "      <td>0.0</td>\n",
              "      <td>-3.477260</td>\n",
              "      <td>-0.212614</td>\n",
              "      <td>-0.232000</td>\n",
              "      <td>0.199572</td>\n",
              "      <td>1.376206</td>\n",
              "      <td>0.079938</td>\n",
              "      <td>0.0</td>\n",
              "      <td>0.0</td>\n",
              "      <td>0.0</td>\n",
              "      <td>...</td>\n",
              "      <td>0.0</td>\n",
              "      <td>0.0</td>\n",
              "      <td>0.0</td>\n",
              "      <td>0.0</td>\n",
              "      <td>1.0</td>\n",
              "      <td>0.0</td>\n",
              "      <td>0.0</td>\n",
              "      <td>0.0</td>\n",
              "      <td>0.0</td>\n",
              "      <td>0</td>\n",
              "    </tr>\n",
              "    <tr>\n",
              "      <th>4</th>\n",
              "      <td>0.0</td>\n",
              "      <td>-2.575748</td>\n",
              "      <td>-0.085046</td>\n",
              "      <td>0.211558</td>\n",
              "      <td>0.199572</td>\n",
              "      <td>0.000000</td>\n",
              "      <td>-1.438877</td>\n",
              "      <td>0.0</td>\n",
              "      <td>0.0</td>\n",
              "      <td>0.0</td>\n",
              "      <td>...</td>\n",
              "      <td>0.0</td>\n",
              "      <td>0.0</td>\n",
              "      <td>0.0</td>\n",
              "      <td>0.0</td>\n",
              "      <td>1.0</td>\n",
              "      <td>0.0</td>\n",
              "      <td>0.0</td>\n",
              "      <td>0.0</td>\n",
              "      <td>0.0</td>\n",
              "      <td>0</td>\n",
              "    </tr>\n",
              "  </tbody>\n",
              "</table>\n",
              "<p>5 rows × 108 columns</p>\n",
              "</div>\n",
              "      <button class=\"colab-df-convert\" onclick=\"convertToInteractive('df-2735976f-1b00-449e-8329-f64457837e2e')\"\n",
              "              title=\"Convert this dataframe to an interactive table.\"\n",
              "              style=\"display:none;\">\n",
              "        \n",
              "  <svg xmlns=\"http://www.w3.org/2000/svg\" height=\"24px\"viewBox=\"0 0 24 24\"\n",
              "       width=\"24px\">\n",
              "    <path d=\"M0 0h24v24H0V0z\" fill=\"none\"/>\n",
              "    <path d=\"M18.56 5.44l.94 2.06.94-2.06 2.06-.94-2.06-.94-.94-2.06-.94 2.06-2.06.94zm-11 1L8.5 8.5l.94-2.06 2.06-.94-2.06-.94L8.5 2.5l-.94 2.06-2.06.94zm10 10l.94 2.06.94-2.06 2.06-.94-2.06-.94-.94-2.06-.94 2.06-2.06.94z\"/><path d=\"M17.41 7.96l-1.37-1.37c-.4-.4-.92-.59-1.43-.59-.52 0-1.04.2-1.43.59L10.3 9.45l-7.72 7.72c-.78.78-.78 2.05 0 2.83L4 21.41c.39.39.9.59 1.41.59.51 0 1.02-.2 1.41-.59l7.78-7.78 2.81-2.81c.8-.78.8-2.07 0-2.86zM5.41 20L4 18.59l7.72-7.72 1.47 1.35L5.41 20z\"/>\n",
              "  </svg>\n",
              "      </button>\n",
              "      \n",
              "  <style>\n",
              "    .colab-df-container {\n",
              "      display:flex;\n",
              "      flex-wrap:wrap;\n",
              "      gap: 12px;\n",
              "    }\n",
              "\n",
              "    .colab-df-convert {\n",
              "      background-color: #E8F0FE;\n",
              "      border: none;\n",
              "      border-radius: 50%;\n",
              "      cursor: pointer;\n",
              "      display: none;\n",
              "      fill: #1967D2;\n",
              "      height: 32px;\n",
              "      padding: 0 0 0 0;\n",
              "      width: 32px;\n",
              "    }\n",
              "\n",
              "    .colab-df-convert:hover {\n",
              "      background-color: #E2EBFA;\n",
              "      box-shadow: 0px 1px 2px rgba(60, 64, 67, 0.3), 0px 1px 3px 1px rgba(60, 64, 67, 0.15);\n",
              "      fill: #174EA6;\n",
              "    }\n",
              "\n",
              "    [theme=dark] .colab-df-convert {\n",
              "      background-color: #3B4455;\n",
              "      fill: #D2E3FC;\n",
              "    }\n",
              "\n",
              "    [theme=dark] .colab-df-convert:hover {\n",
              "      background-color: #434B5C;\n",
              "      box-shadow: 0px 1px 3px 1px rgba(0, 0, 0, 0.15);\n",
              "      filter: drop-shadow(0px 1px 2px rgba(0, 0, 0, 0.3));\n",
              "      fill: #FFFFFF;\n",
              "    }\n",
              "  </style>\n",
              "\n",
              "      <script>\n",
              "        const buttonEl =\n",
              "          document.querySelector('#df-2735976f-1b00-449e-8329-f64457837e2e button.colab-df-convert');\n",
              "        buttonEl.style.display =\n",
              "          google.colab.kernel.accessAllowed ? 'block' : 'none';\n",
              "\n",
              "        async function convertToInteractive(key) {\n",
              "          const element = document.querySelector('#df-2735976f-1b00-449e-8329-f64457837e2e');\n",
              "          const dataTable =\n",
              "            await google.colab.kernel.invokeFunction('convertToInteractive',\n",
              "                                                     [key], {});\n",
              "          if (!dataTable) return;\n",
              "\n",
              "          const docLinkHtml = 'Like what you see? Visit the ' +\n",
              "            '<a target=\"_blank\" href=https://colab.research.google.com/notebooks/data_table.ipynb>data table notebook</a>'\n",
              "            + ' to learn more about interactive tables.';\n",
              "          element.innerHTML = '';\n",
              "          dataTable['output_type'] = 'display_data';\n",
              "          await google.colab.output.renderOutput(dataTable, element);\n",
              "          const docLink = document.createElement('div');\n",
              "          docLink.innerHTML = docLinkHtml;\n",
              "          element.appendChild(docLink);\n",
              "        }\n",
              "      </script>\n",
              "    </div>\n",
              "  </div>\n",
              "  "
            ],
            "text/plain": [
              "   Horse Age  Horse Top Speed  Horse RPRS Ranking  Horse ORS Ranking  \\\n",
              "0        0.0        -3.005039            0.297660           0.046400   \n",
              "1        0.0        -3.391401           -0.042523           0.211558   \n",
              "2        0.0        -3.133826            0.085046           0.211558   \n",
              "3        0.0        -3.477260           -0.212614          -0.232000   \n",
              "4        0.0        -2.575748           -0.085046           0.211558   \n",
              "\n",
              "   Horse Weight  Jockey Last 14  Trainer Last 14    0    1    2  ...   91  \\\n",
              "0      0.199572        1.966009         1.598753  0.0 -1.0  0.0  ...  0.0   \n",
              "1      0.199572        1.179605        -1.438877  0.0  0.0  0.0  ...  0.0   \n",
              "2      0.199572       -0.098300         0.799376  0.0  0.0  0.0  ...  0.0   \n",
              "3      0.199572        1.376206         0.079938  0.0  0.0  0.0  ...  0.0   \n",
              "4      0.199572        0.000000        -1.438877  0.0  0.0  0.0  ...  0.0   \n",
              "\n",
              "    92   93   94   95   96   97   98   99  comparison  \n",
              "0  0.0  0.0  0.0  1.0  0.0  0.0  0.0  0.0           0  \n",
              "1  0.0  0.0  0.0  1.0  0.0  0.0  0.0  0.0           0  \n",
              "2  0.0  0.0  0.0  1.0  0.0 -1.0  0.0 -1.0           0  \n",
              "3  0.0  0.0  0.0  1.0  0.0  0.0  0.0  0.0           0  \n",
              "4  0.0  0.0  0.0  1.0  0.0  0.0  0.0  0.0           0  \n",
              "\n",
              "[5 rows x 108 columns]"
            ]
          },
          "execution_count": 19,
          "metadata": {},
          "output_type": "execute_result"
        }
      ],
      "source": [
        "df.head()"
      ]
    },
    {
      "cell_type": "markdown",
      "metadata": {
        "id": "g3XV9EIqKefn"
      },
      "source": [
        "###Pairwise Model\n"
      ]
    },
    {
      "cell_type": "code",
      "execution_count": null,
      "metadata": {
        "id": "h_AKx5KqJGEW"
      },
      "outputs": [],
      "source": [
        "class Pairwise_Dataset(Dataset):\n",
        "    def __init__(self, dataframe):\n",
        "        self.data = dataframe\n",
        "\n",
        "    def __len__(self):\n",
        "        return len(self.data)\n",
        "\n",
        "    def __getitem__(self, idx):\n",
        "        sample = self.data.iloc[idx]\n",
        "\n",
        "        # Extract the input features and target\n",
        "        features = torch.tensor(sample.drop('comparison').values, dtype=torch.float32)\n",
        "        target = torch.tensor(sample['comparison'], dtype=torch.float32)\n",
        "\n",
        "        return features, target.type(torch.LongTensor)\n",
        "\n",
        "# Split the dataframe into train, validation, and test sets\n",
        "pr_train_df, pr_test_df = train_test_split(df, test_size=0.2, random_state=42)\n",
        "pr_train_df, pr_val_df = train_test_split(pr_train_df, test_size=0.2, random_state=42)\n",
        "\n",
        "# Create the train, validation, and test datasets\n",
        "pr_train_dataset = Pairwise_Dataset(pr_train_df)\n",
        "pr_val_dataset = Pairwise_Dataset(pr_val_df)\n",
        "pr_test_dataset = Pairwise_Dataset(pr_test_df)\n",
        "\n",
        "batch_size = 32\n",
        "pr_train_dataloader = DataLoader(pr_train_dataset, batch_size=batch_size, shuffle=True)\n",
        "pr_val_dataloader = DataLoader(pr_val_dataset, batch_size=batch_size)\n",
        "pr_test_dataloader = DataLoader(pr_test_dataset, batch_size=batch_size)"
      ]
    },
    {
      "cell_type": "code",
      "execution_count": null,
      "metadata": {
        "id": "bP296ddrJelY"
      },
      "outputs": [],
      "source": [
        "class Pairwise(nn.Module):\n",
        "    def __init__(self, embs_size, hidden_layer_size, dropout_prob):\n",
        "        super(Pairwise, self).__init__()\n",
        "        self.embs_size = embs_size\n",
        "        self.linear1 = nn.Linear(embs_size, hidden_layer_size)\n",
        "        self.linear2 = nn.Linear(hidden_layer_size, 2)\n",
        "        self.dropout = nn.Dropout(dropout_prob)\n",
        "\n",
        "    def forward(self, X):\n",
        "        out = self.linear1(X)\n",
        "        out = nn.ReLU()(out)\n",
        "        out = self.dropout(out)\n",
        "        out = self.linear2(out)\n",
        "        out = self.dropout(out)\n",
        "        return F.log_softmax(out, dim=1)\n",
        "\n",
        "embs_size = 107\n",
        "hidden_layer_size = 200\n",
        "dropout_prob = 0.5\n",
        "\n",
        "pairwise = Pairwise(embs_size, hidden_layer_size, dropout_prob)"
      ]
    },
    {
      "cell_type": "code",
      "execution_count": null,
      "metadata": {
        "colab": {
          "base_uri": "https://localhost:8080/"
        },
        "id": "1uojBFdvJwBF",
        "outputId": "ef7a1355-912f-4726-aec4-51e5dcc438a7"
      },
      "outputs": [
        {
          "name": "stderr",
          "output_type": "stream",
          "text": [
            "100%|██████████| 637/637 [00:16<00:00, 39.34batch/s]\n"
          ]
        },
        {
          "name": "stdout",
          "output_type": "stream",
          "text": [
            "Epoch 1/1000, Loss: 0.6890126335751879\n",
            "Accuracy of epoch: 52 %\n",
            "Validation Loss: 0.6682984929531812\n",
            "Validation accuracy of epoch: 59 % \n",
            "\n"
          ]
        },
        {
          "name": "stderr",
          "output_type": "stream",
          "text": [
            "100%|██████████| 637/637 [00:14<00:00, 44.41batch/s]\n"
          ]
        },
        {
          "name": "stdout",
          "output_type": "stream",
          "text": [
            "Epoch 2/1000, Loss: 0.6767307192414671\n",
            "Accuracy of epoch: 55 %\n",
            "Validation Loss: 0.6664472851902247\n",
            "Validation accuracy of epoch: 60 % \n",
            "\n"
          ]
        },
        {
          "name": "stderr",
          "output_type": "stream",
          "text": [
            "100%|██████████| 637/637 [00:14<00:00, 42.71batch/s]\n"
          ]
        },
        {
          "name": "stdout",
          "output_type": "stream",
          "text": [
            "Epoch 3/1000, Loss: 0.6751166116124607\n",
            "Accuracy of epoch: 55 %\n",
            "Validation Loss: 0.6645613610744476\n",
            "Validation accuracy of epoch: 59 % \n",
            "\n"
          ]
        },
        {
          "name": "stderr",
          "output_type": "stream",
          "text": [
            "100%|██████████| 637/637 [00:15<00:00, 40.01batch/s]\n"
          ]
        },
        {
          "name": "stdout",
          "output_type": "stream",
          "text": [
            "Epoch 4/1000, Loss: 0.6738552950802179\n",
            "Accuracy of epoch: 56 %\n",
            "Validation Loss: 0.6677284896373749\n",
            "Validation accuracy of epoch: 59 % \n",
            "\n"
          ]
        },
        {
          "name": "stderr",
          "output_type": "stream",
          "text": [
            "100%|██████████| 637/637 [00:14<00:00, 44.48batch/s]\n"
          ]
        },
        {
          "name": "stdout",
          "output_type": "stream",
          "text": [
            "Epoch 5/1000, Loss: 0.6688032911935444\n",
            "Accuracy of epoch: 57 %\n",
            "Validation Loss: 0.667020496726036\n",
            "Validation accuracy of epoch: 59 % \n",
            "\n"
          ]
        },
        {
          "name": "stderr",
          "output_type": "stream",
          "text": [
            "100%|██████████| 637/637 [00:14<00:00, 44.44batch/s]\n"
          ]
        },
        {
          "name": "stdout",
          "output_type": "stream",
          "text": [
            "Epoch 6/1000, Loss: 0.6642771940590635\n",
            "Accuracy of epoch: 57 %\n",
            "Validation Loss: 0.6636006467044353\n",
            "Validation accuracy of epoch: 60 % \n",
            "\n"
          ]
        },
        {
          "name": "stderr",
          "output_type": "stream",
          "text": [
            "100%|██████████| 637/637 [00:14<00:00, 43.91batch/s]\n"
          ]
        },
        {
          "name": "stdout",
          "output_type": "stream",
          "text": [
            "Epoch 7/1000, Loss: 0.659691275756812\n",
            "Accuracy of epoch: 58 %\n",
            "Validation Loss: 0.664877612516284\n",
            "Validation accuracy of epoch: 59 % \n",
            "\n"
          ]
        },
        {
          "name": "stderr",
          "output_type": "stream",
          "text": [
            "100%|██████████| 637/637 [00:14<00:00, 44.56batch/s]\n"
          ]
        },
        {
          "name": "stdout",
          "output_type": "stream",
          "text": [
            "Epoch 8/1000, Loss: 0.6570779989989624\n",
            "Accuracy of epoch: 58 %\n",
            "Validation Loss: 0.6657707124948502\n",
            "Validation accuracy of epoch: 59 % \n",
            "\n"
          ]
        },
        {
          "name": "stderr",
          "output_type": "stream",
          "text": [
            "100%|██████████| 637/637 [00:17<00:00, 36.81batch/s]\n"
          ]
        },
        {
          "name": "stdout",
          "output_type": "stream",
          "text": [
            "Epoch 9/1000, Loss: 0.6537392261076946\n",
            "Accuracy of epoch: 59 %\n",
            "Validation Loss: 0.6656947411596775\n",
            "Validation accuracy of epoch: 60 % \n",
            "\n"
          ]
        },
        {
          "name": "stderr",
          "output_type": "stream",
          "text": [
            "100%|██████████| 637/637 [00:14<00:00, 44.33batch/s]\n"
          ]
        },
        {
          "name": "stdout",
          "output_type": "stream",
          "text": [
            "Epoch 10/1000, Loss: 0.6473925527261228\n",
            "Accuracy of epoch: 60 %\n",
            "Validation Loss: 0.6644075244665146\n",
            "Validation accuracy of epoch: 59 % \n",
            "\n"
          ]
        },
        {
          "name": "stderr",
          "output_type": "stream",
          "text": [
            "100%|██████████| 637/637 [00:14<00:00, 44.59batch/s]\n"
          ]
        },
        {
          "name": "stdout",
          "output_type": "stream",
          "text": [
            "Epoch 11/1000, Loss: 0.6436409036068939\n",
            "Accuracy of epoch: 60 %\n",
            "Validation Loss: 0.664965083450079\n",
            "Validation accuracy of epoch: 59 % \n",
            "\n"
          ]
        },
        {
          "name": "stderr",
          "output_type": "stream",
          "text": [
            "100%|██████████| 637/637 [00:14<00:00, 44.36batch/s]\n"
          ]
        },
        {
          "name": "stdout",
          "output_type": "stream",
          "text": [
            "Epoch 12/1000, Loss: 0.6402543643767269\n",
            "Accuracy of epoch: 60 %\n",
            "Validation Loss: 0.6634740341454745\n",
            "Validation accuracy of epoch: 59 % \n",
            "\n"
          ]
        },
        {
          "name": "stderr",
          "output_type": "stream",
          "text": [
            "100%|██████████| 637/637 [00:14<00:00, 44.82batch/s]\n"
          ]
        },
        {
          "name": "stdout",
          "output_type": "stream",
          "text": [
            "Epoch 13/1000, Loss: 0.6372776907317492\n",
            "Accuracy of epoch: 61 %\n",
            "Validation Loss: 0.6617977965623141\n",
            "Validation accuracy of epoch: 60 % \n",
            "\n"
          ]
        },
        {
          "name": "stderr",
          "output_type": "stream",
          "text": [
            "100%|██████████| 637/637 [00:13<00:00, 45.60batch/s]\n"
          ]
        },
        {
          "name": "stdout",
          "output_type": "stream",
          "text": [
            "Epoch 14/1000, Loss: 0.6332822051864216\n",
            "Accuracy of epoch: 61 %\n",
            "Validation Loss: 0.6620451167225838\n",
            "Validation accuracy of epoch: 60 % \n",
            "\n"
          ]
        },
        {
          "name": "stderr",
          "output_type": "stream",
          "text": [
            "100%|██████████| 637/637 [00:14<00:00, 45.06batch/s]\n"
          ]
        },
        {
          "name": "stdout",
          "output_type": "stream",
          "text": [
            "Epoch 15/1000, Loss: 0.6283478045388705\n",
            "Accuracy of epoch: 62 %\n",
            "Validation Loss: 0.6606668945401907\n",
            "Validation accuracy of epoch: 60 % \n",
            "\n"
          ]
        },
        {
          "name": "stderr",
          "output_type": "stream",
          "text": [
            "100%|██████████| 637/637 [00:14<00:00, 44.99batch/s]\n"
          ]
        },
        {
          "name": "stdout",
          "output_type": "stream",
          "text": [
            "Epoch 16/1000, Loss: 0.6257919305160619\n",
            "Accuracy of epoch: 62 %\n",
            "Validation Loss: 0.6610942337661981\n",
            "Validation accuracy of epoch: 60 % \n",
            "\n"
          ]
        },
        {
          "name": "stderr",
          "output_type": "stream",
          "text": [
            "100%|██████████| 637/637 [00:14<00:00, 43.25batch/s]\n"
          ]
        },
        {
          "name": "stdout",
          "output_type": "stream",
          "text": [
            "Epoch 17/1000, Loss: 0.6241678344772974\n",
            "Accuracy of epoch: 62 %\n",
            "Validation Loss: 0.6616465363651514\n",
            "Validation accuracy of epoch: 61 % \n",
            "\n"
          ]
        },
        {
          "name": "stderr",
          "output_type": "stream",
          "text": [
            "100%|██████████| 637/637 [00:14<00:00, 44.69batch/s]\n"
          ]
        },
        {
          "name": "stdout",
          "output_type": "stream",
          "text": [
            "Epoch 18/1000, Loss: 0.6183890265703575\n",
            "Accuracy of epoch: 63 %\n",
            "Validation Loss: 0.6634604625403882\n",
            "Validation accuracy of epoch: 60 % \n",
            "\n"
          ]
        },
        {
          "name": "stderr",
          "output_type": "stream",
          "text": [
            "100%|██████████| 637/637 [00:14<00:00, 45.13batch/s]\n"
          ]
        },
        {
          "name": "stdout",
          "output_type": "stream",
          "text": [
            "Epoch 19/1000, Loss: 0.6153111025995138\n",
            "Accuracy of epoch: 63 %\n",
            "Validation Loss: 0.6637446902692318\n",
            "Validation accuracy of epoch: 60 % \n",
            "\n",
            "Early Stopping\n",
            "Average Test Loss: 0.6699598584342842\n",
            "Accuracy of epoch: 58 %\n"
          ]
        }
      ],
      "source": [
        "#training\n",
        "\n",
        "num_epochs = 1000\n",
        "learning_rate = 0.001\n",
        "\n",
        "# Define the loss function and optimizer\n",
        "loss_function = nn.NLLLoss()\n",
        "optimizer = optim.Adam(pairwise.parameters(), lr=learning_rate)\n",
        "\n",
        "pr_training_loss = []\n",
        "pr_training_accuracy = []\n",
        "pr_validation_loss = []\n",
        "pr_validation_accuracy = []\n",
        "\n",
        "# Training loop\n",
        "for epoch in range(num_epochs):\n",
        "    pairwise.train()  # Set the model to training mode\n",
        "\n",
        "    running_loss = 0.0\n",
        "    correct = 0\n",
        "    total = 0\n",
        "\n",
        "    with tqdm(pr_train_dataloader, unit=\"batch\") as tepoch:\n",
        "            # Training the model\n",
        "            for features, y_true in tepoch:\n",
        "\n",
        "                optimizer.zero_grad()\n",
        "\n",
        "                y_pred = pairwise(features)\n",
        "\n",
        "                loss = loss_function(y_pred, y_true)\n",
        "\n",
        "                loss.backward()\n",
        "                optimizer.step()\n",
        "\n",
        "                running_loss += loss.item()\n",
        "\n",
        "                total += y_true.size(0)\n",
        "                y_label = torch.argmax(y_pred, axis =1)\n",
        "                correct += torch.sum(y_label == y_true).item()\n",
        "\n",
        "    # Print the average loss for the epoch\n",
        "    average_loss = running_loss / len(pr_train_dataloader)\n",
        "    print(f\"Epoch {epoch + 1}/{num_epochs}, Loss: {average_loss}\")\n",
        "    pr_training_loss.append(average_loss)\n",
        "\n",
        "    tr_epoch_av = (100 * correct / total)\n",
        "    print('Accuracy of epoch: %d %%' % tr_epoch_av)\n",
        "    pr_training_accuracy.append(tr_epoch_av)\n",
        "\n",
        "    # Validation loop\n",
        "    pairwise.eval()  # Set the model to evaluation mode\n",
        "    val_loss = 0.0\n",
        "    val_correct = 0\n",
        "    val_total = 0\n",
        "    with torch.no_grad():\n",
        "        for features, y_true in pr_val_dataloader:\n",
        "            y_pred = pairwise(features)\n",
        "            loss = loss_function(y_pred, y_true)\n",
        "            val_loss += loss.item()\n",
        "\n",
        "            val_total += y_true.size(0)\n",
        "            y_label = torch.argmax(y_pred, axis =1)\n",
        "            val_correct += torch.sum(y_label == y_true).item()\n",
        "\n",
        "    # Print the validation loss for the epoch.\n",
        "    average_val_loss = val_loss / len(pr_val_dataloader)\n",
        "    print(f\"Validation Loss: {average_val_loss}\")\n",
        "    pr_validation_loss.append(average_val_loss)\n",
        "\n",
        "    val_epoch_av = (100 * val_correct / val_total)\n",
        "    print('Validation accuracy of epoch: %d %% \\n' % val_epoch_av)\n",
        "    pr_validation_accuracy.append(val_epoch_av)\n",
        "\n",
        "    if epoch == 0:\n",
        "        previous_dev_loss = average_val_loss\n",
        "        dev_loss_counter = 0\n",
        "    else:\n",
        "      if average_val_loss >= previous_dev_loss:\n",
        "          dev_loss_counter += 1\n",
        "          previous_dev_loss = average_val_loss\n",
        "          if dev_loss_counter > 3:\n",
        "              print(\"Early Stopping\")\n",
        "              break\n",
        "      else:\n",
        "          previous_dev_loss = average_val_loss\n",
        "          dev_loss_counter = 0\n",
        "\n",
        "\n",
        "# Testing loop\n",
        "pairwise.eval()  # Set the model to evaluation mode\n",
        "test_loss = 0.0\n",
        "test_correct = 0\n",
        "test_total = 0\n",
        "with torch.no_grad():\n",
        "    for features, y_true in pr_test_dataloader:\n",
        "        y_pred = pairwise(features)\n",
        "        loss = loss_function(y_pred, y_true)\n",
        "        test_loss += loss.item()\n",
        "\n",
        "        test_total += y_true.size(0)\n",
        "        y_label = torch.argmax(y_pred, axis =1)\n",
        "        test_correct += torch.sum(y_label == y_true).item()\n",
        "\n",
        "# Print the average test loss\n",
        "average_test_loss = test_loss / len(pr_test_dataloader)\n",
        "print(f\"Average Test Loss: {average_test_loss}\")\n",
        "print('Accuracy of epoch: %d %%' % (100 * test_correct / test_total))"
      ]
    },
    {
      "cell_type": "code",
      "execution_count": null,
      "metadata": {
        "colab": {
          "base_uri": "https://localhost:8080/",
          "height": 927
        },
        "id": "A6CAZujTitTn",
        "outputId": "e4b77493-9a80-4494-c82a-76960094396c"
      },
      "outputs": [
        {
          "data": {
            "image/png": "[encoded data removed]",
            "text/plain": [
              "<Figure size 640x480 with 1 Axes>"
            ]
          },
          "metadata": {},
          "output_type": "display_data"
        },
        {
          "data": {
            "image/png": "[encoded data removed]",
            "text/plain": [
              "<Figure size 640x480 with 1 Axes>"
            ]
          },
          "metadata": {},
          "output_type": "display_data"
        }
      ],
      "source": [
        "plt.plot(pr_training_loss, label = 'Training')\n",
        "plt.plot(pr_validation_loss, label = 'Validation')\n",
        "plt.title(\"TF_IDF Pairwise\")\n",
        "plt.xlabel(\"Epochs\")\n",
        "plt.ylabel(\"Loss\")\n",
        "plt.legend()\n",
        "plt.show()\n",
        "\n",
        "plt.plot(pr_training_accuracy , label = 'Training')\n",
        "plt.plot(pr_validation_accuracy, label = 'Validation')\n",
        "plt.title(\"TF_IDF Pairwise\")\n",
        "plt.xlabel(\"Epochs\")\n",
        "plt.ylabel(\"Accuracy\")\n",
        "plt.legend()\n",
        "plt.show()"
      ]
    },
    {
      "cell_type": "markdown",
      "metadata": {
        "id": "MJb8wLnz2UF0"
      },
      "source": [
        "\n",
        "#BERT Embeddings"
      ]
    },
    {
      "cell_type": "markdown",
      "metadata": {
        "id": "dDKO-lcS2hdA"
      },
      "source": [
        "To obtain better results, we decided to use BERT to embed our predictions. We took the '[cls]' token and concatenated it with the numerical data to form an embedding for a horse."
      ]
    },
    {
      "cell_type": "code",
      "execution_count": null,
      "metadata": {
        "colab": {
          "base_uri": "https://localhost:8080/"
        },
        "id": "0Eg2tRTv2gHK",
        "outputId": "f48f7959-8dee-49c2-b8aa-8407472ab8c5"
      },
      "outputs": [
        {
          "name": "stdout",
          "output_type": "stream",
          "text": [
            "Using cuda:0.\n"
          ]
        }
      ],
      "source": [
        "#since using BERT, switch to using GPU\n",
        "if torch.cuda.is_available():\n",
        "    device = torch.device(\"cuda:0\")\n",
        "else:\n",
        "    device = torch.device('cpu')\n",
        "print(\"Using {}.\".format(device))"
      ]
    },
    {
      "cell_type": "markdown",
      "metadata": {
        "id": "VXn1vMmF49Jv"
      },
      "source": [
        "## Pointwise (Regression)"
      ]
    },
    {
      "cell_type": "markdown",
      "metadata": {
        "id": "Z_VzF6JSrqot"
      },
      "source": []
    },
    {
      "cell_type": "code",
      "execution_count": null,
      "metadata": {
        "colab": {
          "base_uri": "https://localhost:8080/",
          "height": 241
        },
        "id": "eBLhIef538Au",
        "outputId": "2938c6c4-517f-42fc-f92c-ee5d285a9a0f"
      },
      "outputs": [
        {
          "name": "stderr",
          "output_type": "stream",
          "text": [
            "<ipython-input-43-b5ee6bbd421f>:15: FutureWarning: The default value of regex will change from True to False in a future version.\n",
            "  df[\"Prediction\"] = df['Prediction'].str.replace('[^\\w\\s]','')   #remove punctuation\n"
          ]
        },
        {
          "data": {
            "text/html": [
              "\n",
              "  <div id=\"df-6712ea52-1fbe-4f31-ba46-d73145b5cbd3\">\n",
              "    <div class=\"colab-df-container\">\n",
              "      <div>\n",
              "<style scoped>\n",
              "    .dataframe tbody tr th:only-of-type {\n",
              "        vertical-align: middle;\n",
              "    }\n",
              "\n",
              "    .dataframe tbody tr th {\n",
              "        vertical-align: top;\n",
              "    }\n",
              "\n",
              "    .dataframe thead th {\n",
              "        text-align: right;\n",
              "    }\n",
              "</style>\n",
              "<table border=\"1\" class=\"dataframe\">\n",
              "  <thead>\n",
              "    <tr style=\"text-align: right;\">\n",
              "      <th></th>\n",
              "      <th>Horse Age</th>\n",
              "      <th>Horse Top Speed</th>\n",
              "      <th>Horse RPRS Ranking</th>\n",
              "      <th>Horse ORS Ranking</th>\n",
              "      <th>Horse Weight</th>\n",
              "      <th>Prediction</th>\n",
              "      <th>Jockey Last 14</th>\n",
              "      <th>Trainer Last 14</th>\n",
              "      <th>Position</th>\n",
              "    </tr>\n",
              "  </thead>\n",
              "  <tbody>\n",
              "    <tr>\n",
              "      <th>0</th>\n",
              "      <td>-0.991158</td>\n",
              "      <td>-2.903467</td>\n",
              "      <td>-0.033883</td>\n",
              "      <td>2.115579e-01</td>\n",
              "      <td>-0.191188</td>\n",
              "      <td>22 over 7f both wins on aw remains open to fur...</td>\n",
              "      <td>0.878183</td>\n",
              "      <td>0.702050</td>\n",
              "      <td>0.080808</td>\n",
              "    </tr>\n",
              "    <tr>\n",
              "      <th>1</th>\n",
              "      <td>-0.991158</td>\n",
              "      <td>0.101572</td>\n",
              "      <td>-0.331542</td>\n",
              "      <td>1.651578e-01</td>\n",
              "      <td>-0.390760</td>\n",
              "      <td>ran well in france on final 2yo start more is ...</td>\n",
              "      <td>-1.087826</td>\n",
              "      <td>-0.896703</td>\n",
              "      <td>0.060606</td>\n",
              "    </tr>\n",
              "    <tr>\n",
              "      <th>2</th>\n",
              "      <td>-0.991158</td>\n",
              "      <td>0.487934</td>\n",
              "      <td>0.008640</td>\n",
              "      <td>-6.593846e-16</td>\n",
              "      <td>-0.390760</td>\n",
              "      <td>one of two runners for charlie appleby made al...</td>\n",
              "      <td>-0.301422</td>\n",
              "      <td>2.140927</td>\n",
              "      <td>0.050505</td>\n",
              "    </tr>\n",
              "    <tr>\n",
              "      <th>3</th>\n",
              "      <td>-0.991158</td>\n",
              "      <td>0.230359</td>\n",
              "      <td>-0.118928</td>\n",
              "      <td>-6.593846e-16</td>\n",
              "      <td>-0.390760</td>\n",
              "      <td>solid third in the convivial maiden then won w...</td>\n",
              "      <td>0.976483</td>\n",
              "      <td>-0.097326</td>\n",
              "      <td>0.030303</td>\n",
              "    </tr>\n",
              "    <tr>\n",
              "      <th>4</th>\n",
              "      <td>-0.991158</td>\n",
              "      <td>0.573792</td>\n",
              "      <td>0.178731</td>\n",
              "      <td>4.435582e-01</td>\n",
              "      <td>-0.390760</td>\n",
              "      <td>major player on rprs and looks likely to give ...</td>\n",
              "      <td>-0.498023</td>\n",
              "      <td>0.622112</td>\n",
              "      <td>0.010101</td>\n",
              "    </tr>\n",
              "  </tbody>\n",
              "</table>\n",
              "</div>\n",
              "      <button class=\"colab-df-convert\" onclick=\"convertToInteractive('df-6712ea52-1fbe-4f31-ba46-d73145b5cbd3')\"\n",
              "              title=\"Convert this dataframe to an interactive table.\"\n",
              "              style=\"display:none;\">\n",
              "        \n",
              "  <svg xmlns=\"http://www.w3.org/2000/svg\" height=\"24px\"viewBox=\"0 0 24 24\"\n",
              "       width=\"24px\">\n",
              "    <path d=\"M0 0h24v24H0V0z\" fill=\"none\"/>\n",
              "    <path d=\"M18.56 5.44l.94 2.06.94-2.06 2.06-.94-2.06-.94-.94-2.06-.94 2.06-2.06.94zm-11 1L8.5 8.5l.94-2.06 2.06-.94-2.06-.94L8.5 2.5l-.94 2.06-2.06.94zm10 10l.94 2.06.94-2.06 2.06-.94-2.06-.94-.94-2.06-.94 2.06-2.06.94z\"/><path d=\"M17.41 7.96l-1.37-1.37c-.4-.4-.92-.59-1.43-.59-.52 0-1.04.2-1.43.59L10.3 9.45l-7.72 7.72c-.78.78-.78 2.05 0 2.83L4 21.41c.39.39.9.59 1.41.59.51 0 1.02-.2 1.41-.59l7.78-7.78 2.81-2.81c.8-.78.8-2.07 0-2.86zM5.41 20L4 18.59l7.72-7.72 1.47 1.35L5.41 20z\"/>\n",
              "  </svg>\n",
              "      </button>\n",
              "      \n",
              "  <style>\n",
              "    .colab-df-container {\n",
              "      display:flex;\n",
              "      flex-wrap:wrap;\n",
              "      gap: 12px;\n",
              "    }\n",
              "\n",
              "    .colab-df-convert {\n",
              "      background-color: #E8F0FE;\n",
              "      border: none;\n",
              "      border-radius: 50%;\n",
              "      cursor: pointer;\n",
              "      display: none;\n",
              "      fill: #1967D2;\n",
              "      height: 32px;\n",
              "      padding: 0 0 0 0;\n",
              "      width: 32px;\n",
              "    }\n",
              "\n",
              "    .colab-df-convert:hover {\n",
              "      background-color: #E2EBFA;\n",
              "      box-shadow: 0px 1px 2px rgba(60, 64, 67, 0.3), 0px 1px 3px 1px rgba(60, 64, 67, 0.15);\n",
              "      fill: #174EA6;\n",
              "    }\n",
              "\n",
              "    [theme=dark] .colab-df-convert {\n",
              "      background-color: #3B4455;\n",
              "      fill: #D2E3FC;\n",
              "    }\n",
              "\n",
              "    [theme=dark] .colab-df-convert:hover {\n",
              "      background-color: #434B5C;\n",
              "      box-shadow: 0px 1px 3px 1px rgba(0, 0, 0, 0.15);\n",
              "      filter: drop-shadow(0px 1px 2px rgba(0, 0, 0, 0.3));\n",
              "      fill: #FFFFFF;\n",
              "    }\n",
              "  </style>\n",
              "\n",
              "      <script>\n",
              "        const buttonEl =\n",
              "          document.querySelector('#df-6712ea52-1fbe-4f31-ba46-d73145b5cbd3 button.colab-df-convert');\n",
              "        buttonEl.style.display =\n",
              "          google.colab.kernel.accessAllowed ? 'block' : 'none';\n",
              "\n",
              "        async function convertToInteractive(key) {\n",
              "          const element = document.querySelector('#df-6712ea52-1fbe-4f31-ba46-d73145b5cbd3');\n",
              "          const dataTable =\n",
              "            await google.colab.kernel.invokeFunction('convertToInteractive',\n",
              "                                                     [key], {});\n",
              "          if (!dataTable) return;\n",
              "\n",
              "          const docLinkHtml = 'Like what you see? Visit the ' +\n",
              "            '<a target=\"_blank\" href=https://colab.research.google.com/notebooks/data_table.ipynb>data table notebook</a>'\n",
              "            + ' to learn more about interactive tables.';\n",
              "          element.innerHTML = '';\n",
              "          dataTable['output_type'] = 'display_data';\n",
              "          await google.colab.output.renderOutput(dataTable, element);\n",
              "          const docLink = document.createElement('div');\n",
              "          docLink.innerHTML = docLinkHtml;\n",
              "          element.appendChild(docLink);\n",
              "        }\n",
              "      </script>\n",
              "    </div>\n",
              "  </div>\n",
              "  "
            ],
            "text/plain": [
              "   Horse Age  Horse Top Speed  Horse RPRS Ranking  Horse ORS Ranking  \\\n",
              "0  -0.991158        -2.903467           -0.033883       2.115579e-01   \n",
              "1  -0.991158         0.101572           -0.331542       1.651578e-01   \n",
              "2  -0.991158         0.487934            0.008640      -6.593846e-16   \n",
              "3  -0.991158         0.230359           -0.118928      -6.593846e-16   \n",
              "4  -0.991158         0.573792            0.178731       4.435582e-01   \n",
              "\n",
              "   Horse Weight                                         Prediction  \\\n",
              "0     -0.191188  22 over 7f both wins on aw remains open to fur...   \n",
              "1     -0.390760  ran well in france on final 2yo start more is ...   \n",
              "2     -0.390760  one of two runners for charlie appleby made al...   \n",
              "3     -0.390760  solid third in the convivial maiden then won w...   \n",
              "4     -0.390760  major player on rprs and looks likely to give ...   \n",
              "\n",
              "   Jockey Last 14  Trainer Last 14  Position  \n",
              "0        0.878183         0.702050  0.080808  \n",
              "1       -1.087826        -0.896703  0.060606  \n",
              "2       -0.301422         2.140927  0.050505  \n",
              "3        0.976483        -0.097326  0.030303  \n",
              "4       -0.498023         0.622112  0.010101  "
            ]
          },
          "execution_count": 43,
          "metadata": {},
          "output_type": "execute_result"
        }
      ],
      "source": [
        "df = pd.read_csv(\"data.csv\")\n",
        "df = df.drop([df.columns[0], df.columns[9], df.columns[11]], axis = 1)\n",
        "# Initialize the MinMaxScaler\n",
        "scaler = MinMaxScaler()\n",
        "\n",
        "# Normalize the column\n",
        "normalized_column = scaler.fit_transform(df[['Position']])\n",
        "\n",
        "# Update the column in the DataFrame\n",
        "df['Position'] = normalized_column\n",
        "\n",
        "#clean text data:\n",
        "\n",
        "df['Prediction'] = df['Prediction'].apply(lambda x: x.lower())  #make all lowercase\n",
        "df[\"Prediction\"] = df['Prediction'].str.replace('[^\\w\\s]','')   #remove punctuation\n",
        "\n",
        "df.head()"
      ]
    },
    {
      "cell_type": "code",
      "execution_count": null,
      "metadata": {
        "id": "Am6cJa0w7iZx"
      },
      "outputs": [],
      "source": [
        "train_and_val_data, test_data = train_test_split( df, test_size=0.2, random_state=42)\n",
        "train_data, val_data = train_test_split(train_and_val_data, test_size=0.2, random_state=42)"
      ]
    },
    {
      "cell_type": "code",
      "execution_count": null,
      "metadata": {
        "id": "V_fJXkmd64Ul"
      },
      "outputs": [],
      "source": [
        "word_count_train = train_and_val_data['Prediction'].apply(lambda x: len(x.split()))\n",
        "word_count_test = test_data['Prediction'].apply(lambda x: len(x.split()))"
      ]
    },
    {
      "cell_type": "code",
      "execution_count": null,
      "metadata": {
        "colab": {
          "base_uri": "https://localhost:8080/",
          "height": 1000
        },
        "id": "BdR3GEgi67K9",
        "outputId": "23da72e9-1257-4fd5-9099-44d378f97459"
      },
      "outputs": [
        {
          "name": "stderr",
          "output_type": "stream",
          "text": [
            "<ipython-input-46-e2b2cfe2900d>:2: UserWarning: \n",
            "\n",
            "`distplot` is a deprecated function and will be removed in seaborn v0.14.0.\n",
            "\n",
            "Please adapt your code to use either `displot` (a figure-level function with\n",
            "similar flexibility) or `histplot` (an axes-level function for histograms).\n",
            "\n",
            "For a guide to updating your code to use the new functions, please see\n",
            "https://gist.github.com/mwaskom/de44147ed2974457ad6372750bbe5751\n",
            "\n",
            "  sns.distplot(word_count_train, label = 'train', color=sns.xkcd_rgb['red'])\n",
            "<ipython-input-46-e2b2cfe2900d>:3: UserWarning: \n",
            "\n",
            "`distplot` is a deprecated function and will be removed in seaborn v0.14.0.\n",
            "\n",
            "Please adapt your code to use either `displot` (a figure-level function with\n",
            "similar flexibility) or `histplot` (an axes-level function for histograms).\n",
            "\n",
            "For a guide to updating your code to use the new functions, please see\n",
            "https://gist.github.com/mwaskom/de44147ed2974457ad6372750bbe5751\n",
            "\n",
            "  sns.distplot(word_count_test, label = 'test', color=sns.xkcd_rgb['blue'])\n"
          ]
        },
        {
          "data": {
            "image/png": "[encoded data removed]",
            "text/plain": [
              "<Figure size 1000x700 with 1 Axes>"
            ]
          },
          "metadata": {},
          "output_type": "display_data"
        }
      ],
      "source": [
        "fig = plt.figure(figsize=[10,7])\n",
        "sns.distplot(word_count_train, label = 'train', color=sns.xkcd_rgb['red'])\n",
        "sns.distplot(word_count_test, label = 'test', color=sns.xkcd_rgb['blue'])\n",
        "plt.legend()\n",
        "plt.show()"
      ]
    },
    {
      "cell_type": "code",
      "execution_count": null,
      "metadata": {
        "id": "qoZRwuyX71cp"
      },
      "outputs": [],
      "source": [
        "max_train_word_count = word_count_train.max()"
      ]
    },
    {
      "cell_type": "code",
      "execution_count": null,
      "metadata": {
        "id": "tZx6E5iS87tN"
      },
      "outputs": [],
      "source": [
        "MAX_LEN_TRAIN = max_train_word_count\n",
        "MAX_LEN_VALID = max_train_word_count\n",
        "MAX_LEN_TEST = max_train_word_count"
      ]
    },
    {
      "cell_type": "code",
      "execution_count": null,
      "metadata": {
        "id": "g2sbCaUB8-np"
      },
      "outputs": [],
      "source": [
        "class BERT_Pointwise_Dataset(Dataset):\n",
        "\n",
        "    def __init__(self, data, maxlen, tokenizer):\n",
        "        #Store the contents of the file in a pandas dataframe\n",
        "        self.df = data.reset_index()\n",
        "        #Initialize the tokenizer for the desired transformer model\n",
        "        self.tokenizer = tokenizer\n",
        "        #Maximum length of the tokens list to keep all the sequences of fixed size\n",
        "        self.maxlen = maxlen\n",
        "\n",
        "    def __len__(self):\n",
        "        return self.df.shape[0]\n",
        "\n",
        "    def __getitem__(self, index):\n",
        "\n",
        "        # Extract the input features and target\n",
        "        num_features = torch.tensor(self.df.drop(['index', 'Prediction', 'Position'], axis=1).iloc[index].values, dtype=torch.float32)\n",
        "\n",
        "        #Select the sentence and label at the specified index in the data frame\n",
        "        pred = self.df.loc[index, 'Prediction']\n",
        "        try:\n",
        "            position = self.df.loc[index, 'Position']\n",
        "        except:\n",
        "            position = -1.0\n",
        "\n",
        "        #Preprocess the text to be suitable for the transformer\n",
        "        tokens = self.tokenizer.tokenize(pred)\n",
        "        tokens = ['[CLS]'] + tokens + ['[SEP]']\n",
        "        if len(tokens) < self.maxlen:\n",
        "            tokens = tokens + ['[PAD]' for _ in range(self.maxlen - len(tokens))]\n",
        "        else:\n",
        "            tokens = tokens[:self.maxlen-1] + ['[SEP]']\n",
        "        #Obtain the indices of the tokens in the BERT Vocabulary\n",
        "        input_ids = self.tokenizer.convert_tokens_to_ids(tokens)\n",
        "        input_ids = torch.tensor(input_ids)\n",
        "        #Obtain the attention mask i.e a tensor containing 1s for no padded tokens and 0s for padded ones\n",
        "        attention_mask = (input_ids != 0).long()\n",
        "\n",
        "        position = torch.tensor(position, dtype=torch.float32)\n",
        "\n",
        "        return num_features, input_ids, attention_mask, position"
      ]
    },
    {
      "cell_type": "code",
      "execution_count": null,
      "metadata": {
        "colab": {
          "base_uri": "https://localhost:8080/",
          "height": 145,
          "referenced_widgets": [
            "712a26bcf40c42a6b47b601eaf3fc42c",
            "a128d5a8f5814f78ac87a7241e4ab3ea",
            "cd8b705879ee4fa59f14b9a4ed2b65f6",
            "9779a4bad5c94555aa082ccf58630b51",
            "fcc88a1faba3465ea1af188e00b10fc9",
            "650d6e9f03fe4cd7b60c2a048e54afc3",
            "d8778f7595c5476190ae7cb020adb42e",
            "3bf03c4c2ce14a559bb616135b8ed5ce",
            "6087aea434d44d618189b195f1e008c2",
            "eb12afc7692b4fbd8debf6f87d888980",
            "040465d1960d4eaeaa65572cf8ed1231",
            "bf3ad183e4044f2a99bd2beb085ed111",
            "e3e327cc111b42aba502e7609548b719",
            "f11660c92fd644959aae03bb0789c18e",
            "9bb90847e34542bda08fd8d550614d74",
            "ef1b461f1d13425dae3a15cdc01a9a73",
            "fb128d68c90e4b42a5fbed61044a7ad0",
            "99ed9c5f423943eea2f187e54bdb04dd",
            "655b45dcb197445bb97d4ffe0f2083c4",
            "c26c1953dc224718973bdc616b1913ae",
            "933d9d614e0c4e76a4c8073c5a0b0c03",
            "ab2666f9921f46e3898b627ddd2ae689",
            "f78cb9d172c44c81a9c590f5f6ebcefb",
            "889e396192294c35870061c96b4134f7",
            "cede591e8dd24216ae7baf1fb8aab610",
            "9e5d900668d147d0848c448ce888f17c",
            "7e9c5cb660ee492cbf209f7eae334675",
            "f34dd67521b543b99b1937bdfbc2f73b",
            "e56697a20d8b44558b5183988d62fd84",
            "cec6cb080a364b509bbc176936616dce",
            "77f0353476e64556ac345dc304e0b75b",
            "599deb0796354bb1a74b08121a47a979",
            "350bd6d53f5a4c3e927a86a6d44468da",
            "d43a982255524bcea87228600c20a788",
            "eab5066629ca4698882d053c45a67eaf",
            "bb78f61dddf743af881f062b1f22884c",
            "79e4e6cf4fa94d0496d3b7dfaff2f6b7",
            "343ffc14dd344a719004edfdf8d188e5",
            "d0f7357fa1d3459db92e06b38d0d63ab",
            "9f3c15a3f71e4eefa33c4e08b0719eca",
            "aeb43211c38547ccb741da4cea7225cb",
            "b33363088a2b43b3948120fbf09f47d7",
            "d5df6829d5f0430eadc5155cf3c9bc58",
            "24b65a8d936644c29ae627e7ac965239"
          ]
        },
        "id": "9mRGXhh6-5gA",
        "outputId": "b218f931-9296-4a04-80b8-8c889cdb456c"
      },
      "outputs": [
        {
          "data": {
            "application/vnd.jupyter.widget-view+json": {
              "model_id": "712a26bcf40c42a6b47b601eaf3fc42c",
              "version_major": 2,
              "version_minor": 0
            },
            "text/plain": [
              "Downloading (…)lve/main/config.json:   0%|          | 0.00/570 [00:00<?, ?B/s]"
            ]
          },
          "metadata": {},
          "output_type": "display_data"
        },
        {
          "data": {
            "application/vnd.jupyter.widget-view+json": {
              "model_id": "bf3ad183e4044f2a99bd2beb085ed111",
              "version_major": 2,
              "version_minor": 0
            },
            "text/plain": [
              "Downloading (…)okenizer_config.json:   0%|          | 0.00/28.0 [00:00<?, ?B/s]"
            ]
          },
          "metadata": {},
          "output_type": "display_data"
        },
        {
          "data": {
            "application/vnd.jupyter.widget-view+json": {
              "model_id": "f78cb9d172c44c81a9c590f5f6ebcefb",
              "version_major": 2,
              "version_minor": 0
            },
            "text/plain": [
              "Downloading (…)solve/main/vocab.txt:   0%|          | 0.00/232k [00:00<?, ?B/s]"
            ]
          },
          "metadata": {},
          "output_type": "display_data"
        },
        {
          "data": {
            "application/vnd.jupyter.widget-view+json": {
              "model_id": "d43a982255524bcea87228600c20a788",
              "version_major": 2,
              "version_minor": 0
            },
            "text/plain": [
              "Downloading (…)/main/tokenizer.json:   0%|          | 0.00/466k [00:00<?, ?B/s]"
            ]
          },
          "metadata": {},
          "output_type": "display_data"
        }
      ],
      "source": [
        "BATCH_SIZE = 64\n",
        "config = AutoConfig.from_pretrained('bert-base-uncased')\n",
        "tokenizer = AutoTokenizer.from_pretrained('bert-base-uncased')"
      ]
    },
    {
      "cell_type": "code",
      "execution_count": null,
      "metadata": {
        "id": "TnaPv8BU-RoK"
      },
      "outputs": [],
      "source": [
        "## Training Dataset\n",
        "train_set = BERT_Pointwise_Dataset(data=train_data, maxlen=MAX_LEN_TRAIN, tokenizer=tokenizer)\n",
        "valid_set = BERT_Pointwise_Dataset(data=val_data, maxlen=MAX_LEN_VALID, tokenizer=tokenizer)\n",
        "test_set = BERT_Pointwise_Dataset(data=test_data, maxlen=MAX_LEN_TEST, tokenizer=tokenizer)\n",
        "\n",
        "\n",
        "## Data Loaders\n",
        "bert_pointwise_train_loader = DataLoader(dataset=train_set, batch_size=BATCH_SIZE)\n",
        "bert_pointwise_valid_loader = DataLoader(dataset=valid_set, batch_size=BATCH_SIZE)\n",
        "bert_pointwise_test_loader = DataLoader(dataset=test_set, batch_size=BATCH_SIZE)"
      ]
    },
    {
      "cell_type": "code",
      "execution_count": null,
      "metadata": {
        "id": "EqKr8ePb-9cX"
      },
      "outputs": [],
      "source": [
        "\n",
        "class BERT_Pointwise(BertPreTrainedModel):\n",
        "    def __init__(self, config, hidden_layer_size, freeze_bert=False, dropout = 0):\n",
        "        super().__init__(config)\n",
        "        self.bert = BertModel(config)\n",
        "\n",
        "        if freeze_bert:\n",
        "            for param in self.bert.parameters():\n",
        "                param.requires_grad = False\n",
        "\n",
        "        #The output layer that takes model = XLMRobertaModel.from_pretrained(\"xlm-roberta-base\")the [CLS] representation and gives an output\n",
        "        self.cls_linear1 = nn.Linear(config.hidden_size + 7, hidden_layer_size)   #note the +7 to add the numerical data on the end\n",
        "        self.relu1 = nn.ReLU()\n",
        "        self.linear2 = nn.Linear(hidden_layer_size,1)\n",
        "        self.dropout1 = nn.Dropout(dropout)\n",
        "        self.dropout2 = nn.Dropout(dropout)\n",
        "\n",
        "\n",
        "\n",
        "    def forward(self, num_features, input_ids, attention_mask):\n",
        "        #Feed the input to Bert model to obtain contextualized representations\n",
        "        outputs = self.bert(input_ids=input_ids, attention_mask=attention_mask)\n",
        "        #Obtain the representations of [CLS] heads\n",
        "        logits = outputs.last_hidden_state[:,0,:]\n",
        "\n",
        "        X = torch.cat((num_features, logits), -1).to(torch.float32)  #concatenate the numerical and textual data\n",
        "\n",
        "        output = self.cls_linear1(X)\n",
        "        output = self.relu1(output)\n",
        "        output = self.dropout1(output)\n",
        "        output = self.linear2(output)\n",
        "        output = self.dropout2(output)\n",
        "        return output\n",
        "\n"
      ]
    },
    {
      "cell_type": "markdown",
      "metadata": {
        "id": "X9lfceSosAfl"
      },
      "source": [
        "###Fine-tune"
      ]
    },
    {
      "cell_type": "code",
      "execution_count": null,
      "metadata": {
        "colab": {
          "background_save": true,
          "base_uri": "https://localhost:8080/"
        },
        "id": "VxgheTJErzKm",
        "outputId": "fa6ec02c-c439-42a4-ea03-b1e517f32dfe"
      },
      "outputs": [
        {
          "name": "stderr",
          "output_type": "stream",
          "text": [
            "100%|██████████| 73/73 [00:22<00:00,  3.26batch/s]\n"
          ]
        },
        {
          "name": "stdout",
          "output_type": "stream",
          "text": [
            "Epoch 1/1000, Loss: 0.6573088340499528\n"
          ]
        },
        {
          "name": "stderr",
          "output_type": "stream",
          "text": [
            "100%|██████████| 19/19 [00:01<00:00,  9.95batch/s]\n"
          ]
        },
        {
          "name": "stdout",
          "output_type": "stream",
          "text": [
            "Validation Loss: 0.0559390880853722 \n",
            "\n"
          ]
        },
        {
          "name": "stderr",
          "output_type": "stream",
          "text": [
            "100%|██████████| 73/73 [00:19<00:00,  3.69batch/s]\n"
          ]
        },
        {
          "name": "stdout",
          "output_type": "stream",
          "text": [
            "Epoch 2/1000, Loss: 0.055000526377650565\n"
          ]
        },
        {
          "name": "stderr",
          "output_type": "stream",
          "text": [
            "100%|██████████| 19/19 [00:02<00:00,  8.62batch/s]\n"
          ]
        },
        {
          "name": "stdout",
          "output_type": "stream",
          "text": [
            "Validation Loss: 0.056660515819921306 \n",
            "\n"
          ]
        },
        {
          "name": "stderr",
          "output_type": "stream",
          "text": [
            "100%|██████████| 73/73 [00:19<00:00,  3.66batch/s]\n"
          ]
        },
        {
          "name": "stdout",
          "output_type": "stream",
          "text": [
            "Epoch 3/1000, Loss: 0.05436471388164959\n"
          ]
        },
        {
          "name": "stderr",
          "output_type": "stream",
          "text": [
            "100%|██████████| 19/19 [00:01<00:00,  9.81batch/s]\n"
          ]
        },
        {
          "name": "stdout",
          "output_type": "stream",
          "text": [
            "Validation Loss: 0.05537103242731016 \n",
            "\n"
          ]
        },
        {
          "name": "stderr",
          "output_type": "stream",
          "text": [
            "100%|██████████| 73/73 [00:20<00:00,  3.59batch/s]\n"
          ]
        },
        {
          "name": "stdout",
          "output_type": "stream",
          "text": [
            "Epoch 4/1000, Loss: 0.05381860058397463\n"
          ]
        },
        {
          "name": "stderr",
          "output_type": "stream",
          "text": [
            "100%|██████████| 19/19 [00:01<00:00,  9.93batch/s]\n"
          ]
        },
        {
          "name": "stdout",
          "output_type": "stream",
          "text": [
            "Validation Loss: 0.055230529605116895 \n",
            "\n"
          ]
        },
        {
          "name": "stderr",
          "output_type": "stream",
          "text": [
            "100%|██████████| 73/73 [00:20<00:00,  3.57batch/s]\n"
          ]
        },
        {
          "name": "stdout",
          "output_type": "stream",
          "text": [
            "Epoch 5/1000, Loss: 0.053898404639418404\n"
          ]
        },
        {
          "name": "stderr",
          "output_type": "stream",
          "text": [
            "100%|██████████| 19/19 [00:02<00:00,  8.10batch/s]\n"
          ]
        },
        {
          "name": "stdout",
          "output_type": "stream",
          "text": [
            "Validation Loss: 0.05434597110816915 \n",
            "\n"
          ]
        },
        {
          "name": "stderr",
          "output_type": "stream",
          "text": [
            "100%|██████████| 73/73 [00:20<00:00,  3.53batch/s]\n"
          ]
        },
        {
          "name": "stdout",
          "output_type": "stream",
          "text": [
            "Epoch 6/1000, Loss: 0.053475248474270515\n"
          ]
        },
        {
          "name": "stderr",
          "output_type": "stream",
          "text": [
            "100%|██████████| 19/19 [00:01<00:00,  9.75batch/s]\n"
          ]
        },
        {
          "name": "stdout",
          "output_type": "stream",
          "text": [
            "Validation Loss: 0.05522858910262585 \n",
            "\n"
          ]
        },
        {
          "name": "stderr",
          "output_type": "stream",
          "text": [
            "100%|██████████| 73/73 [00:21<00:00,  3.40batch/s]\n"
          ]
        },
        {
          "name": "stdout",
          "output_type": "stream",
          "text": [
            "Epoch 7/1000, Loss: 0.05442879065769176\n"
          ]
        },
        {
          "name": "stderr",
          "output_type": "stream",
          "text": [
            "100%|██████████| 19/19 [00:02<00:00,  9.49batch/s]\n"
          ]
        },
        {
          "name": "stdout",
          "output_type": "stream",
          "text": [
            "Validation Loss: 0.05643645795919981 \n",
            "\n"
          ]
        },
        {
          "name": "stderr",
          "output_type": "stream",
          "text": [
            "100%|██████████| 73/73 [00:21<00:00,  3.42batch/s]\n"
          ]
        },
        {
          "name": "stdout",
          "output_type": "stream",
          "text": [
            "Epoch 8/1000, Loss: 0.05376887280966015\n"
          ]
        },
        {
          "name": "stderr",
          "output_type": "stream",
          "text": [
            "100%|██████████| 19/19 [00:01<00:00,  9.59batch/s]\n"
          ]
        },
        {
          "name": "stdout",
          "output_type": "stream",
          "text": [
            "Validation Loss: 0.05716195249758465 \n",
            "\n"
          ]
        },
        {
          "name": "stderr",
          "output_type": "stream",
          "text": [
            "100%|██████████| 73/73 [00:20<00:00,  3.51batch/s]\n"
          ]
        },
        {
          "name": "stdout",
          "output_type": "stream",
          "text": [
            "Epoch 9/1000, Loss: 0.05319385277107358\n"
          ]
        },
        {
          "name": "stderr",
          "output_type": "stream",
          "text": [
            "100%|██████████| 19/19 [00:02<00:00,  8.77batch/s]\n"
          ]
        },
        {
          "name": "stdout",
          "output_type": "stream",
          "text": [
            "Validation Loss: 0.05412629035938727 \n",
            "\n"
          ]
        },
        {
          "name": "stderr",
          "output_type": "stream",
          "text": [
            "100%|██████████| 73/73 [00:21<00:00,  3.40batch/s]\n"
          ]
        },
        {
          "name": "stdout",
          "output_type": "stream",
          "text": [
            "Epoch 10/1000, Loss: 0.05428803597309002\n"
          ]
        },
        {
          "name": "stderr",
          "output_type": "stream",
          "text": [
            "100%|██████████| 19/19 [00:02<00:00,  9.50batch/s]\n"
          ]
        },
        {
          "name": "stdout",
          "output_type": "stream",
          "text": [
            "Validation Loss: 0.055349740310032904 \n",
            "\n"
          ]
        },
        {
          "name": "stderr",
          "output_type": "stream",
          "text": [
            "100%|██████████| 73/73 [00:21<00:00,  3.43batch/s]\n"
          ]
        },
        {
          "name": "stdout",
          "output_type": "stream",
          "text": [
            "Epoch 11/1000, Loss: 0.05305241035578186\n"
          ]
        },
        {
          "name": "stderr",
          "output_type": "stream",
          "text": [
            "100%|██████████| 19/19 [00:01<00:00,  9.59batch/s]\n"
          ]
        },
        {
          "name": "stdout",
          "output_type": "stream",
          "text": [
            "Validation Loss: 0.05638098776781637 \n",
            "\n"
          ]
        },
        {
          "name": "stderr",
          "output_type": "stream",
          "text": [
            "100%|██████████| 73/73 [00:21<00:00,  3.47batch/s]\n"
          ]
        },
        {
          "name": "stdout",
          "output_type": "stream",
          "text": [
            "Epoch 12/1000, Loss: 0.05270771006734608\n"
          ]
        },
        {
          "name": "stderr",
          "output_type": "stream",
          "text": [
            "100%|██████████| 19/19 [00:02<00:00,  8.58batch/s]\n"
          ]
        },
        {
          "name": "stdout",
          "output_type": "stream",
          "text": [
            "Validation Loss: 0.05374241018006088 \n",
            "\n"
          ]
        },
        {
          "name": "stderr",
          "output_type": "stream",
          "text": [
            "100%|██████████| 73/73 [00:20<00:00,  3.49batch/s]\n"
          ]
        },
        {
          "name": "stdout",
          "output_type": "stream",
          "text": [
            "Epoch 13/1000, Loss: 0.053555852905783345\n"
          ]
        },
        {
          "name": "stderr",
          "output_type": "stream",
          "text": [
            "100%|██████████| 19/19 [00:01<00:00,  9.65batch/s]\n"
          ]
        },
        {
          "name": "stdout",
          "output_type": "stream",
          "text": [
            "Validation Loss: 0.05367464165350324 \n",
            "\n"
          ]
        },
        {
          "name": "stderr",
          "output_type": "stream",
          "text": [
            "100%|██████████| 73/73 [00:21<00:00,  3.45batch/s]\n"
          ]
        },
        {
          "name": "stdout",
          "output_type": "stream",
          "text": [
            "Epoch 14/1000, Loss: 0.05373874990499183\n"
          ]
        },
        {
          "name": "stderr",
          "output_type": "stream",
          "text": [
            "100%|██████████| 19/19 [00:02<00:00,  9.43batch/s]\n"
          ]
        },
        {
          "name": "stdout",
          "output_type": "stream",
          "text": [
            "Validation Loss: 0.055750199250484765 \n",
            "\n"
          ]
        },
        {
          "name": "stderr",
          "output_type": "stream",
          "text": [
            "100%|██████████| 73/73 [00:21<00:00,  3.45batch/s]\n"
          ]
        },
        {
          "name": "stdout",
          "output_type": "stream",
          "text": [
            "Epoch 15/1000, Loss: 0.05256030296154116\n"
          ]
        },
        {
          "name": "stderr",
          "output_type": "stream",
          "text": [
            "100%|██████████| 19/19 [00:01<00:00,  9.63batch/s]\n"
          ]
        },
        {
          "name": "stdout",
          "output_type": "stream",
          "text": [
            "Validation Loss: 0.05430268227294283 \n",
            "\n"
          ]
        },
        {
          "name": "stderr",
          "output_type": "stream",
          "text": [
            "100%|██████████| 73/73 [00:20<00:00,  3.49batch/s]\n"
          ]
        },
        {
          "name": "stdout",
          "output_type": "stream",
          "text": [
            "Epoch 16/1000, Loss: 0.0534651897885926\n"
          ]
        },
        {
          "name": "stderr",
          "output_type": "stream",
          "text": [
            "100%|██████████| 19/19 [00:02<00:00,  8.28batch/s]\n"
          ]
        },
        {
          "name": "stdout",
          "output_type": "stream",
          "text": [
            "Validation Loss: 0.05409493732364162 \n",
            "\n"
          ]
        },
        {
          "name": "stderr",
          "output_type": "stream",
          "text": [
            "100%|██████████| 73/73 [00:20<00:00,  3.49batch/s]\n"
          ]
        },
        {
          "name": "stdout",
          "output_type": "stream",
          "text": [
            "Epoch 17/1000, Loss: 0.05332084622055496\n"
          ]
        },
        {
          "name": "stderr",
          "output_type": "stream",
          "text": [
            "100%|██████████| 19/19 [00:02<00:00,  9.47batch/s]\n"
          ]
        },
        {
          "name": "stdout",
          "output_type": "stream",
          "text": [
            "Validation Loss: 0.05526741518712554 \n",
            "\n"
          ]
        },
        {
          "name": "stderr",
          "output_type": "stream",
          "text": [
            "100%|██████████| 73/73 [00:21<00:00,  3.46batch/s]\n"
          ]
        },
        {
          "name": "stdout",
          "output_type": "stream",
          "text": [
            "Epoch 18/1000, Loss: 0.052778361358820164\n"
          ]
        },
        {
          "name": "stderr",
          "output_type": "stream",
          "text": [
            "100%|██████████| 19/19 [00:02<00:00,  9.48batch/s]\n"
          ]
        },
        {
          "name": "stdout",
          "output_type": "stream",
          "text": [
            "Validation Loss: 0.052740174701045216 \n",
            "\n"
          ]
        },
        {
          "name": "stderr",
          "output_type": "stream",
          "text": [
            "100%|██████████| 73/73 [00:20<00:00,  3.49batch/s]\n"
          ]
        },
        {
          "name": "stdout",
          "output_type": "stream",
          "text": [
            "Epoch 19/1000, Loss: 0.05144169791410231\n"
          ]
        },
        {
          "name": "stderr",
          "output_type": "stream",
          "text": [
            "100%|██████████| 19/19 [00:02<00:00,  8.14batch/s]\n"
          ]
        },
        {
          "name": "stdout",
          "output_type": "stream",
          "text": [
            "Validation Loss: 0.05488984946676187 \n",
            "\n"
          ]
        },
        {
          "name": "stderr",
          "output_type": "stream",
          "text": [
            "100%|██████████| 73/73 [00:20<00:00,  3.49batch/s]\n"
          ]
        },
        {
          "name": "stdout",
          "output_type": "stream",
          "text": [
            "Epoch 20/1000, Loss: 0.05358897931618641\n"
          ]
        },
        {
          "name": "stderr",
          "output_type": "stream",
          "text": [
            "100%|██████████| 19/19 [00:02<00:00,  9.45batch/s]\n"
          ]
        },
        {
          "name": "stdout",
          "output_type": "stream",
          "text": [
            "Validation Loss: 0.05448088337863354 \n",
            "\n"
          ]
        },
        {
          "name": "stderr",
          "output_type": "stream",
          "text": [
            "100%|██████████| 73/73 [00:21<00:00,  3.47batch/s]\n"
          ]
        },
        {
          "name": "stdout",
          "output_type": "stream",
          "text": [
            "Epoch 21/1000, Loss: 0.05339540331305502\n"
          ]
        },
        {
          "name": "stderr",
          "output_type": "stream",
          "text": [
            "100%|██████████| 19/19 [00:02<00:00,  9.38batch/s]\n"
          ]
        },
        {
          "name": "stdout",
          "output_type": "stream",
          "text": [
            "Validation Loss: 0.05452776889586331 \n",
            "\n"
          ]
        },
        {
          "name": "stderr",
          "output_type": "stream",
          "text": [
            "100%|██████████| 73/73 [00:21<00:00,  3.43batch/s]\n"
          ]
        },
        {
          "name": "stdout",
          "output_type": "stream",
          "text": [
            "Epoch 22/1000, Loss: 0.053173722922546816\n"
          ]
        },
        {
          "name": "stderr",
          "output_type": "stream",
          "text": [
            "100%|██████████| 19/19 [00:02<00:00,  8.01batch/s]\n"
          ]
        },
        {
          "name": "stdout",
          "output_type": "stream",
          "text": [
            "Validation Loss: 0.05554004221860515 \n",
            "\n"
          ]
        },
        {
          "name": "stderr",
          "output_type": "stream",
          "text": [
            "100%|██████████| 73/73 [00:20<00:00,  3.50batch/s]\n"
          ]
        },
        {
          "name": "stdout",
          "output_type": "stream",
          "text": [
            "Epoch 23/1000, Loss: 0.05306541909501977\n"
          ]
        },
        {
          "name": "stderr",
          "output_type": "stream",
          "text": [
            "100%|██████████| 19/19 [00:02<00:00,  9.47batch/s]\n"
          ]
        },
        {
          "name": "stdout",
          "output_type": "stream",
          "text": [
            "Validation Loss: 0.05438478139082068 \n",
            "\n"
          ]
        },
        {
          "name": "stderr",
          "output_type": "stream",
          "text": [
            "100%|██████████| 73/73 [00:20<00:00,  3.48batch/s]\n"
          ]
        },
        {
          "name": "stdout",
          "output_type": "stream",
          "text": [
            "Epoch 24/1000, Loss: 0.05340731992348008\n"
          ]
        },
        {
          "name": "stderr",
          "output_type": "stream",
          "text": [
            "100%|██████████| 19/19 [00:01<00:00,  9.51batch/s]\n"
          ]
        },
        {
          "name": "stdout",
          "output_type": "stream",
          "text": [
            "Validation Loss: 0.05351258236547246 \n",
            "\n"
          ]
        },
        {
          "name": "stderr",
          "output_type": "stream",
          "text": [
            "100%|██████████| 73/73 [00:20<00:00,  3.49batch/s]\n"
          ]
        },
        {
          "name": "stdout",
          "output_type": "stream",
          "text": [
            "Epoch 25/1000, Loss: 0.05300371254449838\n"
          ]
        },
        {
          "name": "stderr",
          "output_type": "stream",
          "text": [
            "100%|██████████| 19/19 [00:02<00:00,  8.76batch/s]\n"
          ]
        },
        {
          "name": "stdout",
          "output_type": "stream",
          "text": [
            "Validation Loss: 0.055124610552172125 \n",
            "\n"
          ]
        },
        {
          "name": "stderr",
          "output_type": "stream",
          "text": [
            "100%|██████████| 73/73 [00:20<00:00,  3.54batch/s]\n"
          ]
        },
        {
          "name": "stdout",
          "output_type": "stream",
          "text": [
            "Epoch 26/1000, Loss: 0.05342144358341824\n"
          ]
        },
        {
          "name": "stderr",
          "output_type": "stream",
          "text": [
            "100%|██████████| 19/19 [00:02<00:00,  9.44batch/s]\n"
          ]
        },
        {
          "name": "stdout",
          "output_type": "stream",
          "text": [
            "Validation Loss: 0.056452373949516764 \n",
            "\n"
          ]
        },
        {
          "name": "stderr",
          "output_type": "stream",
          "text": [
            "100%|██████████| 73/73 [00:20<00:00,  3.48batch/s]\n"
          ]
        },
        {
          "name": "stdout",
          "output_type": "stream",
          "text": [
            "Epoch 27/1000, Loss: 0.0538830200261245\n"
          ]
        },
        {
          "name": "stderr",
          "output_type": "stream",
          "text": [
            "100%|██████████| 19/19 [00:01<00:00,  9.54batch/s]\n"
          ]
        },
        {
          "name": "stdout",
          "output_type": "stream",
          "text": [
            "Validation Loss: 0.05561274846427535 \n",
            "\n"
          ]
        },
        {
          "name": "stderr",
          "output_type": "stream",
          "text": [
            "100%|██████████| 73/73 [00:21<00:00,  3.47batch/s]\n"
          ]
        },
        {
          "name": "stdout",
          "output_type": "stream",
          "text": [
            "Epoch 28/1000, Loss: 0.054162326811060105\n"
          ]
        },
        {
          "name": "stderr",
          "output_type": "stream",
          "text": [
            "100%|██████████| 19/19 [00:01<00:00,  9.52batch/s]\n"
          ]
        },
        {
          "name": "stdout",
          "output_type": "stream",
          "text": [
            "Validation Loss: 0.054319060775206277 \n",
            "\n"
          ]
        },
        {
          "name": "stderr",
          "output_type": "stream",
          "text": [
            "100%|██████████| 73/73 [00:20<00:00,  3.53batch/s]\n"
          ]
        },
        {
          "name": "stdout",
          "output_type": "stream",
          "text": [
            "Epoch 29/1000, Loss: 0.05310621219750953\n"
          ]
        },
        {
          "name": "stderr",
          "output_type": "stream",
          "text": [
            "100%|██████████| 19/19 [00:02<00:00,  8.77batch/s]\n"
          ]
        },
        {
          "name": "stdout",
          "output_type": "stream",
          "text": [
            "Validation Loss: 0.05615751067249987 \n",
            "\n"
          ]
        },
        {
          "name": "stderr",
          "output_type": "stream",
          "text": [
            "100%|██████████| 73/73 [00:20<00:00,  3.51batch/s]\n"
          ]
        },
        {
          "name": "stdout",
          "output_type": "stream",
          "text": [
            "Epoch 30/1000, Loss: 0.0539993937382449\n"
          ]
        },
        {
          "name": "stderr",
          "output_type": "stream",
          "text": [
            "100%|██████████| 19/19 [00:02<00:00,  9.49batch/s]\n"
          ]
        },
        {
          "name": "stdout",
          "output_type": "stream",
          "text": [
            "Validation Loss: 0.05623192175928699 \n",
            "\n"
          ]
        },
        {
          "name": "stderr",
          "output_type": "stream",
          "text": [
            "100%|██████████| 73/73 [00:20<00:00,  3.49batch/s]\n"
          ]
        },
        {
          "name": "stdout",
          "output_type": "stream",
          "text": [
            "Epoch 31/1000, Loss: 0.05318619467458394\n"
          ]
        },
        {
          "name": "stderr",
          "output_type": "stream",
          "text": [
            "100%|██████████| 19/19 [00:02<00:00,  9.49batch/s]\n"
          ]
        },
        {
          "name": "stdout",
          "output_type": "stream",
          "text": [
            "Validation Loss: 0.05475577324212186 \n",
            "\n"
          ]
        },
        {
          "name": "stderr",
          "output_type": "stream",
          "text": [
            "100%|██████████| 73/73 [00:20<00:00,  3.52batch/s]\n"
          ]
        },
        {
          "name": "stdout",
          "output_type": "stream",
          "text": [
            "Epoch 32/1000, Loss: 0.053943069390187115\n"
          ]
        },
        {
          "name": "stderr",
          "output_type": "stream",
          "text": [
            "100%|██████████| 19/19 [00:02<00:00,  8.23batch/s]\n"
          ]
        },
        {
          "name": "stdout",
          "output_type": "stream",
          "text": [
            "Validation Loss: 0.05473565573706046 \n",
            "\n"
          ]
        },
        {
          "name": "stderr",
          "output_type": "stream",
          "text": [
            "100%|██████████| 73/73 [00:20<00:00,  3.51batch/s]\n"
          ]
        },
        {
          "name": "stdout",
          "output_type": "stream",
          "text": [
            "Epoch 33/1000, Loss: 0.05269012749450256\n"
          ]
        },
        {
          "name": "stderr",
          "output_type": "stream",
          "text": [
            "100%|██████████| 19/19 [00:02<00:00,  9.36batch/s]\n"
          ]
        },
        {
          "name": "stdout",
          "output_type": "stream",
          "text": [
            "Validation Loss: 0.05490075774784935 \n",
            "\n"
          ]
        },
        {
          "name": "stderr",
          "output_type": "stream",
          "text": [
            "100%|██████████| 73/73 [00:21<00:00,  3.42batch/s]\n"
          ]
        },
        {
          "name": "stdout",
          "output_type": "stream",
          "text": [
            "Epoch 34/1000, Loss: 0.05315541039693029\n"
          ]
        },
        {
          "name": "stderr",
          "output_type": "stream",
          "text": [
            "100%|██████████| 19/19 [00:02<00:00,  9.39batch/s]\n"
          ]
        },
        {
          "name": "stdout",
          "output_type": "stream",
          "text": [
            "Validation Loss: 0.053481742059566864 \n",
            "\n"
          ]
        },
        {
          "name": "stderr",
          "output_type": "stream",
          "text": [
            "100%|██████████| 73/73 [00:20<00:00,  3.53batch/s]\n"
          ]
        },
        {
          "name": "stdout",
          "output_type": "stream",
          "text": [
            "Epoch 35/1000, Loss: 0.05329971063295252\n"
          ]
        },
        {
          "name": "stderr",
          "output_type": "stream",
          "text": [
            "100%|██████████| 19/19 [00:02<00:00,  8.79batch/s]\n"
          ]
        },
        {
          "name": "stdout",
          "output_type": "stream",
          "text": [
            "Validation Loss: 0.054177552173649404 \n",
            "\n"
          ]
        },
        {
          "name": "stderr",
          "output_type": "stream",
          "text": [
            "100%|██████████| 73/73 [00:20<00:00,  3.52batch/s]\n"
          ]
        },
        {
          "name": "stdout",
          "output_type": "stream",
          "text": [
            "Epoch 36/1000, Loss: 0.05338305130294741\n"
          ]
        },
        {
          "name": "stderr",
          "output_type": "stream",
          "text": [
            "100%|██████████| 19/19 [00:01<00:00,  9.53batch/s]\n"
          ]
        },
        {
          "name": "stdout",
          "output_type": "stream",
          "text": [
            "Validation Loss: 0.054123862940622006 \n",
            "\n"
          ]
        },
        {
          "name": "stderr",
          "output_type": "stream",
          "text": [
            "100%|██████████| 73/73 [00:20<00:00,  3.50batch/s]\n"
          ]
        },
        {
          "name": "stdout",
          "output_type": "stream",
          "text": [
            "Epoch 37/1000, Loss: 0.05386983821398183\n"
          ]
        },
        {
          "name": "stderr",
          "output_type": "stream",
          "text": [
            "100%|██████████| 19/19 [00:02<00:00,  9.45batch/s]\n"
          ]
        },
        {
          "name": "stdout",
          "output_type": "stream",
          "text": [
            "Validation Loss: 0.05520617477228179 \n",
            "\n"
          ]
        },
        {
          "name": "stderr",
          "output_type": "stream",
          "text": [
            "100%|██████████| 73/73 [00:20<00:00,  3.52batch/s]\n"
          ]
        },
        {
          "name": "stdout",
          "output_type": "stream",
          "text": [
            "Epoch 38/1000, Loss: 0.05285783507542251\n"
          ]
        },
        {
          "name": "stderr",
          "output_type": "stream",
          "text": [
            "100%|██████████| 19/19 [00:02<00:00,  8.23batch/s]\n"
          ]
        },
        {
          "name": "stdout",
          "output_type": "stream",
          "text": [
            "Validation Loss: 0.05323434644378722 \n",
            "\n"
          ]
        },
        {
          "name": "stderr",
          "output_type": "stream",
          "text": [
            "100%|██████████| 73/73 [00:20<00:00,  3.52batch/s]\n"
          ]
        },
        {
          "name": "stdout",
          "output_type": "stream",
          "text": [
            "Epoch 39/1000, Loss: 0.0543648545974738\n"
          ]
        },
        {
          "name": "stderr",
          "output_type": "stream",
          "text": [
            "100%|██████████| 19/19 [00:02<00:00,  9.44batch/s]\n"
          ]
        },
        {
          "name": "stdout",
          "output_type": "stream",
          "text": [
            "Validation Loss: 0.05647348260237394 \n",
            "\n"
          ]
        },
        {
          "name": "stderr",
          "output_type": "stream",
          "text": [
            "100%|██████████| 73/73 [00:21<00:00,  3.47batch/s]\n"
          ]
        },
        {
          "name": "stdout",
          "output_type": "stream",
          "text": [
            "Epoch 40/1000, Loss: 0.05385189613148774\n"
          ]
        },
        {
          "name": "stderr",
          "output_type": "stream",
          "text": [
            "100%|██████████| 19/19 [00:01<00:00,  9.58batch/s]\n"
          ]
        },
        {
          "name": "stdout",
          "output_type": "stream",
          "text": [
            "Validation Loss: 0.05618384085276997 \n",
            "\n"
          ]
        },
        {
          "name": "stderr",
          "output_type": "stream",
          "text": [
            "100%|██████████| 73/73 [00:20<00:00,  3.52batch/s]\n"
          ]
        },
        {
          "name": "stdout",
          "output_type": "stream",
          "text": [
            "Epoch 41/1000, Loss: 0.0539450873301862\n"
          ]
        },
        {
          "name": "stderr",
          "output_type": "stream",
          "text": [
            "100%|██████████| 19/19 [00:02<00:00,  7.93batch/s]\n"
          ]
        },
        {
          "name": "stdout",
          "output_type": "stream",
          "text": [
            "Validation Loss: 0.05374043929929796 \n",
            "\n"
          ]
        },
        {
          "name": "stderr",
          "output_type": "stream",
          "text": [
            "100%|██████████| 73/73 [00:20<00:00,  3.53batch/s]\n"
          ]
        },
        {
          "name": "stdout",
          "output_type": "stream",
          "text": [
            "Epoch 42/1000, Loss: 0.05294200848175647\n"
          ]
        },
        {
          "name": "stderr",
          "output_type": "stream",
          "text": [
            "100%|██████████| 19/19 [00:01<00:00,  9.58batch/s]\n"
          ]
        },
        {
          "name": "stdout",
          "output_type": "stream",
          "text": [
            "Validation Loss: 0.0543141813372801 \n",
            "\n"
          ]
        },
        {
          "name": "stderr",
          "output_type": "stream",
          "text": [
            "100%|██████████| 73/73 [00:20<00:00,  3.49batch/s]\n"
          ]
        },
        {
          "name": "stdout",
          "output_type": "stream",
          "text": [
            "Epoch 43/1000, Loss: 0.05377683387941694\n"
          ]
        },
        {
          "name": "stderr",
          "output_type": "stream",
          "text": [
            "100%|██████████| 19/19 [00:02<00:00,  9.45batch/s]\n"
          ]
        },
        {
          "name": "stdout",
          "output_type": "stream",
          "text": [
            "Validation Loss: 0.05457938045851494 \n",
            "\n"
          ]
        },
        {
          "name": "stderr",
          "output_type": "stream",
          "text": [
            "100%|██████████| 73/73 [00:20<00:00,  3.50batch/s]\n"
          ]
        },
        {
          "name": "stdout",
          "output_type": "stream",
          "text": [
            "Epoch 44/1000, Loss: 0.05332750614655957\n"
          ]
        },
        {
          "name": "stderr",
          "output_type": "stream",
          "text": [
            "100%|██████████| 19/19 [00:02<00:00,  8.92batch/s]\n"
          ]
        },
        {
          "name": "stdout",
          "output_type": "stream",
          "text": [
            "Validation Loss: 0.05382002844769312 \n",
            "\n"
          ]
        },
        {
          "name": "stderr",
          "output_type": "stream",
          "text": [
            "100%|██████████| 73/73 [00:20<00:00,  3.53batch/s]\n"
          ]
        },
        {
          "name": "stdout",
          "output_type": "stream",
          "text": [
            "Epoch 45/1000, Loss: 0.05328034975068414\n"
          ]
        },
        {
          "name": "stderr",
          "output_type": "stream",
          "text": [
            "100%|██████████| 19/19 [00:02<00:00,  9.19batch/s]\n"
          ]
        },
        {
          "name": "stdout",
          "output_type": "stream",
          "text": [
            "Validation Loss: 0.0555664733615949 \n",
            "\n"
          ]
        },
        {
          "name": "stderr",
          "output_type": "stream",
          "text": [
            "100%|██████████| 73/73 [00:21<00:00,  3.44batch/s]\n"
          ]
        },
        {
          "name": "stdout",
          "output_type": "stream",
          "text": [
            "Epoch 46/1000, Loss: 0.05330102186496943\n"
          ]
        },
        {
          "name": "stderr",
          "output_type": "stream",
          "text": [
            "100%|██████████| 19/19 [00:01<00:00,  9.53batch/s]\n"
          ]
        },
        {
          "name": "stdout",
          "output_type": "stream",
          "text": [
            "Validation Loss: 0.053800182490560566 \n",
            "\n"
          ]
        },
        {
          "name": "stderr",
          "output_type": "stream",
          "text": [
            "100%|██████████| 73/73 [00:20<00:00,  3.49batch/s]\n"
          ]
        },
        {
          "name": "stdout",
          "output_type": "stream",
          "text": [
            "Epoch 47/1000, Loss: 0.05201785236418451\n"
          ]
        },
        {
          "name": "stderr",
          "output_type": "stream",
          "text": [
            "100%|██████████| 19/19 [00:02<00:00,  9.49batch/s]\n"
          ]
        },
        {
          "name": "stdout",
          "output_type": "stream",
          "text": [
            "Validation Loss: 0.05477141421655879 \n",
            "\n"
          ]
        },
        {
          "name": "stderr",
          "output_type": "stream",
          "text": [
            "100%|██████████| 73/73 [00:20<00:00,  3.52batch/s]\n"
          ]
        },
        {
          "name": "stdout",
          "output_type": "stream",
          "text": [
            "Epoch 48/1000, Loss: 0.05364078075357088\n"
          ]
        },
        {
          "name": "stderr",
          "output_type": "stream",
          "text": [
            "100%|██████████| 19/19 [00:02<00:00,  8.61batch/s]\n"
          ]
        },
        {
          "name": "stdout",
          "output_type": "stream",
          "text": [
            "Validation Loss: 0.056033514011161106 \n",
            "\n"
          ]
        },
        {
          "name": "stderr",
          "output_type": "stream",
          "text": [
            "100%|██████████| 73/73 [00:20<00:00,  3.50batch/s]\n"
          ]
        },
        {
          "name": "stdout",
          "output_type": "stream",
          "text": [
            "Epoch 49/1000, Loss: 0.05380368387096957\n"
          ]
        },
        {
          "name": "stderr",
          "output_type": "stream",
          "text": [
            "100%|██████████| 19/19 [00:01<00:00,  9.52batch/s]\n"
          ]
        },
        {
          "name": "stdout",
          "output_type": "stream",
          "text": [
            "Validation Loss: 0.05573041189927608 \n",
            "\n"
          ]
        },
        {
          "name": "stderr",
          "output_type": "stream",
          "text": [
            "100%|██████████| 73/73 [00:20<00:00,  3.49batch/s]\n"
          ]
        },
        {
          "name": "stdout",
          "output_type": "stream",
          "text": [
            "Epoch 50/1000, Loss: 0.053683385501730525\n"
          ]
        },
        {
          "name": "stderr",
          "output_type": "stream",
          "text": [
            "100%|██████████| 19/19 [00:02<00:00,  9.43batch/s]\n"
          ]
        },
        {
          "name": "stdout",
          "output_type": "stream",
          "text": [
            "Validation Loss: 0.05448291529166071 \n",
            "\n"
          ]
        },
        {
          "name": "stderr",
          "output_type": "stream",
          "text": [
            "100%|██████████| 73/73 [00:20<00:00,  3.50batch/s]\n"
          ]
        },
        {
          "name": "stdout",
          "output_type": "stream",
          "text": [
            "Epoch 51/1000, Loss: 0.053136858757432195\n"
          ]
        },
        {
          "name": "stderr",
          "output_type": "stream",
          "text": [
            "100%|██████████| 19/19 [00:02<00:00,  8.15batch/s]\n"
          ]
        },
        {
          "name": "stdout",
          "output_type": "stream",
          "text": [
            "Validation Loss: 0.055304767398506795 \n",
            "\n"
          ]
        },
        {
          "name": "stderr",
          "output_type": "stream",
          "text": [
            "100%|██████████| 73/73 [00:20<00:00,  3.50batch/s]\n"
          ]
        },
        {
          "name": "stdout",
          "output_type": "stream",
          "text": [
            "Epoch 52/1000, Loss: 0.05353194134539529\n"
          ]
        },
        {
          "name": "stderr",
          "output_type": "stream",
          "text": [
            "100%|██████████| 19/19 [00:01<00:00,  9.57batch/s]\n"
          ]
        },
        {
          "name": "stdout",
          "output_type": "stream",
          "text": [
            "Validation Loss: 0.05556450294036614 \n",
            "\n"
          ]
        },
        {
          "name": "stderr",
          "output_type": "stream",
          "text": [
            "100%|██████████| 73/73 [00:20<00:00,  3.50batch/s]\n"
          ]
        },
        {
          "name": "stdout",
          "output_type": "stream",
          "text": [
            "Epoch 53/1000, Loss: 0.05356001520963156\n"
          ]
        },
        {
          "name": "stderr",
          "output_type": "stream",
          "text": [
            "100%|██████████| 19/19 [00:02<00:00,  9.47batch/s]\n"
          ]
        },
        {
          "name": "stdout",
          "output_type": "stream",
          "text": [
            "Validation Loss: 0.05555019384299062 \n",
            "\n"
          ]
        },
        {
          "name": "stderr",
          "output_type": "stream",
          "text": [
            "100%|██████████| 73/73 [00:20<00:00,  3.52batch/s]\n"
          ]
        },
        {
          "name": "stdout",
          "output_type": "stream",
          "text": [
            "Epoch 54/1000, Loss: 0.05423777362280716\n"
          ]
        },
        {
          "name": "stderr",
          "output_type": "stream",
          "text": [
            "100%|██████████| 19/19 [00:02<00:00,  8.12batch/s]\n"
          ]
        },
        {
          "name": "stdout",
          "output_type": "stream",
          "text": [
            "Validation Loss: 0.05528469384942008 \n",
            "\n"
          ]
        },
        {
          "name": "stderr",
          "output_type": "stream",
          "text": [
            "100%|██████████| 73/73 [00:20<00:00,  3.52batch/s]\n"
          ]
        },
        {
          "name": "stdout",
          "output_type": "stream",
          "text": [
            "Epoch 55/1000, Loss: 0.05281884463708082\n"
          ]
        },
        {
          "name": "stderr",
          "output_type": "stream",
          "text": [
            "100%|██████████| 19/19 [00:01<00:00,  9.60batch/s]\n"
          ]
        },
        {
          "name": "stdout",
          "output_type": "stream",
          "text": [
            "Validation Loss: 0.05530297335261773 \n",
            "\n"
          ]
        },
        {
          "name": "stderr",
          "output_type": "stream",
          "text": [
            "100%|██████████| 73/73 [00:20<00:00,  3.52batch/s]\n"
          ]
        },
        {
          "name": "stdout",
          "output_type": "stream",
          "text": [
            "Epoch 56/1000, Loss: 0.05415792910586277\n"
          ]
        },
        {
          "name": "stderr",
          "output_type": "stream",
          "text": [
            "100%|██████████| 19/19 [00:01<00:00,  9.52batch/s]\n"
          ]
        },
        {
          "name": "stdout",
          "output_type": "stream",
          "text": [
            "Validation Loss: 0.05611457955092192 \n",
            "\n"
          ]
        },
        {
          "name": "stderr",
          "output_type": "stream",
          "text": [
            "100%|██████████| 73/73 [00:20<00:00,  3.54batch/s]\n"
          ]
        },
        {
          "name": "stdout",
          "output_type": "stream",
          "text": [
            "Epoch 57/1000, Loss: 0.05393085514565241\n"
          ]
        },
        {
          "name": "stderr",
          "output_type": "stream",
          "text": [
            "100%|██████████| 19/19 [00:02<00:00,  8.66batch/s]\n"
          ]
        },
        {
          "name": "stdout",
          "output_type": "stream",
          "text": [
            "Validation Loss: 0.05601903688971346 \n",
            "\n"
          ]
        },
        {
          "name": "stderr",
          "output_type": "stream",
          "text": [
            "100%|██████████| 73/73 [00:20<00:00,  3.53batch/s]\n"
          ]
        },
        {
          "name": "stdout",
          "output_type": "stream",
          "text": [
            "Epoch 58/1000, Loss: 0.054100925172998075\n"
          ]
        },
        {
          "name": "stderr",
          "output_type": "stream",
          "text": [
            "100%|██████████| 19/19 [00:02<00:00,  9.33batch/s]\n"
          ]
        },
        {
          "name": "stdout",
          "output_type": "stream",
          "text": [
            "Validation Loss: 0.056182728994539695 \n",
            "\n"
          ]
        },
        {
          "name": "stderr",
          "output_type": "stream",
          "text": [
            "100%|██████████| 73/73 [00:20<00:00,  3.53batch/s]\n"
          ]
        },
        {
          "name": "stdout",
          "output_type": "stream",
          "text": [
            "Epoch 59/1000, Loss: 0.05411093196933706\n"
          ]
        },
        {
          "name": "stderr",
          "output_type": "stream",
          "text": [
            "100%|██████████| 19/19 [00:02<00:00,  9.39batch/s]\n"
          ]
        },
        {
          "name": "stdout",
          "output_type": "stream",
          "text": [
            "Validation Loss: 0.05614461043947622 \n",
            "\n"
          ]
        },
        {
          "name": "stderr",
          "output_type": "stream",
          "text": [
            "100%|██████████| 73/73 [00:20<00:00,  3.52batch/s]\n"
          ]
        },
        {
          "name": "stdout",
          "output_type": "stream",
          "text": [
            "Epoch 60/1000, Loss: 0.054223663077932104\n"
          ]
        },
        {
          "name": "stderr",
          "output_type": "stream",
          "text": [
            "100%|██████████| 19/19 [00:02<00:00,  9.32batch/s]\n"
          ]
        },
        {
          "name": "stdout",
          "output_type": "stream",
          "text": [
            "Validation Loss: 0.0560385881016325 \n",
            "\n"
          ]
        },
        {
          "name": "stderr",
          "output_type": "stream",
          "text": [
            "100%|██████████| 73/73 [00:20<00:00,  3.55batch/s]\n"
          ]
        },
        {
          "name": "stdout",
          "output_type": "stream",
          "text": [
            "Epoch 61/1000, Loss: 0.053590138063268504\n"
          ]
        },
        {
          "name": "stderr",
          "output_type": "stream",
          "text": [
            "100%|██████████| 19/19 [00:02<00:00,  9.05batch/s]\n"
          ]
        },
        {
          "name": "stdout",
          "output_type": "stream",
          "text": [
            "Validation Loss: 0.05499750368395134 \n",
            "\n"
          ]
        },
        {
          "name": "stderr",
          "output_type": "stream",
          "text": [
            "100%|██████████| 73/73 [00:20<00:00,  3.48batch/s]\n"
          ]
        },
        {
          "name": "stdout",
          "output_type": "stream",
          "text": [
            "Epoch 62/1000, Loss: 0.053127811443417855\n"
          ]
        },
        {
          "name": "stderr",
          "output_type": "stream",
          "text": [
            "100%|██████████| 19/19 [00:02<00:00,  9.30batch/s]\n"
          ]
        },
        {
          "name": "stdout",
          "output_type": "stream",
          "text": [
            "Validation Loss: 0.0538396089778919 \n",
            "\n"
          ]
        },
        {
          "name": "stderr",
          "output_type": "stream",
          "text": [
            "100%|██████████| 73/73 [00:20<00:00,  3.48batch/s]\n"
          ]
        },
        {
          "name": "stdout",
          "output_type": "stream",
          "text": [
            "Epoch 63/1000, Loss: 0.052999440306312824\n"
          ]
        },
        {
          "name": "stderr",
          "output_type": "stream",
          "text": [
            "100%|██████████| 19/19 [00:01<00:00,  9.54batch/s]\n"
          ]
        },
        {
          "name": "stdout",
          "output_type": "stream",
          "text": [
            "Validation Loss: 0.05658651916555276 \n",
            "\n"
          ]
        },
        {
          "name": "stderr",
          "output_type": "stream",
          "text": [
            "100%|██████████| 73/73 [00:20<00:00,  3.53batch/s]\n"
          ]
        },
        {
          "name": "stdout",
          "output_type": "stream",
          "text": [
            "Epoch 64/1000, Loss: 0.05391417894742056\n"
          ]
        },
        {
          "name": "stderr",
          "output_type": "stream",
          "text": [
            "100%|██████████| 19/19 [00:02<00:00,  8.29batch/s]\n"
          ]
        },
        {
          "name": "stdout",
          "output_type": "stream",
          "text": [
            "Validation Loss: 0.05496830487084624 \n",
            "\n"
          ]
        },
        {
          "name": "stderr",
          "output_type": "stream",
          "text": [
            "100%|██████████| 73/73 [00:20<00:00,  3.51batch/s]\n"
          ]
        },
        {
          "name": "stdout",
          "output_type": "stream",
          "text": [
            "Epoch 65/1000, Loss: 0.05412940055846351\n"
          ]
        },
        {
          "name": "stderr",
          "output_type": "stream",
          "text": [
            "100%|██████████| 19/19 [00:02<00:00,  9.41batch/s]\n"
          ]
        },
        {
          "name": "stdout",
          "output_type": "stream",
          "text": [
            "Validation Loss: 0.05385458528211242 \n",
            "\n"
          ]
        },
        {
          "name": "stderr",
          "output_type": "stream",
          "text": [
            "100%|██████████| 73/73 [00:20<00:00,  3.49batch/s]\n"
          ]
        },
        {
          "name": "stdout",
          "output_type": "stream",
          "text": [
            "Epoch 66/1000, Loss: 0.05402424687851373\n"
          ]
        },
        {
          "name": "stderr",
          "output_type": "stream",
          "text": [
            "100%|██████████| 19/19 [00:02<00:00,  9.42batch/s]\n"
          ]
        },
        {
          "name": "stdout",
          "output_type": "stream",
          "text": [
            "Validation Loss: 0.05471458355283463 \n",
            "\n"
          ]
        },
        {
          "name": "stderr",
          "output_type": "stream",
          "text": [
            "100%|██████████| 73/73 [00:20<00:00,  3.50batch/s]\n"
          ]
        },
        {
          "name": "stdout",
          "output_type": "stream",
          "text": [
            "Epoch 67/1000, Loss: 0.05323854819807696\n"
          ]
        },
        {
          "name": "stderr",
          "output_type": "stream",
          "text": [
            "100%|██████████| 19/19 [00:02<00:00,  7.98batch/s]\n"
          ]
        },
        {
          "name": "stdout",
          "output_type": "stream",
          "text": [
            "Validation Loss: 0.054925112966693154 \n",
            "\n"
          ]
        },
        {
          "name": "stderr",
          "output_type": "stream",
          "text": [
            "100%|██████████| 73/73 [00:20<00:00,  3.52batch/s]\n"
          ]
        },
        {
          "name": "stdout",
          "output_type": "stream",
          "text": [
            "Epoch 68/1000, Loss: 0.054331732569389966\n"
          ]
        },
        {
          "name": "stderr",
          "output_type": "stream",
          "text": [
            "100%|██████████| 19/19 [00:01<00:00,  9.60batch/s]\n"
          ]
        },
        {
          "name": "stdout",
          "output_type": "stream",
          "text": [
            "Validation Loss: 0.055507323968126195 \n",
            "\n"
          ]
        },
        {
          "name": "stderr",
          "output_type": "stream",
          "text": [
            "100%|██████████| 73/73 [00:20<00:00,  3.48batch/s]\n"
          ]
        },
        {
          "name": "stdout",
          "output_type": "stream",
          "text": [
            "Epoch 69/1000, Loss: 0.05322573949225655\n"
          ]
        },
        {
          "name": "stderr",
          "output_type": "stream",
          "text": [
            "100%|██████████| 19/19 [00:02<00:00,  7.92batch/s]\n"
          ]
        },
        {
          "name": "stdout",
          "output_type": "stream",
          "text": [
            "Validation Loss: 0.05522050791861195 \n",
            "\n"
          ]
        },
        {
          "name": "stderr",
          "output_type": "stream",
          "text": [
            "100%|██████████| 73/73 [00:20<00:00,  3.49batch/s]\n"
          ]
        },
        {
          "name": "stdout",
          "output_type": "stream",
          "text": [
            "Epoch 70/1000, Loss: 0.05388050077304448\n"
          ]
        },
        {
          "name": "stderr",
          "output_type": "stream",
          "text": [
            "100%|██████████| 19/19 [00:02<00:00,  8.82batch/s]\n"
          ]
        },
        {
          "name": "stdout",
          "output_type": "stream",
          "text": [
            "Validation Loss: 0.05533158217899894 \n",
            "\n"
          ]
        },
        {
          "name": "stderr",
          "output_type": "stream",
          "text": [
            "100%|██████████| 73/73 [00:20<00:00,  3.52batch/s]\n"
          ]
        },
        {
          "name": "stdout",
          "output_type": "stream",
          "text": [
            "Epoch 71/1000, Loss: 0.05304626935187166\n"
          ]
        },
        {
          "name": "stderr",
          "output_type": "stream",
          "text": [
            "100%|██████████| 19/19 [00:02<00:00,  9.23batch/s]\n"
          ]
        },
        {
          "name": "stdout",
          "output_type": "stream",
          "text": [
            "Validation Loss: 0.054021739192601094 \n",
            "\n"
          ]
        },
        {
          "name": "stderr",
          "output_type": "stream",
          "text": [
            "100%|██████████| 73/73 [00:20<00:00,  3.48batch/s]\n"
          ]
        },
        {
          "name": "stdout",
          "output_type": "stream",
          "text": [
            "Epoch 72/1000, Loss: 0.05321635559762586\n"
          ]
        },
        {
          "name": "stderr",
          "output_type": "stream",
          "text": [
            "100%|██████████| 19/19 [00:02<00:00,  9.36batch/s]\n"
          ]
        },
        {
          "name": "stdout",
          "output_type": "stream",
          "text": [
            "Validation Loss: 0.05651827823174627 \n",
            "\n"
          ]
        },
        {
          "name": "stderr",
          "output_type": "stream",
          "text": [
            "100%|██████████| 73/73 [00:20<00:00,  3.53batch/s]\n"
          ]
        },
        {
          "name": "stdout",
          "output_type": "stream",
          "text": [
            "Epoch 73/1000, Loss: 0.05384966648783382\n"
          ]
        },
        {
          "name": "stderr",
          "output_type": "stream",
          "text": [
            "100%|██████████| 19/19 [00:02<00:00,  9.34batch/s]\n"
          ]
        },
        {
          "name": "stdout",
          "output_type": "stream",
          "text": [
            "Validation Loss: 0.05598001071791116 \n",
            "\n"
          ]
        },
        {
          "name": "stderr",
          "output_type": "stream",
          "text": [
            "100%|██████████| 73/73 [00:20<00:00,  3.58batch/s]\n"
          ]
        },
        {
          "name": "stdout",
          "output_type": "stream",
          "text": [
            "Epoch 74/1000, Loss: 0.05419574881750733\n"
          ]
        },
        {
          "name": "stderr",
          "output_type": "stream",
          "text": [
            "100%|██████████| 19/19 [00:02<00:00,  8.68batch/s]\n"
          ]
        },
        {
          "name": "stdout",
          "output_type": "stream",
          "text": [
            "Validation Loss: 0.05572324670777705 \n",
            "\n"
          ]
        },
        {
          "name": "stderr",
          "output_type": "stream",
          "text": [
            "100%|██████████| 73/73 [00:20<00:00,  3.54batch/s]\n"
          ]
        },
        {
          "name": "stdout",
          "output_type": "stream",
          "text": [
            "Epoch 75/1000, Loss: 0.05485996094289912\n"
          ]
        },
        {
          "name": "stderr",
          "output_type": "stream",
          "text": [
            "100%|██████████| 19/19 [00:01<00:00,  9.54batch/s]\n"
          ]
        },
        {
          "name": "stdout",
          "output_type": "stream",
          "text": [
            "Validation Loss: 0.056374838747280206 \n",
            "\n"
          ]
        },
        {
          "name": "stderr",
          "output_type": "stream",
          "text": [
            "100%|██████████| 73/73 [00:20<00:00,  3.52batch/s]\n"
          ]
        },
        {
          "name": "stdout",
          "output_type": "stream",
          "text": [
            "Epoch 76/1000, Loss: 0.05456706988370071\n"
          ]
        },
        {
          "name": "stderr",
          "output_type": "stream",
          "text": [
            "100%|██████████| 19/19 [00:02<00:00,  9.49batch/s]\n"
          ]
        },
        {
          "name": "stdout",
          "output_type": "stream",
          "text": [
            "Validation Loss: 0.056179728800136795 \n",
            "\n"
          ]
        },
        {
          "name": "stderr",
          "output_type": "stream",
          "text": [
            "100%|██████████| 73/73 [00:20<00:00,  3.54batch/s]\n"
          ]
        },
        {
          "name": "stdout",
          "output_type": "stream",
          "text": [
            "Epoch 77/1000, Loss: 0.05353139047447133\n"
          ]
        },
        {
          "name": "stderr",
          "output_type": "stream",
          "text": [
            "100%|██████████| 19/19 [00:02<00:00,  8.26batch/s]\n"
          ]
        },
        {
          "name": "stdout",
          "output_type": "stream",
          "text": [
            "Validation Loss: 0.05551525277673806 \n",
            "\n"
          ]
        },
        {
          "name": "stderr",
          "output_type": "stream",
          "text": [
            "100%|██████████| 73/73 [00:20<00:00,  3.55batch/s]\n"
          ]
        },
        {
          "name": "stdout",
          "output_type": "stream",
          "text": [
            "Epoch 78/1000, Loss: 0.053950041373043434\n"
          ]
        },
        {
          "name": "stderr",
          "output_type": "stream",
          "text": [
            "100%|██████████| 19/19 [00:01<00:00,  9.64batch/s]\n"
          ]
        },
        {
          "name": "stdout",
          "output_type": "stream",
          "text": [
            "Validation Loss: 0.05576456890833613 \n",
            "\n"
          ]
        },
        {
          "name": "stderr",
          "output_type": "stream",
          "text": [
            "100%|██████████| 73/73 [00:20<00:00,  3.52batch/s]\n"
          ]
        },
        {
          "name": "stdout",
          "output_type": "stream",
          "text": [
            "Epoch 79/1000, Loss: 0.0545923361707836\n"
          ]
        },
        {
          "name": "stderr",
          "output_type": "stream",
          "text": [
            "100%|██████████| 19/19 [00:01<00:00,  9.53batch/s]\n"
          ]
        },
        {
          "name": "stdout",
          "output_type": "stream",
          "text": [
            "Validation Loss: 0.056192621907317324 \n",
            "\n"
          ]
        },
        {
          "name": "stderr",
          "output_type": "stream",
          "text": [
            "100%|██████████| 73/73 [00:20<00:00,  3.56batch/s]\n"
          ]
        },
        {
          "name": "stdout",
          "output_type": "stream",
          "text": [
            "Epoch 80/1000, Loss: 0.0546063036236861\n"
          ]
        },
        {
          "name": "stderr",
          "output_type": "stream",
          "text": [
            "100%|██████████| 19/19 [00:02<00:00,  8.08batch/s]\n"
          ]
        },
        {
          "name": "stdout",
          "output_type": "stream",
          "text": [
            "Validation Loss: 0.056394186422326846 \n",
            "\n"
          ]
        },
        {
          "name": "stderr",
          "output_type": "stream",
          "text": [
            "100%|██████████| 73/73 [00:20<00:00,  3.50batch/s]\n"
          ]
        },
        {
          "name": "stdout",
          "output_type": "stream",
          "text": [
            "Epoch 81/1000, Loss: 0.053863469559112434\n"
          ]
        },
        {
          "name": "stderr",
          "output_type": "stream",
          "text": [
            "100%|██████████| 19/19 [00:02<00:00,  9.12batch/s]\n"
          ]
        },
        {
          "name": "stdout",
          "output_type": "stream",
          "text": [
            "Validation Loss: 0.05578179723632179 \n",
            "\n"
          ]
        },
        {
          "name": "stderr",
          "output_type": "stream",
          "text": [
            "100%|██████████| 73/73 [00:20<00:00,  3.53batch/s]\n"
          ]
        },
        {
          "name": "stdout",
          "output_type": "stream",
          "text": [
            "Epoch 82/1000, Loss: 0.054248949244924606\n"
          ]
        },
        {
          "name": "stderr",
          "output_type": "stream",
          "text": [
            "100%|██████████| 19/19 [00:01<00:00,  9.53batch/s]\n"
          ]
        },
        {
          "name": "stdout",
          "output_type": "stream",
          "text": [
            "Validation Loss: 0.056162881456609616 \n",
            "\n"
          ]
        },
        {
          "name": "stderr",
          "output_type": "stream",
          "text": [
            "100%|██████████| 73/73 [00:20<00:00,  3.58batch/s]\n"
          ]
        },
        {
          "name": "stdout",
          "output_type": "stream",
          "text": [
            "Epoch 83/1000, Loss: 0.054303811135867686\n"
          ]
        },
        {
          "name": "stderr",
          "output_type": "stream",
          "text": [
            "100%|██████████| 19/19 [00:02<00:00,  8.18batch/s]\n"
          ]
        },
        {
          "name": "stdout",
          "output_type": "stream",
          "text": [
            "Validation Loss: 0.05597909724977063 \n",
            "\n"
          ]
        },
        {
          "name": "stderr",
          "output_type": "stream",
          "text": [
            "100%|██████████| 73/73 [00:20<00:00,  3.56batch/s]\n"
          ]
        },
        {
          "name": "stdout",
          "output_type": "stream",
          "text": [
            "Epoch 84/1000, Loss: 0.054289175911921346\n"
          ]
        },
        {
          "name": "stderr",
          "output_type": "stream",
          "text": [
            "100%|██████████| 19/19 [00:02<00:00,  9.47batch/s]\n"
          ]
        },
        {
          "name": "stdout",
          "output_type": "stream",
          "text": [
            "Validation Loss: 0.05602558060108047 \n",
            "\n"
          ]
        },
        {
          "name": "stderr",
          "output_type": "stream",
          "text": [
            "100%|██████████| 73/73 [00:20<00:00,  3.49batch/s]\n"
          ]
        },
        {
          "name": "stdout",
          "output_type": "stream",
          "text": [
            "Epoch 85/1000, Loss: 0.05341165074568293\n"
          ]
        },
        {
          "name": "stderr",
          "output_type": "stream",
          "text": [
            "100%|██████████| 19/19 [00:01<00:00,  9.63batch/s]\n"
          ]
        },
        {
          "name": "stdout",
          "output_type": "stream",
          "text": [
            "Validation Loss: 0.05596886919566283 \n",
            "\n"
          ]
        },
        {
          "name": "stderr",
          "output_type": "stream",
          "text": [
            "100%|██████████| 73/73 [00:20<00:00,  3.51batch/s]\n"
          ]
        },
        {
          "name": "stdout",
          "output_type": "stream",
          "text": [
            "Epoch 86/1000, Loss: 0.0532660710255373\n"
          ]
        },
        {
          "name": "stderr",
          "output_type": "stream",
          "text": [
            "100%|██████████| 19/19 [00:02<00:00,  8.09batch/s]\n"
          ]
        },
        {
          "name": "stdout",
          "output_type": "stream",
          "text": [
            "Validation Loss: 0.05396745999735829 \n",
            "\n"
          ]
        },
        {
          "name": "stderr",
          "output_type": "stream",
          "text": [
            "100%|██████████| 73/73 [00:20<00:00,  3.56batch/s]\n"
          ]
        },
        {
          "name": "stdout",
          "output_type": "stream",
          "text": [
            "Epoch 87/1000, Loss: 0.05413280478806222\n"
          ]
        },
        {
          "name": "stderr",
          "output_type": "stream",
          "text": [
            "100%|██████████| 19/19 [00:01<00:00,  9.51batch/s]\n"
          ]
        },
        {
          "name": "stdout",
          "output_type": "stream",
          "text": [
            "Validation Loss: 0.05597242975215379 \n",
            "\n"
          ]
        },
        {
          "name": "stderr",
          "output_type": "stream",
          "text": [
            "100%|██████████| 73/73 [00:20<00:00,  3.51batch/s]\n"
          ]
        },
        {
          "name": "stdout",
          "output_type": "stream",
          "text": [
            "Epoch 88/1000, Loss: 0.054091713557096376\n"
          ]
        },
        {
          "name": "stderr",
          "output_type": "stream",
          "text": [
            "100%|██████████| 19/19 [00:01<00:00,  9.54batch/s]\n"
          ]
        },
        {
          "name": "stdout",
          "output_type": "stream",
          "text": [
            "Validation Loss: 0.05608307105783177 \n",
            "\n"
          ]
        },
        {
          "name": "stderr",
          "output_type": "stream",
          "text": [
            "100%|██████████| 73/73 [00:20<00:00,  3.56batch/s]\n"
          ]
        },
        {
          "name": "stdout",
          "output_type": "stream",
          "text": [
            "Epoch 89/1000, Loss: 0.05407348504825814\n"
          ]
        },
        {
          "name": "stderr",
          "output_type": "stream",
          "text": [
            "100%|██████████| 19/19 [00:02<00:00,  8.15batch/s]\n"
          ]
        },
        {
          "name": "stdout",
          "output_type": "stream",
          "text": [
            "Validation Loss: 0.055872110625434866 \n",
            "\n"
          ]
        },
        {
          "name": "stderr",
          "output_type": "stream",
          "text": [
            "100%|██████████| 73/73 [00:20<00:00,  3.58batch/s]\n"
          ]
        },
        {
          "name": "stdout",
          "output_type": "stream",
          "text": [
            "Epoch 90/1000, Loss: 0.05426948836507046\n"
          ]
        },
        {
          "name": "stderr",
          "output_type": "stream",
          "text": [
            "100%|██████████| 19/19 [00:02<00:00,  9.38batch/s]\n"
          ]
        },
        {
          "name": "stdout",
          "output_type": "stream",
          "text": [
            "Validation Loss: 0.05636787908396831 \n",
            "\n"
          ]
        },
        {
          "name": "stderr",
          "output_type": "stream",
          "text": [
            "100%|██████████| 73/73 [00:20<00:00,  3.53batch/s]\n"
          ]
        },
        {
          "name": "stdout",
          "output_type": "stream",
          "text": [
            "Epoch 91/1000, Loss: 0.0544900805402343\n"
          ]
        },
        {
          "name": "stderr",
          "output_type": "stream",
          "text": [
            "100%|██████████| 19/19 [00:01<00:00,  9.52batch/s]\n"
          ]
        },
        {
          "name": "stdout",
          "output_type": "stream",
          "text": [
            "Validation Loss: 0.056332373758777976 \n",
            "\n"
          ]
        },
        {
          "name": "stderr",
          "output_type": "stream",
          "text": [
            "100%|██████████| 73/73 [00:20<00:00,  3.55batch/s]\n"
          ]
        },
        {
          "name": "stdout",
          "output_type": "stream",
          "text": [
            "Epoch 92/1000, Loss: 0.054476528626241506\n"
          ]
        },
        {
          "name": "stderr",
          "output_type": "stream",
          "text": [
            "100%|██████████| 19/19 [00:02<00:00,  8.63batch/s]\n"
          ]
        },
        {
          "name": "stdout",
          "output_type": "stream",
          "text": [
            "Validation Loss: 0.05619456701127714 \n",
            "\n"
          ]
        },
        {
          "name": "stderr",
          "output_type": "stream",
          "text": [
            "100%|██████████| 73/73 [00:20<00:00,  3.53batch/s]\n"
          ]
        },
        {
          "name": "stdout",
          "output_type": "stream",
          "text": [
            "Epoch 93/1000, Loss: 0.054167121546725705\n"
          ]
        },
        {
          "name": "stderr",
          "output_type": "stream",
          "text": [
            "100%|██████████| 19/19 [00:02<00:00,  9.43batch/s]\n"
          ]
        },
        {
          "name": "stdout",
          "output_type": "stream",
          "text": [
            "Validation Loss: 0.05595375673453275 \n",
            "\n"
          ]
        },
        {
          "name": "stderr",
          "output_type": "stream",
          "text": [
            "100%|██████████| 73/73 [00:20<00:00,  3.52batch/s]\n"
          ]
        },
        {
          "name": "stdout",
          "output_type": "stream",
          "text": [
            "Epoch 94/1000, Loss: 0.05454229323627197\n"
          ]
        },
        {
          "name": "stderr",
          "output_type": "stream",
          "text": [
            "100%|██████████| 19/19 [00:01<00:00,  9.60batch/s]\n"
          ]
        },
        {
          "name": "stdout",
          "output_type": "stream",
          "text": [
            "Validation Loss: 0.056039014157201895 \n",
            "\n"
          ]
        },
        {
          "name": "stderr",
          "output_type": "stream",
          "text": [
            "100%|██████████| 73/73 [00:20<00:00,  3.55batch/s]\n"
          ]
        },
        {
          "name": "stdout",
          "output_type": "stream",
          "text": [
            "Epoch 95/1000, Loss: 0.05443472515038942\n"
          ]
        },
        {
          "name": "stderr",
          "output_type": "stream",
          "text": [
            "100%|██████████| 19/19 [00:02<00:00,  8.81batch/s]\n"
          ]
        },
        {
          "name": "stdout",
          "output_type": "stream",
          "text": [
            "Validation Loss: 0.055733127476598476 \n",
            "\n"
          ]
        },
        {
          "name": "stderr",
          "output_type": "stream",
          "text": [
            "100%|██████████| 73/73 [00:20<00:00,  3.56batch/s]\n"
          ]
        },
        {
          "name": "stdout",
          "output_type": "stream",
          "text": [
            "Epoch 96/1000, Loss: 0.05403203237482844\n"
          ]
        },
        {
          "name": "stderr",
          "output_type": "stream",
          "text": [
            "100%|██████████| 19/19 [00:02<00:00,  9.26batch/s]\n"
          ]
        },
        {
          "name": "stdout",
          "output_type": "stream",
          "text": [
            "Validation Loss: 0.055874734014076624 \n",
            "\n"
          ]
        },
        {
          "name": "stderr",
          "output_type": "stream",
          "text": [
            "100%|██████████| 73/73 [00:20<00:00,  3.52batch/s]\n"
          ]
        },
        {
          "name": "stdout",
          "output_type": "stream",
          "text": [
            "Epoch 97/1000, Loss: 0.05440881167704316\n"
          ]
        },
        {
          "name": "stderr",
          "output_type": "stream",
          "text": [
            "100%|██████████| 19/19 [00:02<00:00,  9.30batch/s]\n"
          ]
        },
        {
          "name": "stdout",
          "output_type": "stream",
          "text": [
            "Validation Loss: 0.05629021275518952 \n",
            "\n"
          ]
        },
        {
          "name": "stderr",
          "output_type": "stream",
          "text": [
            "100%|██████████| 73/73 [00:20<00:00,  3.49batch/s]\n"
          ]
        },
        {
          "name": "stdout",
          "output_type": "stream",
          "text": [
            "Epoch 98/1000, Loss: 0.05398420520024757\n"
          ]
        },
        {
          "name": "stderr",
          "output_type": "stream",
          "text": [
            "100%|██████████| 19/19 [00:02<00:00,  9.39batch/s]\n"
          ]
        },
        {
          "name": "stdout",
          "output_type": "stream",
          "text": [
            "Validation Loss: 0.05494021794047991 \n",
            "\n"
          ]
        },
        {
          "name": "stderr",
          "output_type": "stream",
          "text": [
            "100%|██████████| 73/73 [00:20<00:00,  3.52batch/s]\n"
          ]
        },
        {
          "name": "stdout",
          "output_type": "stream",
          "text": [
            "Epoch 99/1000, Loss: 0.05473526596563728\n"
          ]
        },
        {
          "name": "stderr",
          "output_type": "stream",
          "text": [
            "100%|██████████| 19/19 [00:02<00:00,  8.56batch/s]\n"
          ]
        },
        {
          "name": "stdout",
          "output_type": "stream",
          "text": [
            "Validation Loss: 0.05673594669880051 \n",
            "\n"
          ]
        },
        {
          "name": "stderr",
          "output_type": "stream",
          "text": [
            "100%|██████████| 73/73 [00:20<00:00,  3.48batch/s]\n"
          ]
        },
        {
          "name": "stdout",
          "output_type": "stream",
          "text": [
            "Epoch 100/1000, Loss: 0.05325039399609174\n"
          ]
        },
        {
          "name": "stderr",
          "output_type": "stream",
          "text": [
            "100%|██████████| 19/19 [00:02<00:00,  9.33batch/s]\n"
          ]
        },
        {
          "name": "stdout",
          "output_type": "stream",
          "text": [
            "Validation Loss: 0.05673012220129175 \n",
            "\n"
          ]
        },
        {
          "name": "stderr",
          "output_type": "stream",
          "text": [
            "100%|██████████| 73/73 [00:20<00:00,  3.48batch/s]\n"
          ]
        },
        {
          "name": "stdout",
          "output_type": "stream",
          "text": [
            "Epoch 101/1000, Loss: 0.05354481137179042\n"
          ]
        },
        {
          "name": "stderr",
          "output_type": "stream",
          "text": [
            "100%|██████████| 19/19 [00:02<00:00,  9.50batch/s]\n"
          ]
        },
        {
          "name": "stdout",
          "output_type": "stream",
          "text": [
            "Validation Loss: 0.05749852727412393 \n",
            "\n"
          ]
        },
        {
          "name": "stderr",
          "output_type": "stream",
          "text": [
            "100%|██████████| 73/73 [00:20<00:00,  3.52batch/s]\n"
          ]
        },
        {
          "name": "stdout",
          "output_type": "stream",
          "text": [
            "Epoch 102/1000, Loss: 0.0537182789117302\n"
          ]
        },
        {
          "name": "stderr",
          "output_type": "stream",
          "text": [
            "100%|██████████| 19/19 [00:02<00:00,  8.07batch/s]\n"
          ]
        },
        {
          "name": "stdout",
          "output_type": "stream",
          "text": [
            "Validation Loss: 0.05525734914025586 \n",
            "\n"
          ]
        },
        {
          "name": "stderr",
          "output_type": "stream",
          "text": [
            "100%|██████████| 73/73 [00:20<00:00,  3.50batch/s]\n"
          ]
        },
        {
          "name": "stdout",
          "output_type": "stream",
          "text": [
            "Epoch 103/1000, Loss: 0.05373324026124016\n"
          ]
        },
        {
          "name": "stderr",
          "output_type": "stream",
          "text": [
            "100%|██████████| 19/19 [00:02<00:00,  9.40batch/s]\n"
          ]
        },
        {
          "name": "stdout",
          "output_type": "stream",
          "text": [
            "Validation Loss: 0.05688144023358626 \n",
            "\n"
          ]
        },
        {
          "name": "stderr",
          "output_type": "stream",
          "text": [
            "100%|██████████| 73/73 [00:21<00:00,  3.47batch/s]\n"
          ]
        },
        {
          "name": "stdout",
          "output_type": "stream",
          "text": [
            "Epoch 104/1000, Loss: 0.05398740518634042\n"
          ]
        },
        {
          "name": "stderr",
          "output_type": "stream",
          "text": [
            "100%|██████████| 19/19 [00:01<00:00,  9.53batch/s]\n"
          ]
        },
        {
          "name": "stdout",
          "output_type": "stream",
          "text": [
            "Validation Loss: 0.0544866441785799 \n",
            "\n"
          ]
        },
        {
          "name": "stderr",
          "output_type": "stream",
          "text": [
            "100%|██████████| 73/73 [00:21<00:00,  3.45batch/s]\n"
          ]
        },
        {
          "name": "stdout",
          "output_type": "stream",
          "text": [
            "Epoch 105/1000, Loss: 0.05255984816355758\n"
          ]
        },
        {
          "name": "stderr",
          "output_type": "stream",
          "text": [
            "100%|██████████| 19/19 [00:02<00:00,  8.52batch/s]\n"
          ]
        },
        {
          "name": "stdout",
          "output_type": "stream",
          "text": [
            "Validation Loss: 0.052802205502398704 \n",
            "\n"
          ]
        },
        {
          "name": "stderr",
          "output_type": "stream",
          "text": [
            "100%|██████████| 73/73 [00:20<00:00,  3.54batch/s]\n"
          ]
        },
        {
          "name": "stdout",
          "output_type": "stream",
          "text": [
            "Epoch 106/1000, Loss: 0.05314059537350621\n"
          ]
        },
        {
          "name": "stderr",
          "output_type": "stream",
          "text": [
            "100%|██████████| 19/19 [00:02<00:00,  9.24batch/s]\n"
          ]
        },
        {
          "name": "stdout",
          "output_type": "stream",
          "text": [
            "Validation Loss: 0.05622837130029343 \n",
            "\n"
          ]
        },
        {
          "name": "stderr",
          "output_type": "stream",
          "text": [
            "100%|██████████| 73/73 [00:20<00:00,  3.48batch/s]\n"
          ]
        },
        {
          "name": "stdout",
          "output_type": "stream",
          "text": [
            "Epoch 107/1000, Loss: 0.05300450540619762\n"
          ]
        },
        {
          "name": "stderr",
          "output_type": "stream",
          "text": [
            "100%|██████████| 19/19 [00:02<00:00,  9.36batch/s]\n"
          ]
        },
        {
          "name": "stdout",
          "output_type": "stream",
          "text": [
            "Validation Loss: 0.05537933804781029 \n",
            "\n"
          ]
        },
        {
          "name": "stderr",
          "output_type": "stream",
          "text": [
            "100%|██████████| 73/73 [00:20<00:00,  3.48batch/s]\n"
          ]
        },
        {
          "name": "stdout",
          "output_type": "stream",
          "text": [
            "Epoch 108/1000, Loss: 0.05344242209645167\n"
          ]
        },
        {
          "name": "stderr",
          "output_type": "stream",
          "text": [
            "100%|██████████| 19/19 [00:02<00:00,  9.48batch/s]\n"
          ]
        },
        {
          "name": "stdout",
          "output_type": "stream",
          "text": [
            "Validation Loss: 0.05449258153767962 \n",
            "\n"
          ]
        },
        {
          "name": "stderr",
          "output_type": "stream",
          "text": [
            "100%|██████████| 73/73 [00:20<00:00,  3.52batch/s]\n"
          ]
        },
        {
          "name": "stdout",
          "output_type": "stream",
          "text": [
            "Epoch 109/1000, Loss: 0.05375457555055618\n"
          ]
        },
        {
          "name": "stderr",
          "output_type": "stream",
          "text": [
            "100%|██████████| 19/19 [00:02<00:00,  8.36batch/s]\n"
          ]
        },
        {
          "name": "stdout",
          "output_type": "stream",
          "text": [
            "Validation Loss: 0.054796551911797574 \n",
            "\n"
          ]
        },
        {
          "name": "stderr",
          "output_type": "stream",
          "text": [
            "100%|██████████| 73/73 [00:20<00:00,  3.50batch/s]\n"
          ]
        },
        {
          "name": "stdout",
          "output_type": "stream",
          "text": [
            "Epoch 110/1000, Loss: 0.05299377301069971\n"
          ]
        },
        {
          "name": "stderr",
          "output_type": "stream",
          "text": [
            "100%|██████████| 19/19 [00:01<00:00,  9.61batch/s]\n"
          ]
        },
        {
          "name": "stdout",
          "output_type": "stream",
          "text": [
            "Validation Loss: 0.05592696804332694 \n",
            "\n"
          ]
        },
        {
          "name": "stderr",
          "output_type": "stream",
          "text": [
            "100%|██████████| 73/73 [00:20<00:00,  3.48batch/s]\n"
          ]
        },
        {
          "name": "stdout",
          "output_type": "stream",
          "text": [
            "Epoch 111/1000, Loss: 0.05277189327569755\n"
          ]
        },
        {
          "name": "stderr",
          "output_type": "stream",
          "text": [
            "100%|██████████| 19/19 [00:02<00:00,  9.49batch/s]\n"
          ]
        },
        {
          "name": "stdout",
          "output_type": "stream",
          "text": [
            "Validation Loss: 0.054028307933262305 \n",
            "\n"
          ]
        },
        {
          "name": "stderr",
          "output_type": "stream",
          "text": [
            "100%|██████████| 73/73 [00:20<00:00,  3.52batch/s]\n"
          ]
        },
        {
          "name": "stdout",
          "output_type": "stream",
          "text": [
            "Epoch 112/1000, Loss: 0.05329297841462779\n"
          ]
        },
        {
          "name": "stderr",
          "output_type": "stream",
          "text": [
            "100%|██████████| 19/19 [00:02<00:00,  8.13batch/s]\n"
          ]
        },
        {
          "name": "stdout",
          "output_type": "stream",
          "text": [
            "Validation Loss: 0.053919713257959016 \n",
            "\n"
          ]
        },
        {
          "name": "stderr",
          "output_type": "stream",
          "text": [
            "100%|██████████| 73/73 [00:20<00:00,  3.52batch/s]\n"
          ]
        },
        {
          "name": "stdout",
          "output_type": "stream",
          "text": [
            "Epoch 113/1000, Loss: 0.05247621336467054\n"
          ]
        },
        {
          "name": "stderr",
          "output_type": "stream",
          "text": [
            "100%|██████████| 19/19 [00:02<00:00,  9.49batch/s]\n"
          ]
        },
        {
          "name": "stdout",
          "output_type": "stream",
          "text": [
            "Validation Loss: 0.05300134886056185 \n",
            "\n"
          ]
        },
        {
          "name": "stderr",
          "output_type": "stream",
          "text": [
            "100%|██████████| 73/73 [00:21<00:00,  3.47batch/s]\n"
          ]
        },
        {
          "name": "stdout",
          "output_type": "stream",
          "text": [
            "Epoch 114/1000, Loss: 0.05374124837554481\n"
          ]
        },
        {
          "name": "stderr",
          "output_type": "stream",
          "text": [
            "100%|██████████| 19/19 [00:02<00:00,  9.46batch/s]\n"
          ]
        },
        {
          "name": "stdout",
          "output_type": "stream",
          "text": [
            "Validation Loss: 0.05479229613525891 \n",
            "\n"
          ]
        },
        {
          "name": "stderr",
          "output_type": "stream",
          "text": [
            "100%|██████████| 73/73 [00:20<00:00,  3.48batch/s]\n"
          ]
        },
        {
          "name": "stdout",
          "output_type": "stream",
          "text": [
            "Epoch 115/1000, Loss: 0.053149636860375535\n"
          ]
        },
        {
          "name": "stderr",
          "output_type": "stream",
          "text": [
            "100%|██████████| 19/19 [00:02<00:00,  8.34batch/s]\n"
          ]
        },
        {
          "name": "stdout",
          "output_type": "stream",
          "text": [
            "Validation Loss: 0.05437505737829365 \n",
            "\n"
          ]
        },
        {
          "name": "stderr",
          "output_type": "stream",
          "text": [
            "100%|██████████| 73/73 [00:20<00:00,  3.51batch/s]\n"
          ]
        },
        {
          "name": "stdout",
          "output_type": "stream",
          "text": [
            "Epoch 116/1000, Loss: 0.05291345695110217\n"
          ]
        },
        {
          "name": "stderr",
          "output_type": "stream",
          "text": [
            "100%|██████████| 19/19 [00:02<00:00,  9.34batch/s]\n"
          ]
        },
        {
          "name": "stdout",
          "output_type": "stream",
          "text": [
            "Validation Loss: 0.05527775289833938 \n",
            "\n"
          ]
        },
        {
          "name": "stderr",
          "output_type": "stream",
          "text": [
            "100%|██████████| 73/73 [00:21<00:00,  3.44batch/s]\n"
          ]
        },
        {
          "name": "stdout",
          "output_type": "stream",
          "text": [
            "Epoch 117/1000, Loss: 0.05348904363249671\n"
          ]
        },
        {
          "name": "stderr",
          "output_type": "stream",
          "text": [
            "100%|██████████| 19/19 [00:02<00:00,  9.34batch/s]\n"
          ]
        },
        {
          "name": "stdout",
          "output_type": "stream",
          "text": [
            "Validation Loss: 0.05349668076163844 \n",
            "\n"
          ]
        },
        {
          "name": "stderr",
          "output_type": "stream",
          "text": [
            "100%|██████████| 73/73 [00:21<00:00,  3.47batch/s]\n"
          ]
        },
        {
          "name": "stdout",
          "output_type": "stream",
          "text": [
            "Epoch 118/1000, Loss: 0.05399664594115664\n"
          ]
        },
        {
          "name": "stderr",
          "output_type": "stream",
          "text": [
            "100%|██████████| 19/19 [00:02<00:00,  9.40batch/s]\n"
          ]
        },
        {
          "name": "stdout",
          "output_type": "stream",
          "text": [
            "Validation Loss: 0.05517322067661505 \n",
            "\n"
          ]
        },
        {
          "name": "stderr",
          "output_type": "stream",
          "text": [
            "100%|██████████| 73/73 [00:20<00:00,  3.51batch/s]\n"
          ]
        },
        {
          "name": "stdout",
          "output_type": "stream",
          "text": [
            "Epoch 119/1000, Loss: 0.05268094809853459\n"
          ]
        },
        {
          "name": "stderr",
          "output_type": "stream",
          "text": [
            "100%|██████████| 19/19 [00:02<00:00,  8.41batch/s]\n"
          ]
        },
        {
          "name": "stdout",
          "output_type": "stream",
          "text": [
            "Validation Loss: 0.05350375783899309 \n",
            "\n"
          ]
        },
        {
          "name": "stderr",
          "output_type": "stream",
          "text": [
            "100%|██████████| 73/73 [00:20<00:00,  3.48batch/s]\n"
          ]
        },
        {
          "name": "stdout",
          "output_type": "stream",
          "text": [
            "Epoch 120/1000, Loss: 0.05304998873847805\n"
          ]
        },
        {
          "name": "stderr",
          "output_type": "stream",
          "text": [
            "100%|██████████| 19/19 [00:02<00:00,  9.35batch/s]\n"
          ]
        },
        {
          "name": "stdout",
          "output_type": "stream",
          "text": [
            "Validation Loss: 0.054494192811513416 \n",
            "\n"
          ]
        },
        {
          "name": "stderr",
          "output_type": "stream",
          "text": [
            "100%|██████████| 73/73 [00:21<00:00,  3.47batch/s]\n"
          ]
        },
        {
          "name": "stdout",
          "output_type": "stream",
          "text": [
            "Epoch 121/1000, Loss: 0.053679744457851536\n"
          ]
        },
        {
          "name": "stderr",
          "output_type": "stream",
          "text": [
            "100%|██████████| 19/19 [00:02<00:00,  9.44batch/s]\n"
          ]
        },
        {
          "name": "stdout",
          "output_type": "stream",
          "text": [
            "Validation Loss: 0.054335253055844655 \n",
            "\n"
          ]
        },
        {
          "name": "stderr",
          "output_type": "stream",
          "text": [
            "100%|██████████| 73/73 [00:20<00:00,  3.50batch/s]\n"
          ]
        },
        {
          "name": "stdout",
          "output_type": "stream",
          "text": [
            "Epoch 122/1000, Loss: 0.05316657570433127\n"
          ]
        },
        {
          "name": "stderr",
          "output_type": "stream",
          "text": [
            "100%|██████████| 19/19 [00:02<00:00,  7.95batch/s]\n"
          ]
        },
        {
          "name": "stdout",
          "output_type": "stream",
          "text": [
            "Validation Loss: 0.05394442408884827 \n",
            "\n"
          ]
        },
        {
          "name": "stderr",
          "output_type": "stream",
          "text": [
            "100%|██████████| 73/73 [00:20<00:00,  3.51batch/s]\n"
          ]
        },
        {
          "name": "stdout",
          "output_type": "stream",
          "text": [
            "Epoch 123/1000, Loss: 0.0538608476978867\n"
          ]
        },
        {
          "name": "stderr",
          "output_type": "stream",
          "text": [
            "100%|██████████| 19/19 [00:02<00:00,  9.35batch/s]\n"
          ]
        },
        {
          "name": "stdout",
          "output_type": "stream",
          "text": [
            "Validation Loss: 0.05408485428626208 \n",
            "\n"
          ]
        },
        {
          "name": "stderr",
          "output_type": "stream",
          "text": [
            "100%|██████████| 73/73 [00:20<00:00,  3.48batch/s]\n"
          ]
        },
        {
          "name": "stdout",
          "output_type": "stream",
          "text": [
            "Epoch 124/1000, Loss: 0.05377028266937561\n"
          ]
        },
        {
          "name": "stderr",
          "output_type": "stream",
          "text": [
            "100%|██████████| 19/19 [00:02<00:00,  9.30batch/s]\n"
          ]
        },
        {
          "name": "stdout",
          "output_type": "stream",
          "text": [
            "Validation Loss: 0.05453703697084596 \n",
            "\n"
          ]
        },
        {
          "name": "stderr",
          "output_type": "stream",
          "text": [
            "100%|██████████| 73/73 [00:20<00:00,  3.49batch/s]\n"
          ]
        },
        {
          "name": "stdout",
          "output_type": "stream",
          "text": [
            "Epoch 125/1000, Loss: 0.05280802447399865\n"
          ]
        },
        {
          "name": "stderr",
          "output_type": "stream",
          "text": [
            "100%|██████████| 19/19 [00:02<00:00,  8.49batch/s]\n"
          ]
        },
        {
          "name": "stdout",
          "output_type": "stream",
          "text": [
            "Validation Loss: 0.05543048699435435 \n",
            "\n"
          ]
        },
        {
          "name": "stderr",
          "output_type": "stream",
          "text": [
            "100%|██████████| 73/73 [00:20<00:00,  3.51batch/s]\n"
          ]
        },
        {
          "name": "stdout",
          "output_type": "stream",
          "text": [
            "Epoch 126/1000, Loss: 0.05390496336382954\n"
          ]
        },
        {
          "name": "stderr",
          "output_type": "stream",
          "text": [
            "100%|██████████| 19/19 [00:02<00:00,  9.15batch/s]\n"
          ]
        },
        {
          "name": "stdout",
          "output_type": "stream",
          "text": [
            "Validation Loss: 0.054946473027628506 \n",
            "\n"
          ]
        },
        {
          "name": "stderr",
          "output_type": "stream",
          "text": [
            "100%|██████████| 73/73 [00:21<00:00,  3.46batch/s]\n"
          ]
        },
        {
          "name": "stdout",
          "output_type": "stream",
          "text": [
            "Epoch 127/1000, Loss: 0.05341370582376441\n"
          ]
        },
        {
          "name": "stderr",
          "output_type": "stream",
          "text": [
            "100%|██████████| 19/19 [00:02<00:00,  9.45batch/s]\n"
          ]
        },
        {
          "name": "stdout",
          "output_type": "stream",
          "text": [
            "Validation Loss: 0.05512960092777288 \n",
            "\n"
          ]
        },
        {
          "name": "stderr",
          "output_type": "stream",
          "text": [
            "100%|██████████| 73/73 [00:21<00:00,  3.45batch/s]\n"
          ]
        },
        {
          "name": "stdout",
          "output_type": "stream",
          "text": [
            "Epoch 128/1000, Loss: 0.05319384528859837\n"
          ]
        },
        {
          "name": "stderr",
          "output_type": "stream",
          "text": [
            "100%|██████████| 19/19 [00:02<00:00,  7.48batch/s]\n"
          ]
        },
        {
          "name": "stdout",
          "output_type": "stream",
          "text": [
            "Validation Loss: 0.054851576526600276 \n",
            "\n"
          ]
        },
        {
          "name": "stderr",
          "output_type": "stream",
          "text": [
            "100%|██████████| 73/73 [00:20<00:00,  3.52batch/s]\n"
          ]
        },
        {
          "name": "stdout",
          "output_type": "stream",
          "text": [
            "Epoch 129/1000, Loss: 0.053719067155090096\n"
          ]
        },
        {
          "name": "stderr",
          "output_type": "stream",
          "text": [
            "100%|██████████| 19/19 [00:02<00:00,  9.36batch/s]\n"
          ]
        },
        {
          "name": "stdout",
          "output_type": "stream",
          "text": [
            "Validation Loss: 0.054941671159069394 \n",
            "\n"
          ]
        },
        {
          "name": "stderr",
          "output_type": "stream",
          "text": [
            "100%|██████████| 73/73 [00:21<00:00,  3.46batch/s]\n"
          ]
        },
        {
          "name": "stdout",
          "output_type": "stream",
          "text": [
            "Epoch 130/1000, Loss: 0.05307818505249611\n"
          ]
        },
        {
          "name": "stderr",
          "output_type": "stream",
          "text": [
            "100%|██████████| 19/19 [00:01<00:00,  9.51batch/s]\n"
          ]
        },
        {
          "name": "stdout",
          "output_type": "stream",
          "text": [
            "Validation Loss: 0.05507415639677722 \n",
            "\n"
          ]
        },
        {
          "name": "stderr",
          "output_type": "stream",
          "text": [
            "100%|██████████| 73/73 [00:21<00:00,  3.47batch/s]\n"
          ]
        },
        {
          "name": "stdout",
          "output_type": "stream",
          "text": [
            "Epoch 131/1000, Loss: 0.052629475290440535\n"
          ]
        },
        {
          "name": "stderr",
          "output_type": "stream",
          "text": [
            "100%|██████████| 19/19 [00:02<00:00,  9.34batch/s]\n"
          ]
        },
        {
          "name": "stdout",
          "output_type": "stream",
          "text": [
            "Validation Loss: 0.05400546790884906 \n",
            "\n"
          ]
        },
        {
          "name": "stderr",
          "output_type": "stream",
          "text": [
            "100%|██████████| 73/73 [00:20<00:00,  3.52batch/s]\n"
          ]
        },
        {
          "name": "stdout",
          "output_type": "stream",
          "text": [
            "Epoch 132/1000, Loss: 0.05390728598026789\n"
          ]
        },
        {
          "name": "stderr",
          "output_type": "stream",
          "text": [
            "100%|██████████| 19/19 [00:02<00:00,  8.63batch/s]\n"
          ]
        },
        {
          "name": "stdout",
          "output_type": "stream",
          "text": [
            "Validation Loss: 0.0556317089174531 \n",
            "\n"
          ]
        },
        {
          "name": "stderr",
          "output_type": "stream",
          "text": [
            "100%|██████████| 73/73 [00:20<00:00,  3.49batch/s]\n"
          ]
        },
        {
          "name": "stdout",
          "output_type": "stream",
          "text": [
            "Epoch 133/1000, Loss: 0.05413325544931505\n"
          ]
        },
        {
          "name": "stderr",
          "output_type": "stream",
          "text": [
            "100%|██████████| 19/19 [00:02<00:00,  9.24batch/s]\n"
          ]
        },
        {
          "name": "stdout",
          "output_type": "stream",
          "text": [
            "Validation Loss: 0.05390554518242808 \n",
            "\n"
          ]
        },
        {
          "name": "stderr",
          "output_type": "stream",
          "text": [
            "100%|██████████| 73/73 [00:20<00:00,  3.48batch/s]\n"
          ]
        },
        {
          "name": "stdout",
          "output_type": "stream",
          "text": [
            "Epoch 134/1000, Loss: 0.052955477523987424\n"
          ]
        },
        {
          "name": "stderr",
          "output_type": "stream",
          "text": [
            "100%|██████████| 19/19 [00:02<00:00,  9.50batch/s]\n"
          ]
        },
        {
          "name": "stdout",
          "output_type": "stream",
          "text": [
            "Validation Loss: 0.05407831536630463 \n",
            "\n"
          ]
        },
        {
          "name": "stderr",
          "output_type": "stream",
          "text": [
            "100%|██████████| 73/73 [00:20<00:00,  3.51batch/s]\n"
          ]
        },
        {
          "name": "stdout",
          "output_type": "stream",
          "text": [
            "Epoch 135/1000, Loss: 0.05344042395024675\n"
          ]
        },
        {
          "name": "stderr",
          "output_type": "stream",
          "text": [
            "100%|██████████| 19/19 [00:02<00:00,  7.88batch/s]\n"
          ]
        },
        {
          "name": "stdout",
          "output_type": "stream",
          "text": [
            "Validation Loss: 0.055365415792422074 \n",
            "\n"
          ]
        },
        {
          "name": "stderr",
          "output_type": "stream",
          "text": [
            "100%|██████████| 73/73 [00:20<00:00,  3.50batch/s]\n"
          ]
        },
        {
          "name": "stdout",
          "output_type": "stream",
          "text": [
            "Epoch 136/1000, Loss: 0.05345867233580514\n"
          ]
        },
        {
          "name": "stderr",
          "output_type": "stream",
          "text": [
            "100%|██████████| 19/19 [00:02<00:00,  9.46batch/s]\n"
          ]
        },
        {
          "name": "stdout",
          "output_type": "stream",
          "text": [
            "Validation Loss: 0.052865218677508985 \n",
            "\n"
          ]
        },
        {
          "name": "stderr",
          "output_type": "stream",
          "text": [
            "100%|██████████| 73/73 [00:21<00:00,  3.48batch/s]\n"
          ]
        },
        {
          "name": "stdout",
          "output_type": "stream",
          "text": [
            "Epoch 137/1000, Loss: 0.0531252249692605\n"
          ]
        },
        {
          "name": "stderr",
          "output_type": "stream",
          "text": [
            "100%|██████████| 19/19 [00:01<00:00,  9.54batch/s]\n"
          ]
        },
        {
          "name": "stdout",
          "output_type": "stream",
          "text": [
            "Validation Loss: 0.05476758945855851 \n",
            "\n"
          ]
        },
        {
          "name": "stderr",
          "output_type": "stream",
          "text": [
            "100%|██████████| 73/73 [00:20<00:00,  3.50batch/s]\n"
          ]
        },
        {
          "name": "stdout",
          "output_type": "stream",
          "text": [
            "Epoch 138/1000, Loss: 0.05370861595522051\n"
          ]
        },
        {
          "name": "stderr",
          "output_type": "stream",
          "text": [
            "100%|██████████| 19/19 [00:02<00:00,  8.11batch/s]\n"
          ]
        },
        {
          "name": "stdout",
          "output_type": "stream",
          "text": [
            "Validation Loss: 0.05613690359812034 \n",
            "\n"
          ]
        },
        {
          "name": "stderr",
          "output_type": "stream",
          "text": [
            "100%|██████████| 73/73 [00:20<00:00,  3.53batch/s]\n"
          ]
        },
        {
          "name": "stdout",
          "output_type": "stream",
          "text": [
            "Epoch 139/1000, Loss: 0.05335719912147073\n"
          ]
        },
        {
          "name": "stderr",
          "output_type": "stream",
          "text": [
            "100%|██████████| 19/19 [00:02<00:00,  9.50batch/s]\n"
          ]
        },
        {
          "name": "stdout",
          "output_type": "stream",
          "text": [
            "Validation Loss: 0.05359319874428605 \n",
            "\n"
          ]
        },
        {
          "name": "stderr",
          "output_type": "stream",
          "text": [
            "100%|██████████| 73/73 [00:21<00:00,  3.42batch/s]\n"
          ]
        },
        {
          "name": "stdout",
          "output_type": "stream",
          "text": [
            "Epoch 140/1000, Loss: 0.052452385919934064\n"
          ]
        },
        {
          "name": "stderr",
          "output_type": "stream",
          "text": [
            "100%|██████████| 19/19 [00:02<00:00,  9.29batch/s]\n"
          ]
        },
        {
          "name": "stdout",
          "output_type": "stream",
          "text": [
            "Validation Loss: 0.05427944779052938 \n",
            "\n"
          ]
        },
        {
          "name": "stderr",
          "output_type": "stream",
          "text": [
            "100%|██████████| 73/73 [00:20<00:00,  3.48batch/s]\n"
          ]
        },
        {
          "name": "stdout",
          "output_type": "stream",
          "text": [
            "Epoch 141/1000, Loss: 0.0536810937688418\n"
          ]
        },
        {
          "name": "stderr",
          "output_type": "stream",
          "text": [
            "100%|██████████| 19/19 [00:02<00:00,  9.22batch/s]\n"
          ]
        },
        {
          "name": "stdout",
          "output_type": "stream",
          "text": [
            "Validation Loss: 0.054419169496548805 \n",
            "\n"
          ]
        },
        {
          "name": "stderr",
          "output_type": "stream",
          "text": [
            "100%|██████████| 73/73 [00:20<00:00,  3.52batch/s]\n"
          ]
        },
        {
          "name": "stdout",
          "output_type": "stream",
          "text": [
            "Epoch 142/1000, Loss: 0.0538849080083509\n"
          ]
        },
        {
          "name": "stderr",
          "output_type": "stream",
          "text": [
            "100%|██████████| 19/19 [00:02<00:00,  8.67batch/s]\n"
          ]
        },
        {
          "name": "stdout",
          "output_type": "stream",
          "text": [
            "Validation Loss: 0.05408201611747867 \n",
            "\n"
          ]
        },
        {
          "name": "stderr",
          "output_type": "stream",
          "text": [
            "100%|██████████| 73/73 [00:20<00:00,  3.48batch/s]\n"
          ]
        },
        {
          "name": "stdout",
          "output_type": "stream",
          "text": [
            "Epoch 143/1000, Loss: 0.051665030942898094\n"
          ]
        },
        {
          "name": "stderr",
          "output_type": "stream",
          "text": [
            "100%|██████████| 19/19 [00:02<00:00,  9.45batch/s]\n"
          ]
        },
        {
          "name": "stdout",
          "output_type": "stream",
          "text": [
            "Validation Loss: 0.05383032204975423 \n",
            "\n"
          ]
        },
        {
          "name": "stderr",
          "output_type": "stream",
          "text": [
            "100%|██████████| 73/73 [00:21<00:00,  3.47batch/s]\n"
          ]
        },
        {
          "name": "stdout",
          "output_type": "stream",
          "text": [
            "Epoch 144/1000, Loss: 0.05338899058940476\n"
          ]
        },
        {
          "name": "stderr",
          "output_type": "stream",
          "text": [
            "100%|██████████| 19/19 [00:02<00:00,  9.41batch/s]\n"
          ]
        },
        {
          "name": "stdout",
          "output_type": "stream",
          "text": [
            "Validation Loss: 0.05499694693073826 \n",
            "\n"
          ]
        },
        {
          "name": "stderr",
          "output_type": "stream",
          "text": [
            "100%|██████████| 73/73 [00:20<00:00,  3.52batch/s]\n"
          ]
        },
        {
          "name": "stdout",
          "output_type": "stream",
          "text": [
            "Epoch 145/1000, Loss: 0.05339596338238414\n"
          ]
        },
        {
          "name": "stderr",
          "output_type": "stream",
          "text": [
            "100%|██████████| 19/19 [00:02<00:00,  8.28batch/s]\n"
          ]
        },
        {
          "name": "stdout",
          "output_type": "stream",
          "text": [
            "Validation Loss: 0.054782669170220434 \n",
            "\n"
          ]
        },
        {
          "name": "stderr",
          "output_type": "stream",
          "text": [
            "100%|██████████| 73/73 [00:20<00:00,  3.50batch/s]\n"
          ]
        },
        {
          "name": "stdout",
          "output_type": "stream",
          "text": [
            "Epoch 146/1000, Loss: 0.05306503754619458\n"
          ]
        },
        {
          "name": "stderr",
          "output_type": "stream",
          "text": [
            "100%|██████████| 19/19 [00:02<00:00,  9.38batch/s]\n"
          ]
        },
        {
          "name": "stdout",
          "output_type": "stream",
          "text": [
            "Validation Loss: 0.05384329099845337 \n",
            "\n"
          ]
        },
        {
          "name": "stderr",
          "output_type": "stream",
          "text": [
            "100%|██████████| 73/73 [00:21<00:00,  3.47batch/s]\n"
          ]
        },
        {
          "name": "stdout",
          "output_type": "stream",
          "text": [
            "Epoch 147/1000, Loss: 0.05323826790825553\n"
          ]
        },
        {
          "name": "stderr",
          "output_type": "stream",
          "text": [
            "100%|██████████| 19/19 [00:01<00:00,  9.54batch/s]\n"
          ]
        },
        {
          "name": "stdout",
          "output_type": "stream",
          "text": [
            "Validation Loss: 0.053486866539491244 \n",
            "\n"
          ]
        },
        {
          "name": "stderr",
          "output_type": "stream",
          "text": [
            "100%|██████████| 73/73 [00:20<00:00,  3.50batch/s]\n"
          ]
        },
        {
          "name": "stdout",
          "output_type": "stream",
          "text": [
            "Epoch 148/1000, Loss: 0.05265980518155106\n"
          ]
        },
        {
          "name": "stderr",
          "output_type": "stream",
          "text": [
            "100%|██████████| 19/19 [00:02<00:00,  8.24batch/s]\n"
          ]
        },
        {
          "name": "stdout",
          "output_type": "stream",
          "text": [
            "Validation Loss: 0.05293220913919963 \n",
            "\n"
          ]
        },
        {
          "name": "stderr",
          "output_type": "stream",
          "text": [
            "100%|██████████| 73/73 [00:20<00:00,  3.51batch/s]\n"
          ]
        },
        {
          "name": "stdout",
          "output_type": "stream",
          "text": [
            "Epoch 149/1000, Loss: 0.05199868088486056\n"
          ]
        },
        {
          "name": "stderr",
          "output_type": "stream",
          "text": [
            "100%|██████████| 19/19 [00:02<00:00,  9.26batch/s]\n"
          ]
        },
        {
          "name": "stdout",
          "output_type": "stream",
          "text": [
            "Validation Loss: 0.05236842901151823 \n",
            "\n"
          ]
        },
        {
          "name": "stderr",
          "output_type": "stream",
          "text": [
            "100%|██████████| 73/73 [00:21<00:00,  3.47batch/s]\n"
          ]
        },
        {
          "name": "stdout",
          "output_type": "stream",
          "text": [
            "Epoch 150/1000, Loss: 0.05303043640563137\n"
          ]
        },
        {
          "name": "stderr",
          "output_type": "stream",
          "text": [
            "100%|██████████| 19/19 [00:02<00:00,  9.37batch/s]\n"
          ]
        },
        {
          "name": "stdout",
          "output_type": "stream",
          "text": [
            "Validation Loss: 0.05404463733276842 \n",
            "\n"
          ]
        },
        {
          "name": "stderr",
          "output_type": "stream",
          "text": [
            "100%|██████████| 73/73 [00:20<00:00,  3.48batch/s]\n"
          ]
        },
        {
          "name": "stdout",
          "output_type": "stream",
          "text": [
            "Epoch 151/1000, Loss: 0.05320830978070424\n"
          ]
        },
        {
          "name": "stderr",
          "output_type": "stream",
          "text": [
            "100%|██████████| 19/19 [00:02<00:00,  8.50batch/s]\n"
          ]
        },
        {
          "name": "stdout",
          "output_type": "stream",
          "text": [
            "Validation Loss: 0.05361917525480844 \n",
            "\n"
          ]
        },
        {
          "name": "stderr",
          "output_type": "stream",
          "text": [
            "100%|██████████| 73/73 [00:20<00:00,  3.48batch/s]\n"
          ]
        },
        {
          "name": "stdout",
          "output_type": "stream",
          "text": [
            "Epoch 152/1000, Loss: 0.05373798733041303\n"
          ]
        },
        {
          "name": "stderr",
          "output_type": "stream",
          "text": [
            "100%|██████████| 19/19 [00:02<00:00,  8.83batch/s]\n"
          ]
        },
        {
          "name": "stdout",
          "output_type": "stream",
          "text": [
            "Validation Loss: 0.054931043426653274 \n",
            "\n"
          ]
        },
        {
          "name": "stderr",
          "output_type": "stream",
          "text": [
            "100%|██████████| 73/73 [00:20<00:00,  3.49batch/s]\n"
          ]
        },
        {
          "name": "stdout",
          "output_type": "stream",
          "text": [
            "Epoch 153/1000, Loss: 0.05184019282970526\n"
          ]
        },
        {
          "name": "stderr",
          "output_type": "stream",
          "text": [
            "100%|██████████| 19/19 [00:02<00:00,  9.25batch/s]\n"
          ]
        },
        {
          "name": "stdout",
          "output_type": "stream",
          "text": [
            "Validation Loss: 0.05240507509657427 \n",
            "\n"
          ]
        },
        {
          "name": "stderr",
          "output_type": "stream",
          "text": [
            "100%|██████████| 73/73 [00:21<00:00,  3.46batch/s]\n"
          ]
        },
        {
          "name": "stdout",
          "output_type": "stream",
          "text": [
            "Epoch 154/1000, Loss: 0.05294672633227829\n"
          ]
        },
        {
          "name": "stderr",
          "output_type": "stream",
          "text": [
            "100%|██████████| 19/19 [00:02<00:00,  9.27batch/s]\n"
          ]
        },
        {
          "name": "stdout",
          "output_type": "stream",
          "text": [
            "Validation Loss: 0.054276438154231166 \n",
            "\n"
          ]
        },
        {
          "name": "stderr",
          "output_type": "stream",
          "text": [
            "100%|██████████| 73/73 [00:20<00:00,  3.52batch/s]\n"
          ]
        },
        {
          "name": "stdout",
          "output_type": "stream",
          "text": [
            "Epoch 155/1000, Loss: 0.05307839680718233\n"
          ]
        },
        {
          "name": "stderr",
          "output_type": "stream",
          "text": [
            "100%|██████████| 19/19 [00:02<00:00,  8.02batch/s]\n"
          ]
        },
        {
          "name": "stdout",
          "output_type": "stream",
          "text": [
            "Validation Loss: 0.053516710042267254 \n",
            "\n"
          ]
        },
        {
          "name": "stderr",
          "output_type": "stream",
          "text": [
            "100%|██████████| 73/73 [00:20<00:00,  3.51batch/s]\n"
          ]
        },
        {
          "name": "stdout",
          "output_type": "stream",
          "text": [
            "Epoch 156/1000, Loss: 0.053254845858334676\n"
          ]
        },
        {
          "name": "stderr",
          "output_type": "stream",
          "text": [
            "100%|██████████| 19/19 [00:02<00:00,  9.35batch/s]\n"
          ]
        },
        {
          "name": "stdout",
          "output_type": "stream",
          "text": [
            "Validation Loss: 0.05391545267775655 \n",
            "\n"
          ]
        },
        {
          "name": "stderr",
          "output_type": "stream",
          "text": [
            "100%|██████████| 73/73 [00:21<00:00,  3.47batch/s]\n"
          ]
        },
        {
          "name": "stdout",
          "output_type": "stream",
          "text": [
            "Epoch 157/1000, Loss: 0.05372063466028808\n"
          ]
        },
        {
          "name": "stderr",
          "output_type": "stream",
          "text": [
            "100%|██████████| 19/19 [00:02<00:00,  9.41batch/s]\n"
          ]
        },
        {
          "name": "stdout",
          "output_type": "stream",
          "text": [
            "Validation Loss: 0.05447314906938884 \n",
            "\n"
          ]
        },
        {
          "name": "stderr",
          "output_type": "stream",
          "text": [
            "100%|██████████| 73/73 [00:20<00:00,  3.50batch/s]\n"
          ]
        },
        {
          "name": "stdout",
          "output_type": "stream",
          "text": [
            "Epoch 158/1000, Loss: 0.05267268851437695\n"
          ]
        },
        {
          "name": "stderr",
          "output_type": "stream",
          "text": [
            "100%|██████████| 19/19 [00:02<00:00,  8.27batch/s]\n"
          ]
        },
        {
          "name": "stdout",
          "output_type": "stream",
          "text": [
            "Validation Loss: 0.053108401964173504 \n",
            "\n"
          ]
        },
        {
          "name": "stderr",
          "output_type": "stream",
          "text": [
            "100%|██████████| 73/73 [00:20<00:00,  3.51batch/s]\n"
          ]
        },
        {
          "name": "stdout",
          "output_type": "stream",
          "text": [
            "Epoch 159/1000, Loss: 0.05378385274734807\n"
          ]
        },
        {
          "name": "stderr",
          "output_type": "stream",
          "text": [
            "100%|██████████| 19/19 [00:02<00:00,  9.43batch/s]\n"
          ]
        },
        {
          "name": "stdout",
          "output_type": "stream",
          "text": [
            "Validation Loss: 0.055304910295250774 \n",
            "\n"
          ]
        },
        {
          "name": "stderr",
          "output_type": "stream",
          "text": [
            "100%|██████████| 73/73 [00:20<00:00,  3.49batch/s]\n"
          ]
        },
        {
          "name": "stdout",
          "output_type": "stream",
          "text": [
            "Epoch 160/1000, Loss: 0.05340458544558042\n"
          ]
        },
        {
          "name": "stderr",
          "output_type": "stream",
          "text": [
            "100%|██████████| 19/19 [00:02<00:00,  9.44batch/s]\n"
          ]
        },
        {
          "name": "stdout",
          "output_type": "stream",
          "text": [
            "Validation Loss: 0.05339208435218193 \n",
            "\n"
          ]
        },
        {
          "name": "stderr",
          "output_type": "stream",
          "text": [
            "100%|██████████| 73/73 [00:20<00:00,  3.51batch/s]\n"
          ]
        },
        {
          "name": "stdout",
          "output_type": "stream",
          "text": [
            "Epoch 161/1000, Loss: 0.0539834892811024\n"
          ]
        },
        {
          "name": "stderr",
          "output_type": "stream",
          "text": [
            "100%|██████████| 19/19 [00:02<00:00,  8.62batch/s]\n"
          ]
        },
        {
          "name": "stdout",
          "output_type": "stream",
          "text": [
            "Validation Loss: 0.05481255265246881 \n",
            "\n"
          ]
        },
        {
          "name": "stderr",
          "output_type": "stream",
          "text": [
            "100%|██████████| 73/73 [00:20<00:00,  3.52batch/s]\n"
          ]
        },
        {
          "name": "stdout",
          "output_type": "stream",
          "text": [
            "Epoch 162/1000, Loss: 0.052269579051700356\n"
          ]
        },
        {
          "name": "stderr",
          "output_type": "stream",
          "text": [
            "100%|██████████| 19/19 [00:02<00:00,  9.01batch/s]\n"
          ]
        },
        {
          "name": "stdout",
          "output_type": "stream",
          "text": [
            "Validation Loss: 0.05335413508950487 \n",
            "\n"
          ]
        },
        {
          "name": "stderr",
          "output_type": "stream",
          "text": [
            "100%|██████████| 73/73 [00:21<00:00,  3.41batch/s]\n"
          ]
        },
        {
          "name": "stdout",
          "output_type": "stream",
          "text": [
            "Epoch 163/1000, Loss: 0.05291427539546706\n"
          ]
        },
        {
          "name": "stderr",
          "output_type": "stream",
          "text": [
            "100%|██████████| 19/19 [00:02<00:00,  9.18batch/s]\n"
          ]
        },
        {
          "name": "stdout",
          "output_type": "stream",
          "text": [
            "Validation Loss: 0.05360004357307365 \n",
            "\n"
          ]
        },
        {
          "name": "stderr",
          "output_type": "stream",
          "text": [
            "100%|██████████| 73/73 [00:20<00:00,  3.48batch/s]\n"
          ]
        },
        {
          "name": "stdout",
          "output_type": "stream",
          "text": [
            "Epoch 164/1000, Loss: 0.05427822197647127\n"
          ]
        },
        {
          "name": "stderr",
          "output_type": "stream",
          "text": [
            "100%|██████████| 19/19 [00:02<00:00,  8.26batch/s]\n"
          ]
        },
        {
          "name": "stdout",
          "output_type": "stream",
          "text": [
            "Validation Loss: 0.055317810234172565 \n",
            "\n"
          ]
        },
        {
          "name": "stderr",
          "output_type": "stream",
          "text": [
            "100%|██████████| 73/73 [00:20<00:00,  3.50batch/s]\n"
          ]
        },
        {
          "name": "stdout",
          "output_type": "stream",
          "text": [
            "Epoch 165/1000, Loss: 0.05355521697193792\n"
          ]
        },
        {
          "name": "stderr",
          "output_type": "stream",
          "text": [
            "100%|██████████| 19/19 [00:02<00:00,  9.10batch/s]\n"
          ]
        },
        {
          "name": "stdout",
          "output_type": "stream",
          "text": [
            "Validation Loss: 0.054855012457425655 \n",
            "\n"
          ]
        },
        {
          "name": "stderr",
          "output_type": "stream",
          "text": [
            "100%|██████████| 73/73 [00:20<00:00,  3.48batch/s]\n"
          ]
        },
        {
          "name": "stdout",
          "output_type": "stream",
          "text": [
            "Epoch 166/1000, Loss: 0.05435699824728582\n"
          ]
        },
        {
          "name": "stderr",
          "output_type": "stream",
          "text": [
            "100%|██████████| 19/19 [00:01<00:00,  9.55batch/s]\n"
          ]
        },
        {
          "name": "stdout",
          "output_type": "stream",
          "text": [
            "Validation Loss: 0.053389496274145416 \n",
            "\n"
          ]
        },
        {
          "name": "stderr",
          "output_type": "stream",
          "text": [
            "100%|██████████| 73/73 [00:21<00:00,  3.47batch/s]\n"
          ]
        },
        {
          "name": "stdout",
          "output_type": "stream",
          "text": [
            "Epoch 167/1000, Loss: 0.0531070730393778\n"
          ]
        },
        {
          "name": "stderr",
          "output_type": "stream",
          "text": [
            "100%|██████████| 19/19 [00:02<00:00,  9.09batch/s]\n"
          ]
        },
        {
          "name": "stdout",
          "output_type": "stream",
          "text": [
            "Validation Loss: 0.054847709865211265 \n",
            "\n"
          ]
        },
        {
          "name": "stderr",
          "output_type": "stream",
          "text": [
            "100%|██████████| 73/73 [00:20<00:00,  3.51batch/s]\n"
          ]
        },
        {
          "name": "stdout",
          "output_type": "stream",
          "text": [
            "Epoch 168/1000, Loss: 0.05220245398989279\n"
          ]
        },
        {
          "name": "stderr",
          "output_type": "stream",
          "text": [
            "100%|██████████| 19/19 [00:02<00:00,  8.54batch/s]\n"
          ]
        },
        {
          "name": "stdout",
          "output_type": "stream",
          "text": [
            "Validation Loss: 0.05376652234209407 \n",
            "\n"
          ]
        },
        {
          "name": "stderr",
          "output_type": "stream",
          "text": [
            "100%|██████████| 73/73 [00:20<00:00,  3.51batch/s]\n"
          ]
        },
        {
          "name": "stdout",
          "output_type": "stream",
          "text": [
            "Epoch 169/1000, Loss: 0.05404191874988275\n"
          ]
        },
        {
          "name": "stderr",
          "output_type": "stream",
          "text": [
            "100%|██████████| 19/19 [00:01<00:00,  9.56batch/s]\n"
          ]
        },
        {
          "name": "stdout",
          "output_type": "stream",
          "text": [
            "Validation Loss: 0.054825509156982755 \n",
            "\n"
          ]
        },
        {
          "name": "stderr",
          "output_type": "stream",
          "text": [
            "100%|██████████| 73/73 [00:20<00:00,  3.50batch/s]\n"
          ]
        },
        {
          "name": "stdout",
          "output_type": "stream",
          "text": [
            "Epoch 170/1000, Loss: 0.05341936417612923\n"
          ]
        },
        {
          "name": "stderr",
          "output_type": "stream",
          "text": [
            "100%|██████████| 19/19 [00:01<00:00,  9.51batch/s]\n"
          ]
        },
        {
          "name": "stdout",
          "output_type": "stream",
          "text": [
            "Validation Loss: 0.0529785498756131 \n",
            "\n"
          ]
        },
        {
          "name": "stderr",
          "output_type": "stream",
          "text": [
            "100%|██████████| 73/73 [00:20<00:00,  3.53batch/s]\n"
          ]
        },
        {
          "name": "stdout",
          "output_type": "stream",
          "text": [
            "Epoch 171/1000, Loss: 0.053312379496861\n"
          ]
        },
        {
          "name": "stderr",
          "output_type": "stream",
          "text": [
            "100%|██████████| 19/19 [00:02<00:00,  8.20batch/s]\n"
          ]
        },
        {
          "name": "stdout",
          "output_type": "stream",
          "text": [
            "Validation Loss: 0.05440845543910798 \n",
            "\n"
          ]
        },
        {
          "name": "stderr",
          "output_type": "stream",
          "text": [
            "100%|██████████| 73/73 [00:20<00:00,  3.52batch/s]\n"
          ]
        },
        {
          "name": "stdout",
          "output_type": "stream",
          "text": [
            "Epoch 172/1000, Loss: 0.05328890778864288\n"
          ]
        },
        {
          "name": "stderr",
          "output_type": "stream",
          "text": [
            "100%|██████████| 19/19 [00:01<00:00,  9.66batch/s]\n"
          ]
        },
        {
          "name": "stdout",
          "output_type": "stream",
          "text": [
            "Validation Loss: 0.054087829604548845 \n",
            "\n"
          ]
        },
        {
          "name": "stderr",
          "output_type": "stream",
          "text": [
            "100%|██████████| 73/73 [00:20<00:00,  3.53batch/s]\n"
          ]
        },
        {
          "name": "stdout",
          "output_type": "stream",
          "text": [
            "Epoch 173/1000, Loss: 0.05311572847709264\n"
          ]
        },
        {
          "name": "stderr",
          "output_type": "stream",
          "text": [
            "100%|██████████| 19/19 [00:01<00:00,  9.55batch/s]\n"
          ]
        },
        {
          "name": "stdout",
          "output_type": "stream",
          "text": [
            "Validation Loss: 0.053464326529616586 \n",
            "\n"
          ]
        },
        {
          "name": "stderr",
          "output_type": "stream",
          "text": [
            "100%|██████████| 73/73 [00:20<00:00,  3.53batch/s]\n"
          ]
        },
        {
          "name": "stdout",
          "output_type": "stream",
          "text": [
            "Epoch 174/1000, Loss: 0.05293472194789003\n"
          ]
        },
        {
          "name": "stderr",
          "output_type": "stream",
          "text": [
            "100%|██████████| 19/19 [00:01<00:00,  9.65batch/s]\n"
          ]
        },
        {
          "name": "stdout",
          "output_type": "stream",
          "text": [
            "Validation Loss: 0.05366552695877066 \n",
            "\n"
          ]
        },
        {
          "name": "stderr",
          "output_type": "stream",
          "text": [
            "100%|██████████| 73/73 [00:20<00:00,  3.51batch/s]\n"
          ]
        },
        {
          "name": "stdout",
          "output_type": "stream",
          "text": [
            "Epoch 175/1000, Loss: 0.05320925891322836\n"
          ]
        },
        {
          "name": "stderr",
          "output_type": "stream",
          "text": [
            "100%|██████████| 19/19 [00:02<00:00,  8.94batch/s]\n"
          ]
        },
        {
          "name": "stdout",
          "output_type": "stream",
          "text": [
            "Validation Loss: 0.05315109874170862 \n",
            "\n"
          ]
        },
        {
          "name": "stderr",
          "output_type": "stream",
          "text": [
            "100%|██████████| 73/73 [00:20<00:00,  3.56batch/s]\n"
          ]
        },
        {
          "name": "stdout",
          "output_type": "stream",
          "text": [
            "Epoch 176/1000, Loss: 0.05325676616893647\n"
          ]
        },
        {
          "name": "stderr",
          "output_type": "stream",
          "text": [
            "100%|██████████| 19/19 [00:02<00:00,  8.87batch/s]\n"
          ]
        },
        {
          "name": "stdout",
          "output_type": "stream",
          "text": [
            "Validation Loss: 0.05333655985611442 \n",
            "\n"
          ]
        },
        {
          "name": "stderr",
          "output_type": "stream",
          "text": [
            "100%|██████████| 73/73 [00:20<00:00,  3.54batch/s]\n"
          ]
        },
        {
          "name": "stdout",
          "output_type": "stream",
          "text": [
            "Epoch 177/1000, Loss: 0.05342949325958752\n"
          ]
        },
        {
          "name": "stderr",
          "output_type": "stream",
          "text": [
            "100%|██████████| 19/19 [00:02<00:00,  9.37batch/s]\n"
          ]
        },
        {
          "name": "stdout",
          "output_type": "stream",
          "text": [
            "Validation Loss: 0.05403343847291054 \n",
            "\n"
          ]
        },
        {
          "name": "stderr",
          "output_type": "stream",
          "text": [
            "100%|██████████| 73/73 [00:20<00:00,  3.52batch/s]\n"
          ]
        },
        {
          "name": "stdout",
          "output_type": "stream",
          "text": [
            "Epoch 178/1000, Loss: 0.05346475672997432\n"
          ]
        },
        {
          "name": "stderr",
          "output_type": "stream",
          "text": [
            "100%|██████████| 19/19 [00:01<00:00,  9.70batch/s]\n"
          ]
        },
        {
          "name": "stdout",
          "output_type": "stream",
          "text": [
            "Validation Loss: 0.054199199841700886 \n",
            "\n"
          ]
        },
        {
          "name": "stderr",
          "output_type": "stream",
          "text": [
            "100%|██████████| 73/73 [00:20<00:00,  3.52batch/s]\n"
          ]
        },
        {
          "name": "stdout",
          "output_type": "stream",
          "text": [
            "Epoch 179/1000, Loss: 0.052739971125983214\n"
          ]
        },
        {
          "name": "stderr",
          "output_type": "stream",
          "text": [
            "100%|██████████| 19/19 [00:01<00:00,  9.63batch/s]\n"
          ]
        },
        {
          "name": "stdout",
          "output_type": "stream",
          "text": [
            "Validation Loss: 0.05445943440090081 \n",
            "\n",
            "Early Stopping\n"
          ]
        },
        {
          "name": "stderr",
          "output_type": "stream",
          "text": [
            "100%|██████████| 23/23 [00:02<00:00,  9.23batch/s]"
          ]
        },
        {
          "name": "stdout",
          "output_type": "stream",
          "text": [
            "Average Test Loss: 0.053819855821885816\n"
          ]
        },
        {
          "name": "stderr",
          "output_type": "stream",
          "text": [
            "\n"
          ]
        }
      ],
      "source": [
        "#training\n",
        "bert_pointwise = BERT_Pointwise(config, 200, freeze_bert = False, dropout = 0.5).to(device)\n",
        "\n",
        "\n",
        "num_epochs = 1000\n",
        "learning_rate = 0.001\n",
        "\n",
        "# Define the loss function and optimizer\n",
        "loss_function = nn.MSELoss()\n",
        "optimizer = optim.Adam(bert_pointwise.parameters(), lr=learning_rate)\n",
        "\n",
        "bert_pt_training_loss = []\n",
        "bert_pt_val_loss = []\n",
        "\n",
        "\n",
        "# Training loop\n",
        "for epoch in range(num_epochs):\n",
        "    bert_pointwise.train()  # Set the model to training mode\n",
        "\n",
        "    running_loss = 0.0\n",
        "\n",
        "    # Training the model\n",
        "    with tqdm(bert_pointwise_train_loader, unit=\"batch\") as tepoch:\n",
        "          for num_features, input_ids, attention_mask, true_position in tepoch:\n",
        "\n",
        "              num_features, input_ids, attention_mask, true_position = num_features.to(device), input_ids.to(device), attention_mask.to(device), true_position.to(device)\n",
        "\n",
        "              optimizer.zero_grad()\n",
        "\n",
        "              pred_position = bert_pointwise(num_features, input_ids, attention_mask)\n",
        "\n",
        "              loss = loss_function(pred_position, true_position.unsqueeze(1))\n",
        "\n",
        "              loss.backward()\n",
        "              optimizer.step()\n",
        "\n",
        "              running_loss += loss.item()\n",
        "\n",
        "    # Print the average loss for the epoch\n",
        "    average_loss = running_loss / len(bert_pointwise_train_loader)\n",
        "    print(f\"Epoch {epoch + 1}/{num_epochs}, Loss: {average_loss}\")\n",
        "    bert_pt_training_loss.append(average_loss)\n",
        "\n",
        "    # Validation loop\n",
        "    bert_pointwise.eval()  # Set the model to evaluation mode\n",
        "    val_loss = 0.0\n",
        "    with torch.no_grad():\n",
        "        with tqdm(bert_pointwise_valid_loader, unit=\"batch\") as tepoch:\n",
        "\n",
        "            for num_features, input_ids, attention_mask, true_position in tepoch:\n",
        "\n",
        "                num_features, input_ids, attention_mask, true_position = num_features.to(device), input_ids.to(device), attention_mask.to(device), true_position.to(device)\n",
        "\n",
        "                pred_position = bert_pointwise(num_features, input_ids, attention_mask)\n",
        "\n",
        "                loss = loss_function(pred_position, true_position.unsqueeze(1))\n",
        "\n",
        "                val_loss += loss.item()\n",
        "\n",
        "    # Print the validation loss for the epoch.\n",
        "    average_val_loss = val_loss / len(bert_pointwise_valid_loader)\n",
        "    print(f\"Validation Loss: {average_val_loss} \\n\")\n",
        "    bert_pt_val_loss.append(average_val_loss)\n",
        "\n",
        "    if epoch == 0:\n",
        "        previous_dev_loss = average_val_loss\n",
        "        dev_loss_counter = 0\n",
        "    else:\n",
        "      if average_val_loss >= previous_dev_loss:\n",
        "          dev_loss_counter += 1\n",
        "          previous_dev_loss = average_val_loss\n",
        "          if dev_loss_counter > 3:\n",
        "              print(\"Early Stopping\")\n",
        "              break\n",
        "      else:\n",
        "          previous_dev_loss = average_val_loss\n",
        "          dev_loss_counter = 0\n",
        "\n",
        "# Testing loop\n",
        "bert_pointwise.eval()  # Set the model to evaluation mode\n",
        "test_loss = 0.0\n",
        "with torch.no_grad():\n",
        "  with tqdm(bert_pointwise_test_loader, unit=\"batch\") as tepoch:\n",
        "        for num_features, input_ids, attention_mask, true_position in tepoch:\n",
        "\n",
        "                num_features, input_ids, attention_mask, true_position = num_features.to(device), input_ids.to(device), attention_mask.to(device), true_position.to(device)\n",
        "\n",
        "                pred_position = bert_pointwise(num_features, input_ids, attention_mask)\n",
        "\n",
        "                loss = loss_function(pred_position, true_position.unsqueeze(1))\n",
        "\n",
        "                test_loss += loss.item()\n",
        "\n",
        "# Print the average test loss\n",
        "average_test_loss = test_loss / len(bert_pointwise_test_loader)\n",
        "print(f\"Average Test Loss: {average_test_loss}\")"
      ]
    },
    {
      "cell_type": "code",
      "execution_count": null,
      "metadata": {
        "colab": {
          "background_save": true
        },
        "id": "eTitDqbesHAE",
        "outputId": "42fe1e59-0ef7-4bbe-e859-1f75d974364b"
      },
      "outputs": [
        {
          "data": {
            "image/png": "[encoded data removed]",
            "text/plain": [
              "<Figure size 640x480 with 1 Axes>"
            ]
          },
          "metadata": {},
          "output_type": "display_data"
        }
      ],
      "source": [
        "plt.plot(bert_pt_training_loss, label = 'Training')\n",
        "plt.plot(bert_pt_val_loss, label = 'Validation')\n",
        "plt.title(\"BERT Fine_Tuned Pointwise\")\n",
        "plt.xlabel(\"Epochs\")\n",
        "plt.ylabel(\"Loss\")\n",
        "plt.legend()\n",
        "plt.show()"
      ]
    },
    {
      "cell_type": "markdown",
      "metadata": {
        "id": "PJMnwLcXrwbj"
      },
      "source": [
        "###Frozen"
      ]
    },
    {
      "cell_type": "code",
      "execution_count": null,
      "metadata": {
        "id": "H3NJjGXBAVbG"
      },
      "outputs": [],
      "source": [
        "#training\n",
        "bert_frozen_pointwise = BERT_Pointwise(config, 200, freeze_bert = True, dropout = 0.5).to(device)\n",
        "\n",
        "\n",
        "num_epochs = 1000\n",
        "learning_rate = 0.001\n",
        "\n",
        "# Define the loss function and optimizer\n",
        "loss_function = nn.MSELoss()\n",
        "optimizer = optim.Adam(bert_frozen_pointwise.parameters(), lr=learning_rate)\n",
        "\n",
        "bert_pt_training_loss = []\n",
        "bert_pt_val_loss = []\n",
        "\n",
        "\n",
        "# Training loop\n",
        "for epoch in range(num_epochs):\n",
        "    bert_frozen_pointwise.train()  # Set the model to training mode\n",
        "\n",
        "    running_loss = 0.0\n",
        "\n",
        "    # Training the model\n",
        "    with tqdm(bert_pointwise_train_loader, unit=\"batch\") as tepoch:\n",
        "          for num_features, input_ids, attention_mask, true_position in tepoch:\n",
        "\n",
        "              num_features, input_ids, attention_mask, true_position = num_features.to(device), input_ids.to(device), attention_mask.to(device), true_position.to(device)\n",
        "\n",
        "              optimizer.zero_grad()\n",
        "\n",
        "              pred_position = bert_frozen_pointwise(num_features, input_ids, attention_mask)\n",
        "\n",
        "              loss = loss_function(pred_position, true_position.unsqueeze(1))\n",
        "\n",
        "              loss.backward()\n",
        "              optimizer.step()\n",
        "\n",
        "              running_loss += loss.item()\n",
        "\n",
        "    # Print the average loss for the epoch\n",
        "    average_loss = running_loss / len(bert_pointwise_train_loader)\n",
        "    print(f\"Epoch {epoch + 1}/{num_epochs}, Loss: {average_loss}\")\n",
        "    bert_pt_training_loss.append(average_loss)\n",
        "\n",
        "    if epoch == 0:\n",
        "        previous_dev_loss = average_val_loss\n",
        "        dev_loss_counter = 0\n",
        "    else:\n",
        "      if average_val_loss >= previous_dev_loss:\n",
        "          dev_loss_counter += 1\n",
        "          previous_dev_loss = average_val_loss\n",
        "          if dev_loss_counter > 3:\n",
        "              print(\"Early Stopping\")\n",
        "              break\n",
        "      else:\n",
        "          previous_dev_loss = average_val_loss\n",
        "          dev_loss_counter = 0\n",
        "\n",
        "    # Validation loop\n",
        "    bert_frozen_pointwise.eval()  # Set the model to evaluation mode\n",
        "    val_loss = 0.0\n",
        "    with torch.no_grad():\n",
        "        with tqdm(bert_pointwise_valid_loader, unit=\"batch\") as tepoch:\n",
        "\n",
        "            for num_features, input_ids, attention_mask, true_position in tepoch:\n",
        "\n",
        "                num_features, input_ids, attention_mask, true_position = num_features.to(device), input_ids.to(device), attention_mask.to(device), true_position.to(device)\n",
        "\n",
        "                pred_position = bert_frozen_pointwise(num_features, input_ids, attention_mask)\n",
        "\n",
        "                loss = loss_function(pred_position, true_position.unsqueeze(1))\n",
        "\n",
        "                val_loss += loss.item()\n",
        "\n",
        "    # Print the validation loss for the epoch.\n",
        "    average_val_loss = val_loss / len(bert_pointwise_valid_loader)\n",
        "    print(f\"Validation Loss: {average_val_loss} \\n\")\n",
        "    bert_pt_val_loss.append(average_val_loss)\n",
        "\n",
        "# Testing loop\n",
        "bert_frozen_pointwise.eval()  # Set the model to evaluation mode\n",
        "test_loss = 0.0\n",
        "with torch.no_grad():\n",
        "  with tqdm(bert_pointwise_test_loader, unit=\"batch\") as tepoch:\n",
        "        for num_features, input_ids, attention_mask, true_position in tepoch:\n",
        "\n",
        "                num_features, input_ids, attention_mask, true_position = num_features.to(device), input_ids.to(device), attention_mask.to(device), true_position.to(device)\n",
        "\n",
        "                pred_position = bert_frozen_pointwise(num_features, input_ids, attention_mask)\n",
        "\n",
        "                loss = loss_function(pred_position, true_position.unsqueeze(1))\n",
        "\n",
        "                test_loss += loss.item()\n",
        "\n",
        "# Print the average test loss\n",
        "average_test_loss = test_loss / len(bert_pointwise_test_loader)\n",
        "print(f\"Average Test Loss: {average_test_loss}\")"
      ]
    },
    {
      "cell_type": "code",
      "execution_count": null,
      "metadata": {
        "id": "Yk-kY7RPLfX-"
      },
      "outputs": [],
      "source": [
        "plt.plot(bert_pt_training_loss, label = 'Training')\n",
        "plt.plot(bert_pt_val_loss, label = 'Validation')\n",
        "plt.title(\"BERT Frozen Pointwise\")\n",
        "plt.xlabel(\"Epochs\")\n",
        "plt.ylabel(\"Loss\")\n",
        "plt.legend()\n",
        "plt.show()"
      ]
    },
    {
      "cell_type": "markdown",
      "metadata": {
        "id": "R6pKwfXSgmvk"
      },
      "source": [
        "##Pairwise (Classification)"
      ]
    },
    {
      "cell_type": "code",
      "execution_count": null,
      "metadata": {
        "id": "61qvXPQ_gqv6"
      },
      "outputs": [],
      "source": [
        "df = pd.read_csv(\"data.csv\")\n",
        "df = df.drop([df.columns[0], df.columns[9]], axis = 1)\n",
        "\n",
        "# Initialize a defaultdict to store the results\n",
        "results_dict = defaultdict(list)\n",
        "\n",
        "# Get unique race IDs\n",
        "race_ids = df['Race_Id'].unique()\n",
        "\n",
        "# Iterate over race IDs\n",
        "for race_id in race_ids:\n",
        "    # Get the rows for the current race ID\n",
        "    rows = df[df['Race_Id'] == race_id]\n",
        "\n",
        "    # Iterate over all combinations of horse IDs in the current race\n",
        "    for i, j in combinations(rows.index, 2):\n",
        "        # Store the common information\n",
        "        results_dict['Race_Id'].append(race_id)\n",
        "        results_dict['Position_x'].append(rows.loc[i, 'Position'])\n",
        "        results_dict['Position_y'].append(rows.loc[j, 'Position'])\n",
        "        results_dict['Prediction_x'].append(rows.loc[i, 'Prediction'])\n",
        "        results_dict['Prediction_y'].append(rows.loc[j, 'Prediction'])\n",
        "\n",
        "\n",
        "        # Calculate the differences between the values for each column\n",
        "        # Calculate the differences between the values for each column\n",
        "        for col_name in [col for col in rows.columns if col not in ['horse_race_id', 'Position', 'Race_Id', 'Prediction']]:\n",
        "            col_diff = rows.loc[i, col_name] - rows.loc[j, col_name]\n",
        "            results_dict[col_name].append(col_diff)\n",
        "\n",
        "# Create a DataFrame from the dictionary\n",
        "results_df = pd.DataFrame(results_dict)\n",
        "\n",
        "def positions(x):\n",
        "    if x['Position_x'] > x['Position_y']: #if horse 1 finishes later than horse 2\n",
        "        return 0\n",
        "    else:\n",
        "        return 1\n",
        "\n",
        "results_df['comparison'] = results_df[['Position_x', 'Position_y']].apply(positions, axis = 1)\n",
        "\n",
        "df = results_df.drop(['Race_Id', 'Position_x', 'Position_y'], axis = 1)\n",
        "\n",
        "df.head()"
      ]
    },
    {
      "cell_type": "code",
      "execution_count": null,
      "metadata": {
        "id": "cP6UtJZ9jAex"
      },
      "outputs": [],
      "source": [
        "train_and_val_data, test_data = train_test_split( df, test_size=0.2, random_state=42)\n",
        "train_data, val_data = train_test_split(train_and_val_data, test_size=0.2, random_state=42)"
      ]
    },
    {
      "cell_type": "code",
      "execution_count": null,
      "metadata": {
        "id": "8-wwtkgQjI__"
      },
      "outputs": [],
      "source": [
        "class BERT_Pairwise_Dataset(Dataset):\n",
        "\n",
        "    def __init__(self, data, maxlen, tokenizer):\n",
        "        #Store the contents of the file in a pandas dataframe\n",
        "        self.df = data.reset_index()\n",
        "        #Initialize the tokenizer for the desired transformer model\n",
        "        self.tokenizer = tokenizer\n",
        "        #Maximum length of the tokens list to keep all the sequences of fixed size\n",
        "        self.maxlen = maxlen\n",
        "\n",
        "    def __len__(self):\n",
        "        return self.df.shape[0]\n",
        "\n",
        "    def process_text(self, pred_x, pred_y):\n",
        "        #Preprocess the text to be suitable for the transformer\n",
        "        tokens_x = self.tokenizer.tokenize(pred_x)\n",
        "        tokens_y = self.tokenizer.tokenize(pred_y)\n",
        "        tokens = ['[CLS]'] + tokens_x + ['[SEP]'] + tokens_y + ['[SEP]']\n",
        "        if len(tokens) < self.maxlen:\n",
        "            tokens = tokens + ['[PAD]' for _ in range(self.maxlen - len(tokens))]\n",
        "        else:\n",
        "            tokens = tokens[:self.maxlen-1] + ['[SEP]']\n",
        "        #Obtain the indices of the tokens in the BERT Vocabulary\n",
        "        input_ids = self.tokenizer.convert_tokens_to_ids(tokens)\n",
        "        input_ids = torch.tensor(input_ids)\n",
        "        #Obtain the attention mask i.e a tensor containing 1s for no padded tokens and 0s for padded ones\n",
        "        attention_mask = (input_ids != 0).long()\n",
        "\n",
        "        return input_ids, attention_mask\n",
        "\n",
        "\n",
        "    def __getitem__(self, index):\n",
        "\n",
        "        # Extract the input features and target\n",
        "        num_features = torch.tensor(self.df.drop(['index', 'Prediction_x', 'Prediction_y', 'comparison'], axis=1).iloc[index].values, dtype=torch.float32)\n",
        "\n",
        "        try:\n",
        "            comparison = self.df.loc[index, 'comparison']\n",
        "        except:\n",
        "            comparison = -1.0\n",
        "\n",
        "        #Select the sentence and label at the specified index in the data frame\n",
        "        pred_x = self.df.loc[index, 'Prediction_x']\n",
        "\n",
        "        pred_y = self.df.loc[index, 'Prediction_y']\n",
        "\n",
        "        inputs_ids, attention_mask = self.process_text(pred_x, pred_y)\n",
        "\n",
        "        return num_features, inputs_ids, attention_mask, comparison"
      ]
    },
    {
      "cell_type": "code",
      "execution_count": null,
      "metadata": {
        "id": "d32W59IkkoV4"
      },
      "outputs": [],
      "source": [
        "BATCH_SIZE = 64\n",
        "config = AutoConfig.from_pretrained('bert-base-uncased')\n",
        "tokenizer = AutoTokenizer.from_pretrained('bert-base-uncased')"
      ]
    },
    {
      "cell_type": "code",
      "execution_count": null,
      "metadata": {
        "id": "u7VW9-xVkxQ6"
      },
      "outputs": [],
      "source": [
        "## Training Dataset\n",
        "train_set = BERT_Pairwise_Dataset(data=train_data, maxlen=2*MAX_LEN_TRAIN, tokenizer=tokenizer)    #Note the MAX_LEN_... is exactly the same as in Bert Pointwise as using same predictions\n",
        "valid_set = BERT_Pairwise_Dataset(data=val_data, maxlen=2*MAX_LEN_VALID, tokenizer=tokenizer)\n",
        "test_set = BERT_Pairwise_Dataset(data=test_data, maxlen=2*MAX_LEN_TEST, tokenizer=tokenizer)\n",
        "\n",
        "## Data Loaders\n",
        "bert_pairwise_train_loader = DataLoader(dataset=train_set, batch_size=BATCH_SIZE)\n",
        "bert_pairwise_valid_loader = DataLoader(dataset=valid_set, batch_size=BATCH_SIZE)\n",
        "bert_pairwise_test_loader = DataLoader(dataset=test_set, batch_size=BATCH_SIZE)"
      ]
    },
    {
      "cell_type": "code",
      "execution_count": null,
      "metadata": {
        "id": "j5Yka59_k9yN"
      },
      "outputs": [],
      "source": [
        "\n",
        "class BERT_Pairwise(BertPreTrainedModel):\n",
        "    def __init__(self, config, hidden_layer_size, freeze_bert=False, dropout = 0):\n",
        "        super().__init__(config)\n",
        "        self.bert = BertModel(config)\n",
        "\n",
        "        if freeze_bert:\n",
        "            for param in self.bert.parameters():\n",
        "                param.requires_grad = False\n",
        "\n",
        "        #The output layer that takes the [CLS] representation and gives an output\n",
        "        self.cls_linear1 = nn.Linear(config.hidden_size + 7, hidden_layer_size)   #note using BERT embedding then adding the 7 numerical features\n",
        "        self.relu1 = nn.ReLU()\n",
        "        self.linear2 = nn.Linear(hidden_layer_size,2)\n",
        "        self.dropout1 = nn.Dropout(dropout)\n",
        "        self.dropout2 = nn.Dropout(dropout)\n",
        "\n",
        "\n",
        "\n",
        "    def forward(self, num_features, inputs_ids, attention_mask):\n",
        "        #For first prediction\n",
        "        #Feed the input to Bert model to obtain contextualized representations\n",
        "        outputs = self.bert(input_ids= inputs_ids, attention_mask=attention_mask)\n",
        "        #Obtain the representations of [CLS] heads\n",
        "        logits = outputs.last_hidden_state[:,0,:]\n",
        "\n",
        "        X = torch.cat((logits, num_features), -1).to(torch.float32)  #concatenate the numerical and textual data\n",
        "\n",
        "        output = self.cls_linear1(X)\n",
        "        output = self.relu1(output)\n",
        "        output = self.dropout1(output)\n",
        "        output = self.linear2(output)\n",
        "        output = self.dropout2(output)\n",
        "        return F.log_softmax(output, dim=1)\n",
        "\n"
      ]
    },
    {
      "cell_type": "markdown",
      "metadata": {
        "id": "ybKiSoBCcrPq"
      },
      "source": [
        "###Fine-Tuned"
      ]
    },
    {
      "cell_type": "code",
      "execution_count": null,
      "metadata": {
        "id": "BfKbOASCEHEb"
      },
      "outputs": [],
      "source": [
        "#training\n",
        "bert_pairwise = BERT_Pairwise(config, 200, freeze_bert = False, dropout = 0.5).to(device)\n",
        "\n",
        "num_epochs = 1000\n",
        "learning_rate = 0.001\n",
        "\n",
        "# Define the loss function and optimizer\n",
        "loss_function = nn.NLLLoss()\n",
        "optimizer = optim.Adam(bert_pairwise.parameters(), lr=learning_rate)\n",
        "\n",
        "bert_pr_training_loss = []\n",
        "bert_pr_val_loss = []\n",
        "bert_pr_training_accuracy = []\n",
        "bert_pr_val_accuracy = []\n",
        "# Training loop\n",
        "for epoch in range(num_epochs):\n",
        "    bert_pairwise.train()  # Set the model to training mode\n",
        "\n",
        "    running_loss = 0.0\n",
        "    correct = 0\n",
        "    total = 0\n",
        "    print(\"Epoch: \", epoch)\n",
        "    # Training the model\n",
        "    with tqdm(bert_pairwise_train_loader, unit=\"batch\") as tepoch:\n",
        "\n",
        "          for num_features, inputs_ids, attention_mask, true_comparison in tepoch:\n",
        "\n",
        "              num_features, inputs_ids, attention_mask, true_comparison = num_features.to(device), inputs_ids.to(device), attention_mask.to(device), true_comparison.to(device)\n",
        "\n",
        "              optimizer.zero_grad()\n",
        "\n",
        "              pred_comparison = bert_pairwise(num_features, inputs_ids, attention_mask)\n",
        "\n",
        "              loss = loss_function(pred_comparison, true_comparison)\n",
        "\n",
        "              loss.backward()\n",
        "              optimizer.step()\n",
        "\n",
        "              running_loss += loss.item()\n",
        "\n",
        "              total += y_true.size(0)\n",
        "              y_label = torch.argmax(y_pred, axis =1)\n",
        "              correct += torch.sum(y_label == y_true).item()\n",
        "\n",
        "    # Print the average loss for the epoch\n",
        "    average_loss = running_loss / len(bert_pairwise_train_loader)\n",
        "\n",
        "    print(f\"Loss for Epoch: {epoch + 1}/{num_epochs}, {average_loss}\")\n",
        "    bert_pr_training_loss.append(average_loss)\n",
        "\n",
        "    print('Training accuracy of epoch: %d %% \\n' % (100 * correct / total))\n",
        "    bert_pr_training_accuracy.append((100 * correct / total))\n",
        "\n",
        "    # Validation loop\n",
        "    bert_pointwise.eval()  # Set the model to evaluation mode\n",
        "    val_loss = 0.0\n",
        "    val_total = 0\n",
        "    val_correct = 0\n",
        "    with torch.no_grad():\n",
        "       with tqdm(bert_pairwise_valid_loader, unit=\"batch\") as tepoch:\n",
        "          for num_features, inputs_ids, attention_mask, true_comparison in tepoch:\n",
        "\n",
        "              num_features, inputs_ids, attention_mask, true_comparison = num_features.to(device), inputs_ids.to(device), attention_mask.to(device), true_comparison.to(device)\n",
        "\n",
        "              pred_comparison = bert_pairwise(num_features, inputs_ids, attention_mask)\n",
        "\n",
        "              loss = loss_function(pred_comparison, true_comparison)\n",
        "\n",
        "              val_loss += loss.item()\n",
        "\n",
        "              val_total += y_true.size(0)\n",
        "              y_label = torch.argmax(y_pred, axis =1)\n",
        "              val_correct += torch.sum(y_label == y_true).item()\n",
        "\n",
        "    # Print the validation loss for the epoch.\n",
        "    average_val_loss = val_loss / len(bert_pairwise_valid_loader)\n",
        "    print(f\"Validation Loss: {average_val_loss}\")\n",
        "    bert_pr_val_loss.append(average_val_loss)\n",
        "\n",
        "    print('Validation accuracy of epoch: %d %% \\n' % (100 * val_correct / val_total))\n",
        "    bert_pr_val_accuracy.append((100 * val_correct / val_total))\n",
        "\n",
        "    if epoch == 0:\n",
        "        previous_dev_loss = average_val_loss\n",
        "        dev_loss_counter = 0\n",
        "    else:\n",
        "      if average_val_loss >= previous_dev_loss:\n",
        "          dev_loss_counter += 1\n",
        "          previous_dev_loss = average_val_loss\n",
        "          if dev_loss_counter > 3:\n",
        "              print(\"Early Stopping\")\n",
        "              break\n",
        "      else:\n",
        "          previous_dev_loss = average_val_loss\n",
        "          dev_loss_counter = 0\n",
        "\n",
        "\n",
        "\n",
        "\n",
        "# Testing loop\n",
        "bert_pairwise.eval()  # Set the model to evaluation mode\n",
        "test_loss = 0.0\n",
        "test_correct = 0\n",
        "test_total = 0\n",
        "with torch.no_grad():\n",
        "  with tqdm(bert_pairwise_test_loader, unit=\"batch\") as tepoch:\n",
        "      for num_features, inputs_ids, attention_mask, true_comparison in tepoch:\n",
        "\n",
        "              num_features, inputs_ids, attention_mask, true_comparison = num_features.to(device), inputs_ids.to(device), attention_mask.to(device), true_comparison.to(device)\n",
        "\n",
        "              pred_comparison = bert_pairwise(num_features, inputs_ids, attention_mask)\n",
        "\n",
        "              loss = loss_function(pred_comparison, true_comparison)\n",
        "\n",
        "              test_loss += loss.item()\n",
        "\n",
        "              test_total += y_true.size(0)\n",
        "              y_label = torch.argmax(y_pred, axis =1)\n",
        "              test_correct += torch.sum(y_label == y_true).item()\n",
        "\n",
        "# Print the average test loss\n",
        "average_test_loss = test_loss / len(bert_pairwise_test_loader)\n",
        "print(f\"Average Test Loss: {average_test_loss}\")\n",
        "print('Validation accuracy of epoch: %d %% \\n' % (100 * test_correct / test_total))\n"
      ]
    },
    {
      "cell_type": "code",
      "execution_count": null,
      "metadata": {
        "id": "kwnvun1qsdSW"
      },
      "outputs": [],
      "source": [
        "plt.plot(bert_pr_training_loss, label = 'Training')\n",
        "plt.plot(bert_pr_val_loss, label = 'Validation')\n",
        "plt.title(\"BERT Fine_Tune Pairwise\")\n",
        "plt.xlabel(\"Epochs\")\n",
        "plt.ylabel(\"Loss\")\n",
        "plt.legend()\n",
        "plt.show()\n",
        "\n",
        "plt.plot(bert_pr_training_accuracy, label = 'Training')\n",
        "plt.plot(bert_pr_val_accuracy, label = 'Validation')\n",
        "plt.title(\"BERT Fine_Tune Pairwise\")\n",
        "plt.xlabel(\"Epochs\")\n",
        "plt.ylabel(\"Accuracy\")\n",
        "plt.legend()\n",
        "plt.show()"
      ]
    },
    {
      "cell_type": "markdown",
      "metadata": {
        "id": "B4qf5qVGc4W7"
      },
      "source": [
        "###Frozen"
      ]
    },
    {
      "cell_type": "code",
      "execution_count": null,
      "metadata": {
        "id": "999DvHITmIf7"
      },
      "outputs": [],
      "source": [
        "#training\n",
        "bert_pairwise_frozen = BERT_Pairwise(config, 200, freeze_bert = True, dropout = 0.5).to(device)\n",
        "\n",
        "num_epochs = 1000\n",
        "learning_rate = 0.001\n",
        "\n",
        "# Define the loss function and optimizer\n",
        "loss_function = nn.NLLLoss()\n",
        "optimizer = optim.Adam(bert_pairwise_frozen.parameters(), lr=learning_rate)\n",
        "\n",
        "bert_fr_pr_training_loss = []\n",
        "bert_fr_pr_val_loss = []\n",
        "bert_fr_pr_training_accuracy = []\n",
        "bert_fr_pr_val_accuracy = []\n",
        "# Training loop\n",
        "for epoch in range(num_epochs):\n",
        "    bert_pairwise_frozen.train()  # Set the model to training mode\n",
        "\n",
        "    running_loss = 0.0\n",
        "    correct = 0\n",
        "    total = 0\n",
        "    print(\"Epoch: \", epoch)\n",
        "    # Training the model\n",
        "    with tqdm(bert_pairwise_train_loader, unit=\"batch\") as tepoch:\n",
        "\n",
        "          for num_features, inputs_ids, attention_mask, true_comparison in tepoch:\n",
        "\n",
        "              num_features, inputs_ids, attention_mask, true_comparison = num_features.to(device), inputs_ids.to(device), attention_mask.to(device), true_comparison.to(device)\n",
        "\n",
        "              optimizer.zero_grad()\n",
        "\n",
        "              pred_comparison = bert_pairwise_frozen(num_features, inputs_ids, attention_mask)\n",
        "\n",
        "              loss = loss_function(pred_comparison, true_comparison)\n",
        "\n",
        "              loss.backward()\n",
        "              optimizer.step()\n",
        "\n",
        "              running_loss += loss.item()\n",
        "\n",
        "              total += y_true.size(0)\n",
        "              y_label = torch.argmax(y_pred, axis =1)\n",
        "              correct += torch.sum(y_label == y_true).item()\n",
        "\n",
        "    # Print the average loss for the epoch\n",
        "    average_loss = running_loss / len(bert_pairwise_train_loader)\n",
        "\n",
        "    print(f\"Loss for Epoch: {epoch + 1}/{num_epochs}, {average_loss}\")\n",
        "    bert_fr_pr_training_loss.append(average_loss)\n",
        "\n",
        "    print('Training accuracy of epoch: %d %% \\n' % (100 * correct / total))\n",
        "    bert_fr_pr_training_accuracy.append((100 * correct / total))\n",
        "\n",
        "    # Validation loop\n",
        "    bert_pairwise_frozen.eval()  # Set the model to evaluation mode\n",
        "    val_loss = 0.0\n",
        "    val_total = 0\n",
        "    val_correct = 0\n",
        "    with torch.no_grad():\n",
        "       with tqdm(bert_pairwise_valid_loader, unit=\"batch\") as tepoch:\n",
        "          for num_features, inputs_ids, attention_mask, true_comparison in tepoch:\n",
        "\n",
        "              num_features, inputs_ids, attention_mask, true_comparison = num_features.to(device), inputs_ids.to(device), attention_mask.to(device), true_comparison.to(device)\n",
        "\n",
        "              pred_comparison = bert_pairwise_frozen(num_features, inputs_ids, attention_mask)\n",
        "\n",
        "              loss = loss_function(pred_comparison, true_comparison)\n",
        "\n",
        "              val_loss += loss.item()\n",
        "\n",
        "              val_total += y_true.size(0)\n",
        "              y_label = torch.argmax(y_pred, axis =1)\n",
        "              val_correct += torch.sum(y_label == y_true).item()\n",
        "\n",
        "    # Print the validation loss for the epoch.\n",
        "    average_val_loss = val_loss / len(bert_pairwise_valid_loader)\n",
        "    print(f\"Validation Loss: {average_val_loss}\")\n",
        "    bert_fr_pr_val_loss.append(average_val_loss)\n",
        "\n",
        "    print('Validation accuracy of epoch: %d %% \\n' % (100 * val_correct / val_total))\n",
        "    bert_fr_pr_val_accuracy.append((100 * val_correct / val_total))\n",
        "\n",
        "\n",
        "    if epoch == 0:\n",
        "        previous_dev_loss = average_val_loss\n",
        "        dev_loss_counter = 0\n",
        "    else:\n",
        "      if average_val_loss >= previous_dev_loss:\n",
        "          dev_loss_counter += 1\n",
        "          previous_dev_loss = average_val_loss\n",
        "          if dev_loss_counter > 3:\n",
        "              print(\"Early Stopping\")\n",
        "              break\n",
        "      else:\n",
        "          previous_dev_loss = average_val_loss\n",
        "          dev_loss_counter = 0\n",
        "\n",
        "# Testing loop\n",
        "bert_pairwise_frozen.eval()  # Set the model to evaluation mode\n",
        "test_loss = 0.0\n",
        "test_correct = 0\n",
        "test_total = 0\n",
        "with torch.no_grad():\n",
        "  with tqdm(bert_pairwise_test_loader, unit=\"batch\") as tepoch:\n",
        "      for num_features, inputs_ids, attention_mask, true_comparison in tepoch:\n",
        "\n",
        "              num_features, inputs_ids, attention_mask, true_comparison = num_features.to(device), inputs_ids.to(device), attention_mask.to(device), true_comparison.to(device)\n",
        "\n",
        "              pred_comparison = bert_pairwise_frozen(num_features, inputs_ids, attention_mask)\n",
        "\n",
        "              loss = loss_function(pred_comparison, true_comparison)\n",
        "\n",
        "              test_loss += loss.item()\n",
        "\n",
        "              test_total += y_true.size(0)\n",
        "              y_label = torch.argmax(y_pred, axis =1)\n",
        "              test_correct += torch.sum(y_label == y_true).item()\n",
        "\n",
        "# Print the average test loss\n",
        "average_test_loss = test_loss / len(bert_pairwise_test_loader)\n",
        "print(f\"Average Test Loss: {average_test_loss}\")\n",
        "print('Validation accuracy of epoch: %d %% \\n' % (100 * test_correct / test_total))\n"
      ]
    },
    {
      "cell_type": "code",
      "execution_count": null,
      "metadata": {
        "id": "80Jy_D1jM0s0"
      },
      "outputs": [],
      "source": [
        "plt.plot(bert_pr_training_loss, label = 'Training')\n",
        "plt.plot(bert_pr_val_loss, label = 'Validation')\n",
        "plt.title(\"BERT Frozen Pairwise\")\n",
        "plt.xlabel(\"Epochs\")\n",
        "plt.ylabel(\"Loss\")\n",
        "plt.legend()\n",
        "plt.show()\n",
        "\n",
        "plt.plot(bert_pr_training_accuracy, label = 'Training')\n",
        "plt.plot(bert_pr_val_accuracy, label = 'Validation')\n",
        "plt.title(\"BERT Frozen Pairwise\")\n",
        "plt.xlabel(\"Epochs\")\n",
        "plt.ylabel(\"Accuracy\")\n",
        "plt.legend()\n",
        "plt.show()"
      ]
    },
    {
      "cell_type": "markdown",
      "metadata": {
        "id": "lI7HK5HU2kRV"
      },
      "source": [
        "#Evaluation\n"
      ]
    },
    {
      "cell_type": "markdown",
      "metadata": {
        "id": "vmHuE95IZGu-"
      },
      "source": [
        "##Test Data Processing"
      ]
    },
    {
      "cell_type": "code",
      "execution_count": null,
      "metadata": {
        "id": "kl73TklO2oI7"
      },
      "outputs": [],
      "source": [
        "df_pred_test = pd.read_csv(\"test_preds.csv\")"
      ]
    },
    {
      "cell_type": "code",
      "execution_count": null,
      "metadata": {
        "id": "MmgVz2Be4k9U"
      },
      "outputs": [],
      "source": [
        "#for tf_idf: prepare the data\n",
        "\n",
        "# clean the data\n",
        "\n",
        "def clean_preds(df_preds):\n",
        "\n",
        "      df_preds['Race Location'] = df_preds['Race Location'].str.replace(r'\\(.*?\\)', '', regex=True)\n",
        "\n",
        "      df_preds = df_preds[df_preds['Date'] != 'Date']  #deleting rows with the column titles\n",
        "      df_preds = df_preds.reset_index()\n",
        "      df_preds = df_preds.drop(\"index\", axis = 1)  #dropping index columns\n",
        "      df_preds = df_preds.replace('[\\'NaN\\']', np.nan)\n",
        "\n",
        "      #just want horse-race id and the predictions\n",
        "      df_preds['race_id'] = df_preds['Date']+ \"_\" + df_preds['Time'] + \"_\" + df_preds[\"Race Location\"] #create race id\n",
        "      df_preds['horse_race_id'] = df_preds['Date']+ \"_\" + df_preds['Time'] + \"_\" + df_preds[\"Race Location\"]+ \"_\" + df_preds[\"Horse Name\"] #create horse id\n",
        "      df_preds = df_preds.drop([\"Date\", \"Time\", \"Race Location\", \"Going\", \"Horse Name\"], axis = 1) #drop all data now stored in horse id\n",
        "      df_preds = df_preds.drop_duplicates()\n",
        "      df_preds.Prediction = df_preds.Prediction.astype(str)\n",
        "      df_preds.horse_race_id = df_preds.horse_race_id.astype(str)\n",
        "      df_preds = df_preds.replace('-', np.nan)\n",
        "\n",
        "      for i in df_preds.columns[df_preds.isnull().any(axis=0)]:     # replace nan with the mean of a column\n",
        "          df_preds[i].fillna(pd.to_numeric(df_preds[i]).mean(),inplace=True)\n",
        "\n",
        "\n",
        "      cols_to_norm = ['Horse Age', 'Horse Top Speed', 'Horse RPRS Ranking', 'Horse ORS Ranking', 'Horse Weight', 'Jockey Last 14', 'Trainer Last 14']\n",
        "\n",
        "      normalized_df_preds = df_preds[cols_to_norm].astype(float)  #standardize the data\n",
        "      normalized_df_preds = (normalized_df_preds-normalized_df_preds.mean())/normalized_df_preds.std()\n",
        "\n",
        "\n",
        "      df_preds[cols_to_norm] = normalized_df_preds\n",
        "      df_preds['Prediction'] = df_preds['Prediction'].apply(lambda x: x.lower())  #make all lowercase\n",
        "      df_preds[\"Prediction\"] = df_preds['Prediction'].str.replace('[^\\w\\s]','')\n",
        "      df_preds['race_id'] = df_preds['race_id'].apply(lambda x: x.strip())\n",
        "      return df_preds\n",
        "\n",
        "df_pred_test = clean_preds(df_pred_test)\n",
        "df_pred_test.head()"
      ]
    },
    {
      "cell_type": "code",
      "execution_count": null,
      "metadata": {
        "id": "hIhc3OqS5bhP"
      },
      "outputs": [],
      "source": [
        "df_res_test = pd.read_csv(\"test_results.csv\")"
      ]
    },
    {
      "cell_type": "code",
      "execution_count": null,
      "metadata": {
        "id": "liZeZs325n23"
      },
      "outputs": [],
      "source": [
        "\n",
        "def clean_res(df_res):\n",
        "    df_res['Race Location'] = df_res['Race Location'].str.replace(r'\\(.*?\\)', '', regex=True)\n",
        "\n",
        "    df_res = df_res[df_res['Date'] != 'Date']\n",
        "    df_res = df_res.drop_duplicates()\n",
        "    df_res = df_res.reset_index()\n",
        "    df_res = df_res.drop(\"index\", axis = 1)\n",
        "    df_res['race_id'] = df_res['Date']+ \"_\" + df_res['Time'] + \"_\" + df_res[\"Race Location\"]\n",
        "    df_res['horse_race_id'] = df_res['Date']+ \"_\" + df_res['Time'] + \"_\" + df_res[\"Race Location\"]+ \"_\" + df_res[\"Horse Name\"]\n",
        "    df_res = df_res[[\"race_id\", \"horse_race_id\", \"Position\"]]\n",
        "\n",
        "    def get_type(x):  #sometimes position is text ie NR for the horse being a Non_Runne, want to penalise this so give a high score\n",
        "        try:\n",
        "            return float(x)\n",
        "        except:\n",
        "            return 100\n",
        "\n",
        "\n",
        "    df_res['Position'] = df_res['Position'].apply(get_type) #apply the above function to Position values\n",
        "    df_res.reset_index(inplace = True)\n",
        "    df_res = df_res.drop([\"index\"], axis = 1)\n",
        "    df_res.horse_race_id = df_res.horse_race_id.astype(str)\n",
        "    df_res['race_id'] = df_res['race_id'].apply(lambda x: x.strip())\n",
        "    return df_res\n",
        "\n",
        "df_res_test = clean_res(df_res_test)"
      ]
    },
    {
      "cell_type": "code",
      "execution_count": null,
      "metadata": {
        "id": "h8sqsLlRq5QV"
      },
      "outputs": [],
      "source": [
        "grouped = df_res_test.groupby('race_id')\n",
        "\n",
        "results = pd.DataFrame(columns=['Race_id', 'Predictions'])\n",
        "\n",
        "\n",
        "\n",
        "for name, group in grouped:\n",
        "    h_pos = []\n",
        "\n",
        "    for i, j in enumerate(group['Position'].values):\n",
        "        h_name = group['horse_race_id'].iloc[i]\n",
        "        h_pos.append((h_name, j))\n",
        "\n",
        "    sorted_scores = sorted(h_pos, key = lambda x: x[1])  #although already in order, sort just to make sure\n",
        "\n",
        "    horse_ranks = [i[0] for i in sorted_scores]\n",
        "\n",
        "    df = pd.DataFrame({'Race_id': name, 'Predictions': [horse_ranks]})\n",
        "    results = pd.concat([results, df])\n",
        "\n",
        "results.head()\n",
        "\n"
      ]
    },
    {
      "cell_type": "markdown",
      "metadata": {
        "id": "6hBiseAS7QZz"
      },
      "source": [
        "##TF_IDF\n"
      ]
    },
    {
      "cell_type": "code",
      "execution_count": null,
      "metadata": {
        "id": "uGNRrN0y7Orv"
      },
      "outputs": [],
      "source": [
        "def add_tf_idf(df, n):\n",
        "    tfidf_vectorizer = TfidfVectorizer()\n",
        "\n",
        "    # Fit and transform the \"Prediction\" column\n",
        "    tfidf_separate = tfidf_vectorizer.fit_transform(df[\"Prediction\"])\n",
        "\n",
        "    # Get the vocabulary and its corresponding indices\n",
        "    vocab = tfidf_vectorizer.vocabulary_\n",
        "    vocab_indices = tfidf_vectorizer.get_feature_names_out()\n",
        "\n",
        "    # Sum the tf-idf values for each word for each document (i.e., summing the columns of the tfidf_separate matrix above)\n",
        "    combined_tfidf = tfidf_separate.toarray().sum(axis=0)\n",
        "\n",
        "    # Sort the combined_tfidf values in descending order and take the first n indices\n",
        "    indices_n_highest = combined_tfidf.argsort()[::-1][:n]\n",
        "\n",
        "    # Get the words corresponding to the highest tf-idf values\n",
        "    words_n_highest = [vocab_indices[i] for i in indices_n_highest]\n",
        "\n",
        "    #perform BOW using the highest tfidf words as our set of words\n",
        "    bow_counter = CountVectorizer()\n",
        "    bow_counter.fit(words_n_highest)\n",
        "    bow_applied = bow_counter.transform(df['Prediction'])\n",
        "\n",
        "    #add these new values to the dataframe\n",
        "    df = pd.concat([df.reset_index(drop=True), pd.DataFrame(bow_applied.toarray()).reset_index(drop=True)], axis=1)\n",
        "    return(df)\n",
        "\n",
        "#add this new data, can go higher than 100\n",
        "df_pred_test = add_tf_idf(df_pred_test, 100)\n",
        "\n",
        "#drop the prediction sentences\n",
        "df_pred_test = df_pred_test.drop('Prediction', axis = 1)\n"
      ]
    },
    {
      "cell_type": "markdown",
      "metadata": {
        "id": "pNwbKNkqFl91"
      },
      "source": [
        "###Pointwise"
      ]
    },
    {
      "cell_type": "code",
      "execution_count": null,
      "metadata": {
        "id": "zEYzMD6G6N33"
      },
      "outputs": [],
      "source": [
        "grouped = df_pred_test.groupby('race_id')\n",
        "\n",
        "pt_preds = pd.DataFrame(columns=['Race_id', 'Predictions'])\n",
        "\n",
        "for name, group in grouped:\n",
        "\n",
        "  data = group.drop(['horse_race_id', 'race_id'], axis =1)\n",
        "  torch_tensor = torch.tensor(data.values)\n",
        "  pred_scores = pointwise(torch_tensor.to(torch.float32))\n",
        "  indices = torch.argsort(pred_scores, dim = 0, descending = False)\n",
        "  horse_names = []\n",
        "  for i in indices:\n",
        "    h_name = group['horse_race_id'].iloc[i.item()]\n",
        "    horse_names.append(h_name)\n",
        "\n",
        "  df = pd.DataFrame({'Race_id': name, 'Predictions': [horse_names]})\n",
        "  pt_preds = pd.concat([pt_preds, df])\n",
        "\n",
        "pt_preds.head()"
      ]
    },
    {
      "cell_type": "code",
      "execution_count": null,
      "metadata": {
        "id": "zXkxWZkjsg_Y"
      },
      "outputs": [],
      "source": [
        "#merge\n",
        "pred_test_df = pd.merge(pt_preds, results, on='Race_id', how = 'inner')\n",
        "pred_test_df.rename(columns={'Predictions_x': 'Predictions', 'Predictions_y': 'Results'}, inplace=True)\n",
        "\n",
        "pred_test_df.to_csv(\"tf_idf_evaluation_pointwise.csv\")\n",
        "pred_test_df.head()"
      ]
    },
    {
      "cell_type": "markdown",
      "metadata": {
        "id": "UldbvL-cFpJR"
      },
      "source": [
        "###Pairwise"
      ]
    },
    {
      "cell_type": "code",
      "execution_count": null,
      "metadata": {
        "id": "Vg3hqlRQE-J9"
      },
      "outputs": [],
      "source": [
        "#prep data for pairwise\n",
        "\n",
        "# Initialize a defaultdict to store the results\n",
        "pr_test = defaultdict(list)\n",
        "\n",
        "# Get unique race IDs\n",
        "race_ids = df_pred_test['race_id'].unique()\n",
        "\n",
        "# Iterate over race IDs\n",
        "for race_id in race_ids:\n",
        "    # Get the rows for the current race ID\n",
        "    rows = df_pred_test[df_pred_test['race_id'] == race_id]\n",
        "\n",
        "    # Iterate over all combinations of horse IDs in the current race\n",
        "    for i, j in combinations(rows.index, 2):\n",
        "        # Store the common information\n",
        "        pr_test['Race_Id'].append(race_id)\n",
        "        pr_test['Horse_Id_x'].append(rows.loc[i, 'horse_race_id'])\n",
        "        pr_test['Horse_Id_y'].append(rows.loc[j, 'horse_race_id'])\n",
        "\n",
        "        # Calculate the differences between the values for each column\n",
        "        # Calculate the differences between the values for each column\n",
        "        for col_name in [col for col in rows.columns if col not in ['horse_race_id', 'race_id']]:\n",
        "            col_diff = float(rows.loc[i, col_name]) - float(rows.loc[j, col_name])\n",
        "            pr_test[col_name].append(col_diff)\n",
        "\n",
        "# Create a DataFrame from the dictionary\n",
        "pr_test = pd.DataFrame(pr_test)\n",
        "pr_test.head()"
      ]
    },
    {
      "cell_type": "code",
      "execution_count": null,
      "metadata": {
        "id": "nYQ073AMZTl9"
      },
      "outputs": [],
      "source": [
        "grouped = pr_test.groupby('Race_Id')\n",
        "\n",
        "pr_preds = pd.DataFrame(columns=['Race_id', 'Predictions'])\n",
        "\n",
        "for name, group in grouped:\n",
        "  df_horses = {}\n",
        "\n",
        "  for i in group['Horse_Id_x'].values:\n",
        "    if i not in df_horses:\n",
        "      df_horses[i] = 0\n",
        "\n",
        "  for i in group['Horse_Id_y'].values:\n",
        "    if i not in df_horses:\n",
        "      df_horses[i] = 0\n",
        "\n",
        "  data = group.drop(['Horse_Id_x', 'Horse_Id_y', 'Race_Id'], axis =1)\n",
        "  torch_tensor = torch.tensor(data.values)\n",
        "  pred_scores = pairwise(torch_tensor.to(torch.float32))\n",
        "\n",
        "  for i, j in enumerate(pred_scores):\n",
        "    h_1_name = group['Horse_Id_x'].iloc[i]\n",
        "    h_2_name = group['Horse_Id_y'].iloc[i]\n",
        "\n",
        "    df_horses[h_1_name] += j[0].item()\n",
        "    df_horses[h_2_name] += j[1].item()\n",
        "\n",
        "  horse_scores = []\n",
        "\n",
        "  for i in df_horses.keys():\n",
        "    horse_scores.append((i, df_horses[i]))\n",
        "\n",
        "  sorted_scores = sorted(horse_scores, key = lambda x: x[1], reverse = False)\n",
        "\n",
        "  horse_ranks = [i[0] for i in sorted_scores]\n",
        "\n",
        "  df = pd.DataFrame({'Race_id': name, 'Predictions': [horse_ranks]})\n",
        "  pr_preds = pd.concat([pr_preds, df])\n",
        "\n",
        "\n",
        "\n",
        "pr_preds.head()"
      ]
    },
    {
      "cell_type": "code",
      "execution_count": null,
      "metadata": {
        "id": "r_gue3o8xheK"
      },
      "outputs": [],
      "source": [
        "#merge\n",
        "pred_test_df = pd.merge(pr_preds, results, on='Race_id', how = 'inner')\n",
        "pred_test_df.rename(columns={'Predictions_x': 'Predictions', 'Predictions_y': 'Results'}, inplace=True)\n",
        "\n",
        "pred_test_df.to_csv(\"tf_idf_evaluation_pairwise.csv\")\n",
        "pred_test_df.head()"
      ]
    },
    {
      "cell_type": "markdown",
      "metadata": {
        "id": "jB_QWhnu1wSw"
      },
      "source": [
        "##BERT"
      ]
    },
    {
      "cell_type": "code",
      "execution_count": null,
      "metadata": {
        "id": "T-GEBI9TNLUL"
      },
      "outputs": [],
      "source": [
        "df_pred_test = pd.read_csv(\"preds_test.csv\")\n",
        "#for tf_idf: prepare the data\n",
        "\n",
        "# clean the data\n",
        "\n",
        "def clean_preds(df_preds):\n",
        "\n",
        "      df_preds['Race Location'] = df_preds['Race Location'].str.replace(r'\\(.*?\\)', '', regex=True)\n",
        "\n",
        "      df_preds = df_preds[df_preds['Date'] != 'Date']  #deleting rows with the column titles\n",
        "      df_preds = df_preds.reset_index()\n",
        "      df_preds = df_preds.drop(\"index\", axis = 1)  #dropping index columns\n",
        "      df_preds = df_preds.replace('[\\'NaN\\']', np.nan)\n",
        "\n",
        "      #just want horse-race id and the predictions\n",
        "      df_preds['race_id'] = df_preds['Date']+ \"_\" + df_preds['Time'] + \"_\" + df_preds[\"Race Location\"] #create race id\n",
        "      df_preds['horse_race_id'] = df_preds['Date']+ \"_\" + df_preds['Time'] + \"_\" + df_preds[\"Race Location\"]+ \"_\" + df_preds[\"Horse Name\"] #create horse id\n",
        "      df_preds = df_preds.drop([\"Date\", \"Time\", \"Race Location\", \"Going\", \"Horse Name\"], axis = 1) #drop all data now stored in horse id\n",
        "      df_preds = df_preds.drop_duplicates()\n",
        "      df_preds.Prediction = df_preds.Prediction.astype(str)\n",
        "      df_preds.horse_race_id = df_preds.horse_race_id.astype(str)\n",
        "      df_preds = df_preds.replace('-', np.nan)\n",
        "\n",
        "      for i in df_preds.columns[df_preds.isnull().any(axis=0)]:     # replace nan with the mean of a column\n",
        "          df_preds[i].fillna(pd.to_numeric(df_preds[i]).mean(),inplace=True)\n",
        "\n",
        "\n",
        "      cols_to_norm = ['Horse Age', 'Horse Top Speed', 'Horse RPRS Ranking', 'Horse ORS Ranking', 'Horse Weight', 'Jockey Last 14', 'Trainer Last 14']\n",
        "\n",
        "      normalized_df_preds = df_preds[cols_to_norm].astype(float)  #standardize the data\n",
        "      normalized_df_preds = (normalized_df_preds-normalized_df_preds.mean())/normalized_df_preds.std()\n",
        "\n",
        "\n",
        "      df_preds[cols_to_norm] = normalized_df_preds\n",
        "      df_preds['Prediction'] = df_preds['Prediction'].apply(lambda x: x.lower())  #make all lowercase\n",
        "      df_preds[\"Prediction\"] = df_preds['Prediction'].str.replace('[^\\w\\s]','')\n",
        "      df_preds['race_id'] = df_preds['race_id'].apply(lambda x: x.strip())\n",
        "      return df_preds\n",
        "\n",
        "df_pred_test = clean_preds(df_pred_test)\n",
        "df_pred_test.head()"
      ]
    },
    {
      "cell_type": "markdown",
      "metadata": {
        "id": "Gy1Xe9ds13hB"
      },
      "source": [
        "###Pointwise"
      ]
    },
    {
      "cell_type": "markdown",
      "metadata": {
        "id": "j0UyuFfYsqMt"
      },
      "source": [
        "####Fine Tuned"
      ]
    },
    {
      "cell_type": "code",
      "execution_count": null,
      "metadata": {
        "id": "eyQyq-EJ15bk"
      },
      "outputs": [],
      "source": [
        "grouped = df_pred_test.groupby('race_id')\n",
        "\n",
        "bert_pt_preds = pd.DataFrame(columns=['Race_id', 'Predictions'])\n",
        "\n",
        "for name, group in grouped:\n",
        "\n",
        "  num_features = torch.tensor(group.drop(['Prediction', 'race_id', 'horse_race_id'], axis=1).values, dtype=torch.float32).to(device)\n",
        "\n",
        "  word_count = group['Prediction'].apply(lambda x: len(x.split()))\n",
        "  max_word_count = word_count.max()\n",
        "\n",
        "  ids_per_horse = []\n",
        "  att_per_horse = []\n",
        "\n",
        "  for j in group['Prediction']:\n",
        "    pred = j\n",
        "    tokens = tokenizer.tokenize(pred)\n",
        "    tokens = ['[CLS]'] + tokens + ['[SEP]']\n",
        "\n",
        "    if len(tokens) < max_word_count:\n",
        "        tokens = tokens + ['[PAD]' for _ in range(max_word_count - len(tokens))]\n",
        "    else:\n",
        "        tokens = tokens[:max_word_count-1] + ['[SEP]']\n",
        "    #Obtain the indices of the tokens in the BERT Vocabulary\n",
        "    input_ids = tokenizer.convert_tokens_to_ids(tokens)\n",
        "    input_ids = torch.tensor(input_ids)\n",
        "    #Obtain the attention mask i.e a tensor containing 1s for no padded tokens and 0s for padded ones\n",
        "    attention_mask = (input_ids != 0).long()\n",
        "\n",
        "    ids_per_horse.append(input_ids)\n",
        "    att_per_horse.append(attention_mask)\n",
        "\n",
        "\n",
        "  tensor_ids = torch.stack(ids_per_horse).to(device)\n",
        "  tensor_atts = torch.stack(att_per_horse).to(device)\n",
        "\n",
        "  pred_scores = bert_pointwise(num_features, tensor_ids, tensor_atts)\n",
        "\n",
        "  indices = torch.argsort(pred_scores, dim = 0, descending = True)\n",
        "  horse_names = []\n",
        "  for i in indices:\n",
        "    h_name = group['horse_race_id'].iloc[i.item()]\n",
        "    horse_names.append(h_name)\n",
        "\n",
        "  df = pd.DataFrame({'Race_id': name, 'Predictions': [horse_names]})\n",
        "  bert_pt_preds = pd.concat([bert_pt_preds, df])\n",
        "\n",
        "bert_pt_preds.head()"
      ]
    },
    {
      "cell_type": "code",
      "execution_count": null,
      "metadata": {
        "id": "LtiFDneW2JWU"
      },
      "outputs": [],
      "source": [
        "#merge\n",
        "pred_test_df = pd.merge(bert_pt_preds, results, on='Race_id', how = 'inner')\n",
        "pred_test_df.rename(columns={'Predictions_x': 'Predictions', 'Predictions_y': 'Results'}, inplace=True)\n",
        "\n",
        "pred_test_df.to_csv(\"bert_fine_tune_evaluation_pointwise.csv\")\n",
        "pred_test_df.head()"
      ]
    },
    {
      "cell_type": "markdown",
      "metadata": {
        "id": "hG5Q32lbszr4"
      },
      "source": [
        "####Frozen"
      ]
    },
    {
      "cell_type": "code",
      "execution_count": null,
      "metadata": {
        "id": "8eVVaXIKs3IN"
      },
      "outputs": [],
      "source": [
        "grouped = df_pred_test.groupby('race_id')\n",
        "\n",
        "bert_pt_preds = pd.DataFrame(columns=['Race_id', 'Predictions'])\n",
        "\n",
        "for name, group in grouped:\n",
        "\n",
        "  num_features = torch.tensor(group.drop(['Prediction', 'race_id', 'horse_race_id'], axis=1).values, dtype=torch.float32).to(device)\n",
        "\n",
        "  word_count = group['Prediction'].apply(lambda x: len(x.split()))\n",
        "  max_word_count = word_count.max()\n",
        "\n",
        "  ids_per_horse = []\n",
        "  att_per_horse = []\n",
        "\n",
        "  for j in group['Prediction']:\n",
        "    pred = j\n",
        "    tokens = tokenizer.tokenize(pred)\n",
        "    tokens = ['[CLS]'] + tokens + ['[SEP]']\n",
        "\n",
        "    if len(tokens) < max_word_count:\n",
        "        tokens = tokens + ['[PAD]' for _ in range(max_word_count - len(tokens))]\n",
        "    else:\n",
        "        tokens = tokens[:max_word_count-1] + ['[SEP]']\n",
        "    #Obtain the indices of the tokens in the BERT Vocabulary\n",
        "    input_ids = tokenizer.convert_tokens_to_ids(tokens)\n",
        "    input_ids = torch.tensor(input_ids)\n",
        "    #Obtain the attention mask i.e a tensor containing 1s for no padded tokens and 0s for padded ones\n",
        "    attention_mask = (input_ids != 0).long()\n",
        "\n",
        "    ids_per_horse.append(input_ids)\n",
        "    att_per_horse.append(attention_mask)\n",
        "\n",
        "\n",
        "  tensor_ids = torch.stack(ids_per_horse).to(device)\n",
        "  tensor_atts = torch.stack(att_per_horse).to(device)\n",
        "\n",
        "  pred_scores = bert_frozen_pointwise(num_features, tensor_ids, tensor_atts)\n",
        "\n",
        "  indices = torch.argsort(pred_scores, dim = 0, descending = True)\n",
        "  horse_names = []\n",
        "  for i in indices:\n",
        "    h_name = group['horse_race_id'].iloc[i.item()]\n",
        "    horse_names.append(h_name)\n",
        "\n",
        "  df = pd.DataFrame({'Race_id': name, 'Predictions': [horse_names]})\n",
        "  bert_pt_preds = pd.concat([bert_pt_preds, df])\n",
        "\n",
        "bert_pt_preds.head()"
      ]
    },
    {
      "cell_type": "code",
      "execution_count": null,
      "metadata": {
        "id": "uiwd6tV0s6_q"
      },
      "outputs": [],
      "source": [
        "pred_test_df = pd.merge(bert_pt_preds, results, on='Race_id', how = 'inner')\n",
        "pred_test_df.rename(columns={'Predictions_x': 'Predictions', 'Predictions_y': 'Results'}, inplace=True)\n",
        "\n",
        "pred_test_df.to_csv(\"bert_frozen_evaluation_pointwise.csv\")\n",
        "pred_test_df.head()"
      ]
    },
    {
      "cell_type": "markdown",
      "metadata": {
        "id": "NZILRIWrTk_b"
      },
      "source": [
        "###Pairwise"
      ]
    },
    {
      "cell_type": "code",
      "execution_count": null,
      "metadata": {
        "id": "LGSLs6K-T4SU"
      },
      "outputs": [],
      "source": [
        "df = df_pred_test\n",
        "\n",
        "# Initialize a defaultdict to store the results\n",
        "results_dict = defaultdict(list)\n",
        "\n",
        "# Get unique race IDs\n",
        "race_ids = df['race_id'].unique()\n",
        "\n",
        "# Iterate over race IDs\n",
        "for race_id in race_ids:\n",
        "    # Get the rows for the current race ID\n",
        "    rows = df[df['race_id'] == race_id]\n",
        "\n",
        "    # Iterate over all combinations of horse IDs in the current race\n",
        "    for i, j in combinations(rows.index, 2):\n",
        "        # Store the common information\n",
        "        results_dict['Race_Id'].append(race_id)\n",
        "        results_dict['Prediction_x'].append(rows.loc[i, 'Prediction'])\n",
        "        results_dict['Prediction_y'].append(rows.loc[j, 'Prediction'])\n",
        "        results_dict['Horse_race_id_x'].append(rows.loc[i, 'horse_race_id'])\n",
        "        results_dict['Horse_race_id_y'].append(rows.loc[j, 'horse_race_id'])\n",
        "\n",
        "        # Calculate the differences between the values for each column\n",
        "        # Calculate the differences between the values for each column\n",
        "        for col_name in [col for col in rows.columns if col not in ['horse_race_id', 'race_id', 'Prediction']]:\n",
        "            col_diff = rows.loc[i, col_name] - rows.loc[j, col_name]\n",
        "            results_dict[col_name].append(col_diff)\n",
        "\n",
        "# Create a DataFrame from the dictionary\n",
        "preds_df = pd.DataFrame(results_dict)\n",
        "\n",
        "preds_df.head()"
      ]
    },
    {
      "cell_type": "markdown",
      "metadata": {
        "id": "OjMMO8PVb-_V"
      },
      "source": [
        "####Fine-Tuned"
      ]
    },
    {
      "cell_type": "code",
      "execution_count": null,
      "metadata": {
        "id": "5EPgDU2sTsv8"
      },
      "outputs": [],
      "source": [
        "grouped = preds_df.groupby('Race_Id')\n",
        "\n",
        "bert_pr_preds = pd.DataFrame(columns=['Race_id', 'Predictions'])\n",
        "\n",
        "for name, group in grouped:\n",
        "\n",
        "  df_horses = {}\n",
        "\n",
        "  for i in group['Horse_race_id_x'].values:\n",
        "    if i not in df_horses:\n",
        "      df_horses[i] = 0\n",
        "\n",
        "  for i in group['Horse_race_id_y'].values:\n",
        "    if i not in df_horses:\n",
        "      df_horses[i] = 0\n",
        "\n",
        "  num_features = torch.tensor(group.drop(['Prediction_x', 'Prediction_y', 'Race_Id', 'Horse_race_id_x', 'Horse_race_id_y'], axis=1).values, dtype=torch.float32).to(device)\n",
        "\n",
        "  word_count_x = group['Prediction_x'].apply(lambda x: len(x.split()))\n",
        "  word_count_y = group['Prediction_y'].apply(lambda x: len(x.split()))\n",
        "\n",
        "  max_word_count = max(word_count_x.max(), word_count_y.max())\n",
        "\n",
        "  ids_per_pair = []\n",
        "  att_per_pair = []\n",
        "\n",
        "  for index, row in group.iterrows():\n",
        "    pred_x = row['Prediction_x']\n",
        "    tokens_x = tokenizer.tokenize(pred_x)\n",
        "\n",
        "    pred_y = row['Prediction_y']\n",
        "    tokens_y = tokenizer.tokenize(pred_y)\n",
        "\n",
        "    tokens = ['[CLS]'] + tokens_x + ['[SEP]'] + tokens_y + ['[SEP]']\n",
        "\n",
        "    if len(tokens) < max_word_count:\n",
        "        tokens = tokens + ['[PAD]' for _ in range(max_word_count - len(tokens))]\n",
        "    else:\n",
        "        tokens = tokens[:max_word_count-1] + ['[SEP]']\n",
        "    #Obtain the indices of the tokens in the BERT Vocabulary\n",
        "    input_ids = tokenizer.convert_tokens_to_ids(tokens)\n",
        "    input_ids = torch.tensor(input_ids)\n",
        "    #Obtain the attention mask i.e a tensor containing 1s for no padded tokens and 0s for padded ones\n",
        "    attention_mask = (input_ids != 0).long()\n",
        "\n",
        "    ids_per_pair.append(input_ids)\n",
        "    att_per_pair.append(attention_mask)\n",
        "\n",
        "\n",
        "  tensor_ids = torch.stack(ids_per_pair).to(device)\n",
        "  tensor_atts = torch.stack(att_per_pair).to(device)\n",
        "\n",
        "  pred_scores = bert_pairwise(num_features, tensor_ids, tensor_atts)\n",
        "\n",
        "  for i, j in enumerate(pred_scores):\n",
        "      h_1_name = group['Horse_race_id_x'].iloc[i]\n",
        "      h_2_name = group['Horse_race_id_y'].iloc[i]\n",
        "\n",
        "      df_horses[h_1_name] += j[0].item()\n",
        "      df_horses[h_2_name] += j[1].item()\n",
        "\n",
        "  horse_scores = []\n",
        "\n",
        "  for i in df_horses.keys():\n",
        "      horse_scores.append((i, df_horses[i]))\n",
        "\n",
        "  sorted_scores = sorted(horse_scores, key = lambda x: x[1], reverse = False)\n",
        "\n",
        "  horse_ranks = [i[0] for i in sorted_scores]\n",
        "\n",
        "  df = pd.DataFrame({'Race_id': name, 'Predictions': [horse_ranks]})\n",
        "  bert_pr_preds = pd.concat([bert_pr_preds, df])\n",
        "\n",
        "\n",
        "bert_pr_preds.head()"
      ]
    },
    {
      "cell_type": "code",
      "execution_count": null,
      "metadata": {
        "id": "Bs7c7YlibdtA"
      },
      "outputs": [],
      "source": [
        "#merge\n",
        "\n",
        "pred_test_df = pd.merge(bert_pr_preds, results, on='Race_id', how = 'inner')\n",
        "pred_test_df.rename(columns={'Predictions_x': 'Predictions', 'Predictions_y': 'Results'}, inplace=True)\n",
        "\n",
        "pred_test_df.to_csv(\"bert_fine_tuned_evaluation_pairwise.csv\")\n",
        "pred_test_df.head()"
      ]
    },
    {
      "cell_type": "markdown",
      "metadata": {
        "id": "dlcvcut5cLbQ"
      },
      "source": [
        "####Frozen"
      ]
    },
    {
      "cell_type": "code",
      "execution_count": null,
      "metadata": {
        "id": "RFwZz8JzcSY1"
      },
      "outputs": [],
      "source": [
        "grouped = preds_df.groupby('Race_Id')\n",
        "\n",
        "bert_fr_pr_preds = pd.DataFrame(columns=['Race_id', 'Predictions'])\n",
        "\n",
        "for name, group in grouped:\n",
        "\n",
        "  df_horses = {}\n",
        "\n",
        "  for i in group['Horse_race_id_x'].values:\n",
        "    if i not in df_horses:\n",
        "      df_horses[i] = 0\n",
        "\n",
        "  for i in group['Horse_race_id_y'].values:\n",
        "    if i not in df_horses:\n",
        "      df_horses[i] = 0\n",
        "\n",
        "  num_features = torch.tensor(group.drop(['Prediction_x', 'Prediction_y', 'Race_Id', 'Horse_race_id_x', 'Horse_race_id_y'], axis=1).values, dtype=torch.float32).to(device)\n",
        "\n",
        "  word_count_x = group['Prediction_x'].apply(lambda x: len(x.split()))\n",
        "  word_count_y = group['Prediction_y'].apply(lambda x: len(x.split()))\n",
        "\n",
        "  max_word_count = max(word_count_x.max(), word_count_y.max())\n",
        "\n",
        "  ids_per_pair = []\n",
        "  att_per_pair = []\n",
        "\n",
        "  for index, row in group.iterrows():\n",
        "    pred_x = row['Prediction_x']\n",
        "    tokens_x = tokenizer.tokenize(pred_x)\n",
        "\n",
        "    pred_y = row['Prediction_y']\n",
        "    tokens_y = tokenizer.tokenize(pred_y)\n",
        "\n",
        "    tokens = ['[CLS]'] + tokens_x + ['[SEP]'] + tokens_y + ['[SEP]']\n",
        "\n",
        "    if len(tokens) < max_word_count:\n",
        "        tokens = tokens + ['[PAD]' for _ in range(max_word_count - len(tokens))]\n",
        "    else:\n",
        "        tokens = tokens[:max_word_count-1] + ['[SEP]']\n",
        "    #Obtain the indices of the tokens in the BERT Vocabulary\n",
        "    input_ids = tokenizer.convert_tokens_to_ids(tokens)\n",
        "    input_ids = torch.tensor(input_ids)\n",
        "    #Obtain the attention mask i.e a tensor containing 1s for no padded tokens and 0s for padded ones\n",
        "    attention_mask = (input_ids != 0).long()\n",
        "\n",
        "    ids_per_pair.append(input_ids)\n",
        "    att_per_pair.append(attention_mask)\n",
        "\n",
        "\n",
        "  tensor_ids = torch.stack(ids_per_pair).to(device)\n",
        "  tensor_atts = torch.stack(att_per_pair).to(device)\n",
        "\n",
        "  pred_scores = bert_pairwise_frozen(num_features, tensor_ids, tensor_atts)\n",
        "\n",
        "  for i, j in enumerate(pred_scores):\n",
        "      h_1_name = group['Horse_race_id_x'].iloc[i]\n",
        "      h_2_name = group['Horse_race_id_y'].iloc[i]\n",
        "\n",
        "      df_horses[h_1_name] += j[0].item()\n",
        "      df_horses[h_2_name] += j[1].item()\n",
        "\n",
        "  horse_scores = []\n",
        "\n",
        "  for i in df_horses.keys():\n",
        "      horse_scores.append((i, df_horses[i]))\n",
        "\n",
        "  sorted_scores = sorted(horse_scores, key = lambda x: x[1], reverse = False)\n",
        "\n",
        "  horse_ranks = [i[0] for i in sorted_scores]\n",
        "\n",
        "  df = pd.DataFrame({'Race_id': name, 'Predictions': [horse_ranks]})\n",
        "  bert_fr_pr_preds = pd.concat([bert_fr_pr_preds, df])\n",
        "\n",
        "\n",
        "bert_fr_pr_preds.head()"
      ]
    },
    {
      "cell_type": "code",
      "execution_count": null,
      "metadata": {
        "id": "vwCpL0Wxn6t1"
      },
      "outputs": [],
      "source": [
        "#merge\n",
        "\n",
        "pred_test_df = pd.merge(bert_fr_pr_preds, results, on='Race_id', how = 'inner')\n",
        "pred_test_df.rename(columns={'Predictions_x': 'Predictions', 'Predictions_y': 'Results'}, inplace=True)\n",
        "\n",
        "pred_test_df.to_csv(\"bert_frozen_evaluation_pairwise.csv\")\n",
        "pred_test_df.head()"
      ]
    }
  ],
  "metadata": {
    "accelerator": "GPU",
    "colab": {
      "provenance": [],
      "toc_visible": true,
      "authorship_tag": "ABX9TyNL1IFVEYV5XfDQXpm/5H28",
      "include_colab_link": true
    },
    "gpuClass": "standard",
    "kernelspec": {
      "display_name": "Python 3",
      "name": "python3"
    },
    "language_info": {
      "name": "python"
    },
    "widgets": {
      "application/vnd.jupyter.widget-state+json": {
        "040465d1960d4eaeaa65572cf8ed1231": {
          "model_module": "@jupyter-widgets/controls",
          "model_module_version": "1.5.0",
          "model_name": "DescriptionStyleModel",
          "state": {
            "_model_module": "@jupyter-widgets/controls",
            "_model_module_version": "1.5.0",
            "_model_name": "DescriptionStyleModel",
            "_view_count": null,
            "_view_module": "@jupyter-widgets/base",
            "_view_module_version": "1.2.0",
            "_view_name": "StyleView",
            "description_width": ""
          }
        },
        "24b65a8d936644c29ae627e7ac965239": {
          "model_module": "@jupyter-widgets/controls",
          "model_module_version": "1.5.0",
          "model_name": "DescriptionStyleModel",
          "state": {
            "_model_module": "@jupyter-widgets/controls",
            "_model_module_version": "1.5.0",
            "_model_name": "DescriptionStyleModel",
            "_view_count": null,
            "_view_module": "@jupyter-widgets/base",
            "_view_module_version": "1.2.0",
            "_view_name": "StyleView",
            "description_width": ""
          }
        },
        "343ffc14dd344a719004edfdf8d188e5": {
          "model_module": "@jupyter-widgets/base",
          "model_module_version": "1.2.0",
          "model_name": "LayoutModel",
          "state": {
            "_model_module": "@jupyter-widgets/base",
            "_model_module_version": "1.2.0",
            "_model_name": "LayoutModel",
            "_view_count": null,
            "_view_module": "@jupyter-widgets/base",
            "_view_module_version": "1.2.0",
            "_view_name": "LayoutView",
            "align_content": null,
            "align_items": null,
            "align_self": null,
            "border": null,
            "bottom": null,
            "display": null,
            "flex": null,
            "flex_flow": null,
            "grid_area": null,
            "grid_auto_columns": null,
            "grid_auto_flow": null,
            "grid_auto_rows": null,
            "grid_column": null,
            "grid_gap": null,
            "grid_row": null,
            "grid_template_areas": null,
            "grid_template_columns": null,
            "grid_template_rows": null,
            "height": null,
            "justify_content": null,
            "justify_items": null,
            "left": null,
            "margin": null,
            "max_height": null,
            "max_width": null,
            "min_height": null,
            "min_width": null,
            "object_fit": null,
            "object_position": null,
            "order": null,
            "overflow": null,
            "overflow_x": null,
            "overflow_y": null,
            "padding": null,
            "right": null,
            "top": null,
            "visibility": null,
            "width": null
          }
        },
        "350bd6d53f5a4c3e927a86a6d44468da": {
          "model_module": "@jupyter-widgets/controls",
          "model_module_version": "1.5.0",
          "model_name": "DescriptionStyleModel",
          "state": {
            "_model_module": "@jupyter-widgets/controls",
            "_model_module_version": "1.5.0",
            "_model_name": "DescriptionStyleModel",
            "_view_count": null,
            "_view_module": "@jupyter-widgets/base",
            "_view_module_version": "1.2.0",
            "_view_name": "StyleView",
            "description_width": ""
          }
        },
        "3bf03c4c2ce14a559bb616135b8ed5ce": {
          "model_module": "@jupyter-widgets/base",
          "model_module_version": "1.2.0",
          "model_name": "LayoutModel",
          "state": {
            "_model_module": "@jupyter-widgets/base",
            "_model_module_version": "1.2.0",
            "_model_name": "LayoutModel",
            "_view_count": null,
            "_view_module": "@jupyter-widgets/base",
            "_view_module_version": "1.2.0",
            "_view_name": "LayoutView",
            "align_content": null,
            "align_items": null,
            "align_self": null,
            "border": null,
            "bottom": null,
            "display": null,
            "flex": null,
            "flex_flow": null,
            "grid_area": null,
            "grid_auto_columns": null,
            "grid_auto_flow": null,
            "grid_auto_rows": null,
            "grid_column": null,
            "grid_gap": null,
            "grid_row": null,
            "grid_template_areas": null,
            "grid_template_columns": null,
            "grid_template_rows": null,
            "height": null,
            "justify_content": null,
            "justify_items": null,
            "left": null,
            "margin": null,
            "max_height": null,
            "max_width": null,
            "min_height": null,
            "min_width": null,
            "object_fit": null,
            "object_position": null,
            "order": null,
            "overflow": null,
            "overflow_x": null,
            "overflow_y": null,
            "padding": null,
            "right": null,
            "top": null,
            "visibility": null,
            "width": null
          }
        },
        "599deb0796354bb1a74b08121a47a979": {
          "model_module": "@jupyter-widgets/base",
          "model_module_version": "1.2.0",
          "model_name": "LayoutModel",
          "state": {
            "_model_module": "@jupyter-widgets/base",
            "_model_module_version": "1.2.0",
            "_model_name": "LayoutModel",
            "_view_count": null,
            "_view_module": "@jupyter-widgets/base",
            "_view_module_version": "1.2.0",
            "_view_name": "LayoutView",
            "align_content": null,
            "align_items": null,
            "align_self": null,
            "border": null,
            "bottom": null,
            "display": null,
            "flex": null,
            "flex_flow": null,
            "grid_area": null,
            "grid_auto_columns": null,
            "grid_auto_flow": null,
            "grid_auto_rows": null,
            "grid_column": null,
            "grid_gap": null,
            "grid_row": null,
            "grid_template_areas": null,
            "grid_template_columns": null,
            "grid_template_rows": null,
            "height": null,
            "justify_content": null,
            "justify_items": null,
            "left": null,
            "margin": null,
            "max_height": null,
            "max_width": null,
            "min_height": null,
            "min_width": null,
            "object_fit": null,
            "object_position": null,
            "order": null,
            "overflow": null,
            "overflow_x": null,
            "overflow_y": null,
            "padding": null,
            "right": null,
            "top": null,
            "visibility": null,
            "width": null
          }
        },
        "6087aea434d44d618189b195f1e008c2": {
          "model_module": "@jupyter-widgets/controls",
          "model_module_version": "1.5.0",
          "model_name": "ProgressStyleModel",
          "state": {
            "_model_module": "@jupyter-widgets/controls",
            "_model_module_version": "1.5.0",
            "_model_name": "ProgressStyleModel",
            "_view_count": null,
            "_view_module": "@jupyter-widgets/base",
            "_view_module_version": "1.2.0",
            "_view_name": "StyleView",
            "bar_color": null,
            "description_width": ""
          }
        },
        "650d6e9f03fe4cd7b60c2a048e54afc3": {
          "model_module": "@jupyter-widgets/base",
          "model_module_version": "1.2.0",
          "model_name": "LayoutModel",
          "state": {
            "_model_module": "@jupyter-widgets/base",
            "_model_module_version": "1.2.0",
            "_model_name": "LayoutModel",
            "_view_count": null,
            "_view_module": "@jupyter-widgets/base",
            "_view_module_version": "1.2.0",
            "_view_name": "LayoutView",
            "align_content": null,
            "align_items": null,
            "align_self": null,
            "border": null,
            "bottom": null,
            "display": null,
            "flex": null,
            "flex_flow": null,
            "grid_area": null,
            "grid_auto_columns": null,
            "grid_auto_flow": null,
            "grid_auto_rows": null,
            "grid_column": null,
            "grid_gap": null,
            "grid_row": null,
            "grid_template_areas": null,
            "grid_template_columns": null,
            "grid_template_rows": null,
            "height": null,
            "justify_content": null,
            "justify_items": null,
            "left": null,
            "margin": null,
            "max_height": null,
            "max_width": null,
            "min_height": null,
            "min_width": null,
            "object_fit": null,
            "object_position": null,
            "order": null,
            "overflow": null,
            "overflow_x": null,
            "overflow_y": null,
            "padding": null,
            "right": null,
            "top": null,
            "visibility": null,
            "width": null
          }
        },
        "655b45dcb197445bb97d4ffe0f2083c4": {
          "model_module": "@jupyter-widgets/base",
          "model_module_version": "1.2.0",
          "model_name": "LayoutModel",
          "state": {
            "_model_module": "@jupyter-widgets/base",
            "_model_module_version": "1.2.0",
            "_model_name": "LayoutModel",
            "_view_count": null,
            "_view_module": "@jupyter-widgets/base",
            "_view_module_version": "1.2.0",
            "_view_name": "LayoutView",
            "align_content": null,
            "align_items": null,
            "align_self": null,
            "border": null,
            "bottom": null,
            "display": null,
            "flex": null,
            "flex_flow": null,
            "grid_area": null,
            "grid_auto_columns": null,
            "grid_auto_flow": null,
            "grid_auto_rows": null,
            "grid_column": null,
            "grid_gap": null,
            "grid_row": null,
            "grid_template_areas": null,
            "grid_template_columns": null,
            "grid_template_rows": null,
            "height": null,
            "justify_content": null,
            "justify_items": null,
            "left": null,
            "margin": null,
            "max_height": null,
            "max_width": null,
            "min_height": null,
            "min_width": null,
            "object_fit": null,
            "object_position": null,
            "order": null,
            "overflow": null,
            "overflow_x": null,
            "overflow_y": null,
            "padding": null,
            "right": null,
            "top": null,
            "visibility": null,
            "width": null
          }
        },
        "712a26bcf40c42a6b47b601eaf3fc42c": {
          "model_module": "@jupyter-widgets/controls",
          "model_module_version": "1.5.0",
          "model_name": "HBoxModel",
          "state": {
            "_dom_classes": [],
            "_model_module": "@jupyter-widgets/controls",
            "_model_module_version": "1.5.0",
            "_model_name": "HBoxModel",
            "_view_count": null,
            "_view_module": "@jupyter-widgets/controls",
            "_view_module_version": "1.5.0",
            "_view_name": "HBoxView",
            "box_style": "",
            "children": [
              "IPY_MODEL_a128d5a8f5814f78ac87a7241e4ab3ea",
              "IPY_MODEL_cd8b705879ee4fa59f14b9a4ed2b65f6",
              "IPY_MODEL_9779a4bad5c94555aa082ccf58630b51"
            ],
            "layout": "IPY_MODEL_fcc88a1faba3465ea1af188e00b10fc9"
          }
        },
        "77f0353476e64556ac345dc304e0b75b": {
          "model_module": "@jupyter-widgets/controls",
          "model_module_version": "1.5.0",
          "model_name": "ProgressStyleModel",
          "state": {
            "_model_module": "@jupyter-widgets/controls",
            "_model_module_version": "1.5.0",
            "_model_name": "ProgressStyleModel",
            "_view_count": null,
            "_view_module": "@jupyter-widgets/base",
            "_view_module_version": "1.2.0",
            "_view_name": "StyleView",
            "bar_color": null,
            "description_width": ""
          }
        },
        "79e4e6cf4fa94d0496d3b7dfaff2f6b7": {
          "model_module": "@jupyter-widgets/controls",
          "model_module_version": "1.5.0",
          "model_name": "HTMLModel",
          "state": {
            "_dom_classes": [],
            "_model_module": "@jupyter-widgets/controls",
            "_model_module_version": "1.5.0",
            "_model_name": "HTMLModel",
            "_view_count": null,
            "_view_module": "@jupyter-widgets/controls",
            "_view_module_version": "1.5.0",
            "_view_name": "HTMLView",
            "description": "",
            "description_tooltip": null,
            "layout": "IPY_MODEL_d5df6829d5f0430eadc5155cf3c9bc58",
            "placeholder": "​",
            "style": "IPY_MODEL_24b65a8d936644c29ae627e7ac965239",
            "value": " 466k/466k [00:00&lt;00:00, 7.34MB/s]"
          }
        },
        "7e9c5cb660ee492cbf209f7eae334675": {
          "model_module": "@jupyter-widgets/base",
          "model_module_version": "1.2.0",
          "model_name": "LayoutModel",
          "state": {
            "_model_module": "@jupyter-widgets/base",
            "_model_module_version": "1.2.0",
            "_model_name": "LayoutModel",
            "_view_count": null,
            "_view_module": "@jupyter-widgets/base",
            "_view_module_version": "1.2.0",
            "_view_name": "LayoutView",
            "align_content": null,
            "align_items": null,
            "align_self": null,
            "border": null,
            "bottom": null,
            "display": null,
            "flex": null,
            "flex_flow": null,
            "grid_area": null,
            "grid_auto_columns": null,
            "grid_auto_flow": null,
            "grid_auto_rows": null,
            "grid_column": null,
            "grid_gap": null,
            "grid_row": null,
            "grid_template_areas": null,
            "grid_template_columns": null,
            "grid_template_rows": null,
            "height": null,
            "justify_content": null,
            "justify_items": null,
            "left": null,
            "margin": null,
            "max_height": null,
            "max_width": null,
            "min_height": null,
            "min_width": null,
            "object_fit": null,
            "object_position": null,
            "order": null,
            "overflow": null,
            "overflow_x": null,
            "overflow_y": null,
            "padding": null,
            "right": null,
            "top": null,
            "visibility": null,
            "width": null
          }
        },
        "889e396192294c35870061c96b4134f7": {
          "model_module": "@jupyter-widgets/controls",
          "model_module_version": "1.5.0",
          "model_name": "HTMLModel",
          "state": {
            "_dom_classes": [],
            "_model_module": "@jupyter-widgets/controls",
            "_model_module_version": "1.5.0",
            "_model_name": "HTMLModel",
            "_view_count": null,
            "_view_module": "@jupyter-widgets/controls",
            "_view_module_version": "1.5.0",
            "_view_name": "HTMLView",
            "description": "",
            "description_tooltip": null,
            "layout": "IPY_MODEL_f34dd67521b543b99b1937bdfbc2f73b",
            "placeholder": "​",
            "style": "IPY_MODEL_e56697a20d8b44558b5183988d62fd84",
            "value": "Downloading (…)solve/main/vocab.txt: 100%"
          }
        },
        "933d9d614e0c4e76a4c8073c5a0b0c03": {
          "model_module": "@jupyter-widgets/base",
          "model_module_version": "1.2.0",
          "model_name": "LayoutModel",
          "state": {
            "_model_module": "@jupyter-widgets/base",
            "_model_module_version": "1.2.0",
            "_model_name": "LayoutModel",
            "_view_count": null,
            "_view_module": "@jupyter-widgets/base",
            "_view_module_version": "1.2.0",
            "_view_name": "LayoutView",
            "align_content": null,
            "align_items": null,
            "align_self": null,
            "border": null,
            "bottom": null,
            "display": null,
            "flex": null,
            "flex_flow": null,
            "grid_area": null,
            "grid_auto_columns": null,
            "grid_auto_flow": null,
            "grid_auto_rows": null,
            "grid_column": null,
            "grid_gap": null,
            "grid_row": null,
            "grid_template_areas": null,
            "grid_template_columns": null,
            "grid_template_rows": null,
            "height": null,
            "justify_content": null,
            "justify_items": null,
            "left": null,
            "margin": null,
            "max_height": null,
            "max_width": null,
            "min_height": null,
            "min_width": null,
            "object_fit": null,
            "object_position": null,
            "order": null,
            "overflow": null,
            "overflow_x": null,
            "overflow_y": null,
            "padding": null,
            "right": null,
            "top": null,
            "visibility": null,
            "width": null
          }
        },
        "9779a4bad5c94555aa082ccf58630b51": {
          "model_module": "@jupyter-widgets/controls",
          "model_module_version": "1.5.0",
          "model_name": "HTMLModel",
          "state": {
            "_dom_classes": [],
            "_model_module": "@jupyter-widgets/controls",
            "_model_module_version": "1.5.0",
            "_model_name": "HTMLModel",
            "_view_count": null,
            "_view_module": "@jupyter-widgets/controls",
            "_view_module_version": "1.5.0",
            "_view_name": "HTMLView",
            "description": "",
            "description_tooltip": null,
            "layout": "IPY_MODEL_eb12afc7692b4fbd8debf6f87d888980",
            "placeholder": "​",
            "style": "IPY_MODEL_040465d1960d4eaeaa65572cf8ed1231",
            "value": " 570/570 [00:00&lt;00:00, 28.7kB/s]"
          }
        },
        "99ed9c5f423943eea2f187e54bdb04dd": {
          "model_module": "@jupyter-widgets/controls",
          "model_module_version": "1.5.0",
          "model_name": "DescriptionStyleModel",
          "state": {
            "_model_module": "@jupyter-widgets/controls",
            "_model_module_version": "1.5.0",
            "_model_name": "DescriptionStyleModel",
            "_view_count": null,
            "_view_module": "@jupyter-widgets/base",
            "_view_module_version": "1.2.0",
            "_view_name": "StyleView",
            "description_width": ""
          }
        },
        "9bb90847e34542bda08fd8d550614d74": {
          "model_module": "@jupyter-widgets/controls",
          "model_module_version": "1.5.0",
          "model_name": "HTMLModel",
          "state": {
            "_dom_classes": [],
            "_model_module": "@jupyter-widgets/controls",
            "_model_module_version": "1.5.0",
            "_model_name": "HTMLModel",
            "_view_count": null,
            "_view_module": "@jupyter-widgets/controls",
            "_view_module_version": "1.5.0",
            "_view_name": "HTMLView",
            "description": "",
            "description_tooltip": null,
            "layout": "IPY_MODEL_933d9d614e0c4e76a4c8073c5a0b0c03",
            "placeholder": "​",
            "style": "IPY_MODEL_ab2666f9921f46e3898b627ddd2ae689",
            "value": " 28.0/28.0 [00:00&lt;00:00, 1.27kB/s]"
          }
        },
        "9e5d900668d147d0848c448ce888f17c": {
          "model_module": "@jupyter-widgets/controls",
          "model_module_version": "1.5.0",
          "model_name": "HTMLModel",
          "state": {
            "_dom_classes": [],
            "_model_module": "@jupyter-widgets/controls",
            "_model_module_version": "1.5.0",
            "_model_name": "HTMLModel",
            "_view_count": null,
            "_view_module": "@jupyter-widgets/controls",
            "_view_module_version": "1.5.0",
            "_view_name": "HTMLView",
            "description": "",
            "description_tooltip": null,
            "layout": "IPY_MODEL_599deb0796354bb1a74b08121a47a979",
            "placeholder": "​",
            "style": "IPY_MODEL_350bd6d53f5a4c3e927a86a6d44468da",
            "value": " 232k/232k [00:00&lt;00:00, 1.81MB/s]"
          }
        },
        "9f3c15a3f71e4eefa33c4e08b0719eca": {
          "model_module": "@jupyter-widgets/controls",
          "model_module_version": "1.5.0",
          "model_name": "DescriptionStyleModel",
          "state": {
            "_model_module": "@jupyter-widgets/controls",
            "_model_module_version": "1.5.0",
            "_model_name": "DescriptionStyleModel",
            "_view_count": null,
            "_view_module": "@jupyter-widgets/base",
            "_view_module_version": "1.2.0",
            "_view_name": "StyleView",
            "description_width": ""
          }
        },
        "a128d5a8f5814f78ac87a7241e4ab3ea": {
          "model_module": "@jupyter-widgets/controls",
          "model_module_version": "1.5.0",
          "model_name": "HTMLModel",
          "state": {
            "_dom_classes": [],
            "_model_module": "@jupyter-widgets/controls",
            "_model_module_version": "1.5.0",
            "_model_name": "HTMLModel",
            "_view_count": null,
            "_view_module": "@jupyter-widgets/controls",
            "_view_module_version": "1.5.0",
            "_view_name": "HTMLView",
            "description": "",
            "description_tooltip": null,
            "layout": "IPY_MODEL_650d6e9f03fe4cd7b60c2a048e54afc3",
            "placeholder": "​",
            "style": "IPY_MODEL_d8778f7595c5476190ae7cb020adb42e",
            "value": "Downloading (…)lve/main/config.json: 100%"
          }
        },
        "ab2666f9921f46e3898b627ddd2ae689": {
          "model_module": "@jupyter-widgets/controls",
          "model_module_version": "1.5.0",
          "model_name": "DescriptionStyleModel",
          "state": {
            "_model_module": "@jupyter-widgets/controls",
            "_model_module_version": "1.5.0",
            "_model_name": "DescriptionStyleModel",
            "_view_count": null,
            "_view_module": "@jupyter-widgets/base",
            "_view_module_version": "1.2.0",
            "_view_name": "StyleView",
            "description_width": ""
          }
        },
        "aeb43211c38547ccb741da4cea7225cb": {
          "model_module": "@jupyter-widgets/base",
          "model_module_version": "1.2.0",
          "model_name": "LayoutModel",
          "state": {
            "_model_module": "@jupyter-widgets/base",
            "_model_module_version": "1.2.0",
            "_model_name": "LayoutModel",
            "_view_count": null,
            "_view_module": "@jupyter-widgets/base",
            "_view_module_version": "1.2.0",
            "_view_name": "LayoutView",
            "align_content": null,
            "align_items": null,
            "align_self": null,
            "border": null,
            "bottom": null,
            "display": null,
            "flex": null,
            "flex_flow": null,
            "grid_area": null,
            "grid_auto_columns": null,
            "grid_auto_flow": null,
            "grid_auto_rows": null,
            "grid_column": null,
            "grid_gap": null,
            "grid_row": null,
            "grid_template_areas": null,
            "grid_template_columns": null,
            "grid_template_rows": null,
            "height": null,
            "justify_content": null,
            "justify_items": null,
            "left": null,
            "margin": null,
            "max_height": null,
            "max_width": null,
            "min_height": null,
            "min_width": null,
            "object_fit": null,
            "object_position": null,
            "order": null,
            "overflow": null,
            "overflow_x": null,
            "overflow_y": null,
            "padding": null,
            "right": null,
            "top": null,
            "visibility": null,
            "width": null
          }
        },
        "b33363088a2b43b3948120fbf09f47d7": {
          "model_module": "@jupyter-widgets/controls",
          "model_module_version": "1.5.0",
          "model_name": "ProgressStyleModel",
          "state": {
            "_model_module": "@jupyter-widgets/controls",
            "_model_module_version": "1.5.0",
            "_model_name": "ProgressStyleModel",
            "_view_count": null,
            "_view_module": "@jupyter-widgets/base",
            "_view_module_version": "1.2.0",
            "_view_name": "StyleView",
            "bar_color": null,
            "description_width": ""
          }
        },
        "bb78f61dddf743af881f062b1f22884c": {
          "model_module": "@jupyter-widgets/controls",
          "model_module_version": "1.5.0",
          "model_name": "FloatProgressModel",
          "state": {
            "_dom_classes": [],
            "_model_module": "@jupyter-widgets/controls",
            "_model_module_version": "1.5.0",
            "_model_name": "FloatProgressModel",
            "_view_count": null,
            "_view_module": "@jupyter-widgets/controls",
            "_view_module_version": "1.5.0",
            "_view_name": "ProgressView",
            "bar_style": "success",
            "description": "",
            "description_tooltip": null,
            "layout": "IPY_MODEL_aeb43211c38547ccb741da4cea7225cb",
            "max": 466062,
            "min": 0,
            "orientation": "horizontal",
            "style": "IPY_MODEL_b33363088a2b43b3948120fbf09f47d7",
            "value": 466062
          }
        },
        "bf3ad183e4044f2a99bd2beb085ed111": {
          "model_module": "@jupyter-widgets/controls",
          "model_module_version": "1.5.0",
          "model_name": "HBoxModel",
          "state": {
            "_dom_classes": [],
            "_model_module": "@jupyter-widgets/controls",
            "_model_module_version": "1.5.0",
            "_model_name": "HBoxModel",
            "_view_count": null,
            "_view_module": "@jupyter-widgets/controls",
            "_view_module_version": "1.5.0",
            "_view_name": "HBoxView",
            "box_style": "",
            "children": [
              "IPY_MODEL_e3e327cc111b42aba502e7609548b719",
              "IPY_MODEL_f11660c92fd644959aae03bb0789c18e",
              "IPY_MODEL_9bb90847e34542bda08fd8d550614d74"
            ],
            "layout": "IPY_MODEL_ef1b461f1d13425dae3a15cdc01a9a73"
          }
        },
        "c26c1953dc224718973bdc616b1913ae": {
          "model_module": "@jupyter-widgets/controls",
          "model_module_version": "1.5.0",
          "model_name": "ProgressStyleModel",
          "state": {
            "_model_module": "@jupyter-widgets/controls",
            "_model_module_version": "1.5.0",
            "_model_name": "ProgressStyleModel",
            "_view_count": null,
            "_view_module": "@jupyter-widgets/base",
            "_view_module_version": "1.2.0",
            "_view_name": "StyleView",
            "bar_color": null,
            "description_width": ""
          }
        },
        "cd8b705879ee4fa59f14b9a4ed2b65f6": {
          "model_module": "@jupyter-widgets/controls",
          "model_module_version": "1.5.0",
          "model_name": "FloatProgressModel",
          "state": {
            "_dom_classes": [],
            "_model_module": "@jupyter-widgets/controls",
            "_model_module_version": "1.5.0",
            "_model_name": "FloatProgressModel",
            "_view_count": null,
            "_view_module": "@jupyter-widgets/controls",
            "_view_module_version": "1.5.0",
            "_view_name": "ProgressView",
            "bar_style": "success",
            "description": "",
            "description_tooltip": null,
            "layout": "IPY_MODEL_3bf03c4c2ce14a559bb616135b8ed5ce",
            "max": 570,
            "min": 0,
            "orientation": "horizontal",
            "style": "IPY_MODEL_6087aea434d44d618189b195f1e008c2",
            "value": 570
          }
        },
        "cec6cb080a364b509bbc176936616dce": {
          "model_module": "@jupyter-widgets/base",
          "model_module_version": "1.2.0",
          "model_name": "LayoutModel",
          "state": {
            "_model_module": "@jupyter-widgets/base",
            "_model_module_version": "1.2.0",
            "_model_name": "LayoutModel",
            "_view_count": null,
            "_view_module": "@jupyter-widgets/base",
            "_view_module_version": "1.2.0",
            "_view_name": "LayoutView",
            "align_content": null,
            "align_items": null,
            "align_self": null,
            "border": null,
            "bottom": null,
            "display": null,
            "flex": null,
            "flex_flow": null,
            "grid_area": null,
            "grid_auto_columns": null,
            "grid_auto_flow": null,
            "grid_auto_rows": null,
            "grid_column": null,
            "grid_gap": null,
            "grid_row": null,
            "grid_template_areas": null,
            "grid_template_columns": null,
            "grid_template_rows": null,
            "height": null,
            "justify_content": null,
            "justify_items": null,
            "left": null,
            "margin": null,
            "max_height": null,
            "max_width": null,
            "min_height": null,
            "min_width": null,
            "object_fit": null,
            "object_position": null,
            "order": null,
            "overflow": null,
            "overflow_x": null,
            "overflow_y": null,
            "padding": null,
            "right": null,
            "top": null,
            "visibility": null,
            "width": null
          }
        },
        "cede591e8dd24216ae7baf1fb8aab610": {
          "model_module": "@jupyter-widgets/controls",
          "model_module_version": "1.5.0",
          "model_name": "FloatProgressModel",
          "state": {
            "_dom_classes": [],
            "_model_module": "@jupyter-widgets/controls",
            "_model_module_version": "1.5.0",
            "_model_name": "FloatProgressModel",
            "_view_count": null,
            "_view_module": "@jupyter-widgets/controls",
            "_view_module_version": "1.5.0",
            "_view_name": "ProgressView",
            "bar_style": "success",
            "description": "",
            "description_tooltip": null,
            "layout": "IPY_MODEL_cec6cb080a364b509bbc176936616dce",
            "max": 231508,
            "min": 0,
            "orientation": "horizontal",
            "style": "IPY_MODEL_77f0353476e64556ac345dc304e0b75b",
            "value": 231508
          }
        },
        "d0f7357fa1d3459db92e06b38d0d63ab": {
          "model_module": "@jupyter-widgets/base",
          "model_module_version": "1.2.0",
          "model_name": "LayoutModel",
          "state": {
            "_model_module": "@jupyter-widgets/base",
            "_model_module_version": "1.2.0",
            "_model_name": "LayoutModel",
            "_view_count": null,
            "_view_module": "@jupyter-widgets/base",
            "_view_module_version": "1.2.0",
            "_view_name": "LayoutView",
            "align_content": null,
            "align_items": null,
            "align_self": null,
            "border": null,
            "bottom": null,
            "display": null,
            "flex": null,
            "flex_flow": null,
            "grid_area": null,
            "grid_auto_columns": null,
            "grid_auto_flow": null,
            "grid_auto_rows": null,
            "grid_column": null,
            "grid_gap": null,
            "grid_row": null,
            "grid_template_areas": null,
            "grid_template_columns": null,
            "grid_template_rows": null,
            "height": null,
            "justify_content": null,
            "justify_items": null,
            "left": null,
            "margin": null,
            "max_height": null,
            "max_width": null,
            "min_height": null,
            "min_width": null,
            "object_fit": null,
            "object_position": null,
            "order": null,
            "overflow": null,
            "overflow_x": null,
            "overflow_y": null,
            "padding": null,
            "right": null,
            "top": null,
            "visibility": null,
            "width": null
          }
        },
        "d43a982255524bcea87228600c20a788": {
          "model_module": "@jupyter-widgets/controls",
          "model_module_version": "1.5.0",
          "model_name": "HBoxModel",
          "state": {
            "_dom_classes": [],
            "_model_module": "@jupyter-widgets/controls",
            "_model_module_version": "1.5.0",
            "_model_name": "HBoxModel",
            "_view_count": null,
            "_view_module": "@jupyter-widgets/controls",
            "_view_module_version": "1.5.0",
            "_view_name": "HBoxView",
            "box_style": "",
            "children": [
              "IPY_MODEL_eab5066629ca4698882d053c45a67eaf",
              "IPY_MODEL_bb78f61dddf743af881f062b1f22884c",
              "IPY_MODEL_79e4e6cf4fa94d0496d3b7dfaff2f6b7"
            ],
            "layout": "IPY_MODEL_343ffc14dd344a719004edfdf8d188e5"
          }
        },
        "d5df6829d5f0430eadc5155cf3c9bc58": {
          "model_module": "@jupyter-widgets/base",
          "model_module_version": "1.2.0",
          "model_name": "LayoutModel",
          "state": {
            "_model_module": "@jupyter-widgets/base",
            "_model_module_version": "1.2.0",
            "_model_name": "LayoutModel",
            "_view_count": null,
            "_view_module": "@jupyter-widgets/base",
            "_view_module_version": "1.2.0",
            "_view_name": "LayoutView",
            "align_content": null,
            "align_items": null,
            "align_self": null,
            "border": null,
            "bottom": null,
            "display": null,
            "flex": null,
            "flex_flow": null,
            "grid_area": null,
            "grid_auto_columns": null,
            "grid_auto_flow": null,
            "grid_auto_rows": null,
            "grid_column": null,
            "grid_gap": null,
            "grid_row": null,
            "grid_template_areas": null,
            "grid_template_columns": null,
            "grid_template_rows": null,
            "height": null,
            "justify_content": null,
            "justify_items": null,
            "left": null,
            "margin": null,
            "max_height": null,
            "max_width": null,
            "min_height": null,
            "min_width": null,
            "object_fit": null,
            "object_position": null,
            "order": null,
            "overflow": null,
            "overflow_x": null,
            "overflow_y": null,
            "padding": null,
            "right": null,
            "top": null,
            "visibility": null,
            "width": null
          }
        },
        "d8778f7595c5476190ae7cb020adb42e": {
          "model_module": "@jupyter-widgets/controls",
          "model_module_version": "1.5.0",
          "model_name": "DescriptionStyleModel",
          "state": {
            "_model_module": "@jupyter-widgets/controls",
            "_model_module_version": "1.5.0",
            "_model_name": "DescriptionStyleModel",
            "_view_count": null,
            "_view_module": "@jupyter-widgets/base",
            "_view_module_version": "1.2.0",
            "_view_name": "StyleView",
            "description_width": ""
          }
        },
        "e3e327cc111b42aba502e7609548b719": {
          "model_module": "@jupyter-widgets/controls",
          "model_module_version": "1.5.0",
          "model_name": "HTMLModel",
          "state": {
            "_dom_classes": [],
            "_model_module": "@jupyter-widgets/controls",
            "_model_module_version": "1.5.0",
            "_model_name": "HTMLModel",
            "_view_count": null,
            "_view_module": "@jupyter-widgets/controls",
            "_view_module_version": "1.5.0",
            "_view_name": "HTMLView",
            "description": "",
            "description_tooltip": null,
            "layout": "IPY_MODEL_fb128d68c90e4b42a5fbed61044a7ad0",
            "placeholder": "​",
            "style": "IPY_MODEL_99ed9c5f423943eea2f187e54bdb04dd",
            "value": "Downloading (…)okenizer_config.json: 100%"
          }
        },
        "e56697a20d8b44558b5183988d62fd84": {
          "model_module": "@jupyter-widgets/controls",
          "model_module_version": "1.5.0",
          "model_name": "DescriptionStyleModel",
          "state": {
            "_model_module": "@jupyter-widgets/controls",
            "_model_module_version": "1.5.0",
            "_model_name": "DescriptionStyleModel",
            "_view_count": null,
            "_view_module": "@jupyter-widgets/base",
            "_view_module_version": "1.2.0",
            "_view_name": "StyleView",
            "description_width": ""
          }
        },
        "eab5066629ca4698882d053c45a67eaf": {
          "model_module": "@jupyter-widgets/controls",
          "model_module_version": "1.5.0",
          "model_name": "HTMLModel",
          "state": {
            "_dom_classes": [],
            "_model_module": "@jupyter-widgets/controls",
            "_model_module_version": "1.5.0",
            "_model_name": "HTMLModel",
            "_view_count": null,
            "_view_module": "@jupyter-widgets/controls",
            "_view_module_version": "1.5.0",
            "_view_name": "HTMLView",
            "description": "",
            "description_tooltip": null,
            "layout": "IPY_MODEL_d0f7357fa1d3459db92e06b38d0d63ab",
            "placeholder": "​",
            "style": "IPY_MODEL_9f3c15a3f71e4eefa33c4e08b0719eca",
            "value": "Downloading (…)/main/tokenizer.json: 100%"
          }
        },
        "eb12afc7692b4fbd8debf6f87d888980": {
          "model_module": "@jupyter-widgets/base",
          "model_module_version": "1.2.0",
          "model_name": "LayoutModel",
          "state": {
            "_model_module": "@jupyter-widgets/base",
            "_model_module_version": "1.2.0",
            "_model_name": "LayoutModel",
            "_view_count": null,
            "_view_module": "@jupyter-widgets/base",
            "_view_module_version": "1.2.0",
            "_view_name": "LayoutView",
            "align_content": null,
            "align_items": null,
            "align_self": null,
            "border": null,
            "bottom": null,
            "display": null,
            "flex": null,
            "flex_flow": null,
            "grid_area": null,
            "grid_auto_columns": null,
            "grid_auto_flow": null,
            "grid_auto_rows": null,
            "grid_column": null,
            "grid_gap": null,
            "grid_row": null,
            "grid_template_areas": null,
            "grid_template_columns": null,
            "grid_template_rows": null,
            "height": null,
            "justify_content": null,
            "justify_items": null,
            "left": null,
            "margin": null,
            "max_height": null,
            "max_width": null,
            "min_height": null,
            "min_width": null,
            "object_fit": null,
            "object_position": null,
            "order": null,
            "overflow": null,
            "overflow_x": null,
            "overflow_y": null,
            "padding": null,
            "right": null,
            "top": null,
            "visibility": null,
            "width": null
          }
        },
        "ef1b461f1d13425dae3a15cdc01a9a73": {
          "model_module": "@jupyter-widgets/base",
          "model_module_version": "1.2.0",
          "model_name": "LayoutModel",
          "state": {
            "_model_module": "@jupyter-widgets/base",
            "_model_module_version": "1.2.0",
            "_model_name": "LayoutModel",
            "_view_count": null,
            "_view_module": "@jupyter-widgets/base",
            "_view_module_version": "1.2.0",
            "_view_name": "LayoutView",
            "align_content": null,
            "align_items": null,
            "align_self": null,
            "border": null,
            "bottom": null,
            "display": null,
            "flex": null,
            "flex_flow": null,
            "grid_area": null,
            "grid_auto_columns": null,
            "grid_auto_flow": null,
            "grid_auto_rows": null,
            "grid_column": null,
            "grid_gap": null,
            "grid_row": null,
            "grid_template_areas": null,
            "grid_template_columns": null,
            "grid_template_rows": null,
            "height": null,
            "justify_content": null,
            "justify_items": null,
            "left": null,
            "margin": null,
            "max_height": null,
            "max_width": null,
            "min_height": null,
            "min_width": null,
            "object_fit": null,
            "object_position": null,
            "order": null,
            "overflow": null,
            "overflow_x": null,
            "overflow_y": null,
            "padding": null,
            "right": null,
            "top": null,
            "visibility": null,
            "width": null
          }
        },
        "f11660c92fd644959aae03bb0789c18e": {
          "model_module": "@jupyter-widgets/controls",
          "model_module_version": "1.5.0",
          "model_name": "FloatProgressModel",
          "state": {
            "_dom_classes": [],
            "_model_module": "@jupyter-widgets/controls",
            "_model_module_version": "1.5.0",
            "_model_name": "FloatProgressModel",
            "_view_count": null,
            "_view_module": "@jupyter-widgets/controls",
            "_view_module_version": "1.5.0",
            "_view_name": "ProgressView",
            "bar_style": "success",
            "description": "",
            "description_tooltip": null,
            "layout": "IPY_MODEL_655b45dcb197445bb97d4ffe0f2083c4",
            "max": 28,
            "min": 0,
            "orientation": "horizontal",
            "style": "IPY_MODEL_c26c1953dc224718973bdc616b1913ae",
            "value": 28
          }
        },
        "f34dd67521b543b99b1937bdfbc2f73b": {
          "model_module": "@jupyter-widgets/base",
          "model_module_version": "1.2.0",
          "model_name": "LayoutModel",
          "state": {
            "_model_module": "@jupyter-widgets/base",
            "_model_module_version": "1.2.0",
            "_model_name": "LayoutModel",
            "_view_count": null,
            "_view_module": "@jupyter-widgets/base",
            "_view_module_version": "1.2.0",
            "_view_name": "LayoutView",
            "align_content": null,
            "align_items": null,
            "align_self": null,
            "border": null,
            "bottom": null,
            "display": null,
            "flex": null,
            "flex_flow": null,
            "grid_area": null,
            "grid_auto_columns": null,
            "grid_auto_flow": null,
            "grid_auto_rows": null,
            "grid_column": null,
            "grid_gap": null,
            "grid_row": null,
            "grid_template_areas": null,
            "grid_template_columns": null,
            "grid_template_rows": null,
            "height": null,
            "justify_content": null,
            "justify_items": null,
            "left": null,
            "margin": null,
            "max_height": null,
            "max_width": null,
            "min_height": null,
            "min_width": null,
            "object_fit": null,
            "object_position": null,
            "order": null,
            "overflow": null,
            "overflow_x": null,
            "overflow_y": null,
            "padding": null,
            "right": null,
            "top": null,
            "visibility": null,
            "width": null
          }
        },
        "f78cb9d172c44c81a9c590f5f6ebcefb": {
          "model_module": "@jupyter-widgets/controls",
          "model_module_version": "1.5.0",
          "model_name": "HBoxModel",
          "state": {
            "_dom_classes": [],
            "_model_module": "@jupyter-widgets/controls",
            "_model_module_version": "1.5.0",
            "_model_name": "HBoxModel",
            "_view_count": null,
            "_view_module": "@jupyter-widgets/controls",
            "_view_module_version": "1.5.0",
            "_view_name": "HBoxView",
            "box_style": "",
            "children": [
              "IPY_MODEL_889e396192294c35870061c96b4134f7",
              "IPY_MODEL_cede591e8dd24216ae7baf1fb8aab610",
              "IPY_MODEL_9e5d900668d147d0848c448ce888f17c"
            ],
            "layout": "IPY_MODEL_7e9c5cb660ee492cbf209f7eae334675"
          }
        },
        "fb128d68c90e4b42a5fbed61044a7ad0": {
          "model_module": "@jupyter-widgets/base",
          "model_module_version": "1.2.0",
          "model_name": "LayoutModel",
          "state": {
            "_model_module": "@jupyter-widgets/base",
            "_model_module_version": "1.2.0",
            "_model_name": "LayoutModel",
            "_view_count": null,
            "_view_module": "@jupyter-widgets/base",
            "_view_module_version": "1.2.0",
            "_view_name": "LayoutView",
            "align_content": null,
            "align_items": null,
            "align_self": null,
            "border": null,
            "bottom": null,
            "display": null,
            "flex": null,
            "flex_flow": null,
            "grid_area": null,
            "grid_auto_columns": null,
            "grid_auto_flow": null,
            "grid_auto_rows": null,
            "grid_column": null,
            "grid_gap": null,
            "grid_row": null,
            "grid_template_areas": null,
            "grid_template_columns": null,
            "grid_template_rows": null,
            "height": null,
            "justify_content": null,
            "justify_items": null,
            "left": null,
            "margin": null,
            "max_height": null,
            "max_width": null,
            "min_height": null,
            "min_width": null,
            "object_fit": null,
            "object_position": null,
            "order": null,
            "overflow": null,
            "overflow_x": null,
            "overflow_y": null,
            "padding": null,
            "right": null,
            "top": null,
            "visibility": null,
            "width": null
          }
        },
        "fcc88a1faba3465ea1af188e00b10fc9": {
          "model_module": "@jupyter-widgets/base",
          "model_module_version": "1.2.0",
          "model_name": "LayoutModel",
          "state": {
            "_model_module": "@jupyter-widgets/base",
            "_model_module_version": "1.2.0",
            "_model_name": "LayoutModel",
            "_view_count": null,
            "_view_module": "@jupyter-widgets/base",
            "_view_module_version": "1.2.0",
            "_view_name": "LayoutView",
            "align_content": null,
            "align_items": null,
            "align_self": null,
            "border": null,
            "bottom": null,
            "display": null,
            "flex": null,
            "flex_flow": null,
            "grid_area": null,
            "grid_auto_columns": null,
            "grid_auto_flow": null,
            "grid_auto_rows": null,
            "grid_column": null,
            "grid_gap": null,
            "grid_row": null,
            "grid_template_areas": null,
            "grid_template_columns": null,
            "grid_template_rows": null,
            "height": null,
            "justify_content": null,
            "justify_items": null,
            "left": null,
            "margin": null,
            "max_height": null,
            "max_width": null,
            "min_height": null,
            "min_width": null,
            "object_fit": null,
            "object_position": null,
            "order": null,
            "overflow": null,
            "overflow_x": null,
            "overflow_y": null,
            "padding": null,
            "right": null,
            "top": null,
            "visibility": null,
            "width": null
          }
        }
      }
    }
  },
  "nbformat": 4,
  "nbformat_minor": 0
}